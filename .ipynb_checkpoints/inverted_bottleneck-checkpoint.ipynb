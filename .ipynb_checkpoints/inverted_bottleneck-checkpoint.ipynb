{
 "cells": [
  {
   "cell_type": "code",
   "execution_count": 2,
   "id": "ad9b723d-48bb-49d8-8c0d-4fda99631a92",
   "metadata": {},
   "outputs": [
    {
     "name": "stdout",
     "output_type": "stream",
     "text": [
      "cuda cuda\n",
      "Files already downloaded and verified\n",
      "Files already downloaded and verified\n"
     ]
    }
   ],
   "source": [
    "import torch\n",
    "import torchvision\n",
    "import matplotlib.pyplot as plt\n",
    "import numpy as np\n",
    "from torch.utils.tensorboard import SummaryWriter\n",
    "from datetime import datetime\n",
    "\n",
    "import torch.nn as nn\n",
    "import torch.nn.functional as F\n",
    "\n",
    "from utils import *\n",
    "\n",
    "device = torch.device(\"cuda\" if torch.cuda.is_available() else \"cpu\")\n",
    "\n",
    "print(device, device.type)\n",
    "\n",
    "trainset = torchvision.datasets.CIFAR10(root='./data', train=True, download=True, transform=torchvision.transforms.ToTensor())\n",
    "testset = torchvision.datasets.CIFAR10(root='./data', train=False, download=True, transform=torchvision.transforms.ToTensor())"
   ]
  },
  {
   "cell_type": "code",
   "execution_count": 3,
   "id": "afd1e1d7-abda-419b-80c2-4b7967fbae92",
   "metadata": {},
   "outputs": [
    {
     "name": "stdout",
     "output_type": "stream",
     "text": [
      "Sun Dec  8 15:06:09 2024       \n",
      "+-----------------------------------------------------------------------------------------+\n",
      "| NVIDIA-SMI 550.120                Driver Version: 550.120        CUDA Version: 12.4     |\n",
      "|-----------------------------------------+------------------------+----------------------+\n",
      "| GPU  Name                 Persistence-M | Bus-Id          Disp.A | Volatile Uncorr. ECC |\n",
      "| Fan  Temp   Perf          Pwr:Usage/Cap |           Memory-Usage | GPU-Util  Compute M. |\n",
      "|                                         |                        |               MIG M. |\n",
      "|=========================================+========================+======================|\n",
      "|   0  NVIDIA RTX A1000 6GB Lap...    Off |   00000000:01:00.0 Off |                  N/A |\n",
      "| N/A   46C    P8              4W /   45W |    1360MiB /   6144MiB |      0%      Default |\n",
      "|                                         |                        |                  N/A |\n",
      "+-----------------------------------------+------------------------+----------------------+\n",
      "                                                                                         \n",
      "+-----------------------------------------------------------------------------------------+\n",
      "| Processes:                                                                              |\n",
      "|  GPU   GI   CI        PID   Type   Process name                              GPU Memory |\n",
      "|        ID   ID                                                               Usage      |\n",
      "|=========================================================================================|\n",
      "|    0   N/A  N/A      4020      G   /usr/bin/gnome-shell                            1MiB |\n",
      "|    0   N/A  N/A      6395      C   ...ael/miniconda3/envs/work/bin/python       1350MiB |\n",
      "+-----------------------------------------------------------------------------------------+\n"
     ]
    }
   ],
   "source": [
    "%%bash\n",
    "nvidia-smi"
   ]
  },
  {
   "cell_type": "code",
   "execution_count": 4,
   "id": "ea03b0a9-d509-417a-8fb0-7c2645a6c6f1",
   "metadata": {},
   "outputs": [],
   "source": [
    "class BatchNormConv2d(nn.Module):\n",
    "    def __init__(self, in_ch, out_ch, kernel_size=3, stride=1, padding=1, groups=1):\n",
    "        super(BatchNormConv2d, self).__init__()\n",
    "        self.gelu = nn.GELU()\n",
    "        self.conv = nn.Conv2d(in_channels=in_ch, out_channels=out_ch, kernel_size=kernel_size, stride=stride, padding=padding)\n",
    "        self.bn = nn.BatchNorm2d(out_ch)\n",
    "        \n",
    "    def forward(self, x):\n",
    "        return self.gelu(self.bn(self.conv(x)))"
   ]
  },
  {
   "cell_type": "code",
   "execution_count": 5,
   "id": "f8fe9e6f-ac9f-45d3-a0b7-8fdafe09859a",
   "metadata": {},
   "outputs": [],
   "source": [
    "class InvertedBottleneckBlock(nn.Module):\n",
    "    def __init__(self, in_ch, mid_ch, out_ch, ks=3, stride=1):\n",
    "        super(InvertedBottleneckBlock, self).__init__()\n",
    "\n",
    "        self.expand = BatchNormConv2d(in_ch, mid_ch, kernel_size=1, stride=stride, padding=0)\n",
    "        if ks < 3:\n",
    "            raise ValueError(\"The kernel for the depthwise convolution needs to be at least 3x3\")\n",
    "        #the groups should be the input channel here 'mid_ch' when using bigger sized kernels\n",
    "        self.padding = 0 if ks % 2 == 0 else (ks // 2) #handle asymmetric padding since the division works for uneven number here\n",
    "        self.maintain = BatchNormConv2d(mid_ch, mid_ch, kernel_size=ks, groups=mid_ch, padding=self.padding)\n",
    "        self.reduce = BatchNormConv2d(mid_ch, out_ch, kernel_size=1, stride=stride, padding=0)\n",
    "        \n",
    "        self.residual = None\n",
    "        #added dimension projection layer for differeing in and out sizes\n",
    "        if in_ch != out_ch:\n",
    "            self.residual = nn.Conv2d(in_ch, out_ch, kernel_size=1, stride=stride)\n",
    "    def forward(self, x):\n",
    "        res = self.residual(x) if self.residual else x\n",
    "        #print(\"start\", x.shape)\n",
    "        x = self.expand(x)\n",
    "        #print(\"after expand\", x.shape)\n",
    "        x = self.maintain(x)\n",
    "        #print(\"after maintain\", x.shape)\n",
    "        x = self.reduce(x)\n",
    "        #print(\"after reduce\", x.shape)\n",
    "        if x.shape != res.shape:\n",
    "            raise RuntimeError(f\"Shape mismatch: x={x.shape}, res={res.shape}\")\n",
    "        return F.gelu(x + res)"
   ]
  },
  {
   "cell_type": "code",
   "execution_count": 6,
   "id": "3969451d-36da-4285-ba97-f6458021ec5b",
   "metadata": {},
   "outputs": [],
   "source": [
    "class InvertedBottleneckModel(nn.Module):\n",
    "    def __init__(self, in_ch=3, num_classes=10, bottleneck_configs=None):\n",
    "        super(InvertedBottleneckModel, self).__init__()\n",
    "        if bottleneck_configs is None:\n",
    "            bottleneck_configs = [\n",
    "                (3, 16, 32, 3),\n",
    "                (32, 64, 128, 5),\n",
    "                (128, 256, 512, 3),\n",
    "            ]\n",
    "\n",
    "        self.blocks = nn.ModuleList([InvertedBottleneckBlock(*config) for config in bottleneck_configs])\n",
    "        self.pool = nn.MaxPool2d(kernel_size=2, stride=2)\n",
    "        self.mlp = nn.Linear(bottleneck_configs[-1][2]*4*4, num_classes)\n",
    "\n",
    "    def forward(self, x):\n",
    "        for block in self.blocks:\n",
    "            x = block(x)\n",
    "            x = self.pool(x)\n",
    "        \n",
    "        x = torch.flatten(x, 1)\n",
    "        x = self.mlp(x)\n",
    "        \n",
    "        return F.softmax(x, dim=1)"
   ]
  },
  {
   "cell_type": "code",
   "execution_count": 9,
   "id": "b725b09f-c909-4385-923f-9cea31a87750",
   "metadata": {},
   "outputs": [
    {
     "name": "stdout",
     "output_type": "stream",
     "text": [
      "InvertedBottleneckModel(\n",
      "  (blocks): ModuleList(\n",
      "    (0): InvertedBottleneckBlock(\n",
      "      (expand): BatchNormConv2d(\n",
      "        (gelu): GELU(approximate='none')\n",
      "        (conv): Conv2d(3, 16, kernel_size=(1, 1), stride=(1, 1))\n",
      "        (bn): BatchNorm2d(16, eps=1e-05, momentum=0.1, affine=True, track_running_stats=True)\n",
      "      )\n",
      "      (maintain): BatchNormConv2d(\n",
      "        (gelu): GELU(approximate='none')\n",
      "        (conv): Conv2d(16, 16, kernel_size=(3, 3), stride=(1, 1), padding=(1, 1))\n",
      "        (bn): BatchNorm2d(16, eps=1e-05, momentum=0.1, affine=True, track_running_stats=True)\n",
      "      )\n",
      "      (reduce): BatchNormConv2d(\n",
      "        (gelu): GELU(approximate='none')\n",
      "        (conv): Conv2d(16, 32, kernel_size=(1, 1), stride=(1, 1))\n",
      "        (bn): BatchNorm2d(32, eps=1e-05, momentum=0.1, affine=True, track_running_stats=True)\n",
      "      )\n",
      "      (residual): Conv2d(3, 32, kernel_size=(1, 1), stride=(1, 1))\n",
      "    )\n",
      "    (1): InvertedBottleneckBlock(\n",
      "      (expand): BatchNormConv2d(\n",
      "        (gelu): GELU(approximate='none')\n",
      "        (conv): Conv2d(32, 64, kernel_size=(1, 1), stride=(1, 1))\n",
      "        (bn): BatchNorm2d(64, eps=1e-05, momentum=0.1, affine=True, track_running_stats=True)\n",
      "      )\n",
      "      (maintain): BatchNormConv2d(\n",
      "        (gelu): GELU(approximate='none')\n",
      "        (conv): Conv2d(64, 64, kernel_size=(5, 5), stride=(1, 1), padding=(2, 2))\n",
      "        (bn): BatchNorm2d(64, eps=1e-05, momentum=0.1, affine=True, track_running_stats=True)\n",
      "      )\n",
      "      (reduce): BatchNormConv2d(\n",
      "        (gelu): GELU(approximate='none')\n",
      "        (conv): Conv2d(64, 128, kernel_size=(1, 1), stride=(1, 1))\n",
      "        (bn): BatchNorm2d(128, eps=1e-05, momentum=0.1, affine=True, track_running_stats=True)\n",
      "      )\n",
      "      (residual): Conv2d(32, 128, kernel_size=(1, 1), stride=(1, 1))\n",
      "    )\n",
      "    (2): InvertedBottleneckBlock(\n",
      "      (expand): BatchNormConv2d(\n",
      "        (gelu): GELU(approximate='none')\n",
      "        (conv): Conv2d(128, 256, kernel_size=(1, 1), stride=(1, 1))\n",
      "        (bn): BatchNorm2d(256, eps=1e-05, momentum=0.1, affine=True, track_running_stats=True)\n",
      "      )\n",
      "      (maintain): BatchNormConv2d(\n",
      "        (gelu): GELU(approximate='none')\n",
      "        (conv): Conv2d(256, 256, kernel_size=(3, 3), stride=(1, 1), padding=(1, 1))\n",
      "        (bn): BatchNorm2d(256, eps=1e-05, momentum=0.1, affine=True, track_running_stats=True)\n",
      "      )\n",
      "      (reduce): BatchNormConv2d(\n",
      "        (gelu): GELU(approximate='none')\n",
      "        (conv): Conv2d(256, 512, kernel_size=(1, 1), stride=(1, 1))\n",
      "        (bn): BatchNorm2d(512, eps=1e-05, momentum=0.1, affine=True, track_running_stats=True)\n",
      "      )\n",
      "      (residual): Conv2d(128, 512, kernel_size=(1, 1), stride=(1, 1))\n",
      "    )\n",
      "  )\n",
      "  (pool): MaxPool2d(kernel_size=2, stride=2, padding=0, dilation=1, ceil_mode=False)\n",
      "  (mlp): Linear(in_features=8192, out_features=10, bias=True)\n",
      ") Adam (\n",
      "Parameter Group 0\n",
      "    amsgrad: False\n",
      "    betas: (0.9, 0.999)\n",
      "    capturable: False\n",
      "    differentiable: False\n",
      "    eps: 1e-08\n",
      "    foreach: None\n",
      "    fused: None\n",
      "    lr: 0.0001\n",
      "    maximize: False\n",
      "    weight_decay: 0\n",
      ") cuda\n"
     ]
    }
   ],
   "source": [
    "conv_model = InvertedBottleneckModel()\n",
    "if device.type == \"cuda\":\n",
    "    conv_model = conv_model.to('cuda')\n",
    "learning_rate = 0.0001\n",
    "BATCH_SIZE = 128\n",
    "epochs = 20\n",
    "\n",
    "train_loader = torch.utils.data.DataLoader(trainset, batch_size=BATCH_SIZE, shuffle=True, pin_memory=True)\n",
    "test_loader = torch.utils.data.DataLoader(testset, batch_size=BATCH_SIZE, pin_memory=True)\n",
    "\n",
    "#move dataset loader to gpu for each batch all at once to avoid moving memory during training\n",
    "#train_loader = move_dataloader_to_device(train_loader, device)\n",
    "#test_loader = move_dataloader_to_device(test_loader, device)\n",
    "\n",
    "opt = torch.optim.Adam(conv_model.parameters(), lr=learning_rate)\n",
    "print(conv_model, opt, device)"
   ]
  },
  {
   "cell_type": "code",
   "execution_count": null,
   "id": "1797541a-e93c-4f74-8b38-80da3ed2e489",
   "metadata": {},
   "outputs": [],
   "source": [
    "timestamp = datetime.now().strftime('%Y%m%d_%H%M%S')\n",
    "writer = SummaryWriter('runs/fashion_trainer_{}'.format(timestamp))\n",
    "for epoch in range(epochs):\n",
    "    print(f\"Epoch {epoch+1}\")\n",
    "    avg_loss = fit_one_cycle(conv_model, train_loader, opt, epoch, writer, device, flatten=False)\n",
    "    acc = prediction_accuracy(conv_model, test_loader, device, flatten=False)\n",
    "    print(f\"Accuracy: {acc * 100}% ({acc})\\nLoss: {avg_loss}\")"
   ]
  },
  {
   "cell_type": "code",
   "execution_count": 10,
   "id": "30da9711-da99-49db-8f19-7af20dee7658",
   "metadata": {},
   "outputs": [
    {
     "name": "stdout",
     "output_type": "stream",
     "text": [
      "Training configuration 1/3: [(3, 16, 32, 3), (32, 64, 128, 5), (128, 256, 512, 3)]\n",
      "Epoch 1\n"
     ]
    },
    {
     "name": "stderr",
     "output_type": "stream",
     "text": [
      "\n",
      "raining: 100%|███████████████████████████████| 391/391 [00:13<00:00, 28.49it/s]"
     ]
    },
    {
     "name": "stdout",
     "output_type": "stream",
     "text": [
      "Correct: 4260, Total: 10000, Accuracy: 0.43\n",
      "Accuracy: 42.6% (0.426)\n",
      "Loss: 2.044842086340252\n",
      "Epoch 2\n"
     ]
    },
    {
     "name": "stderr",
     "output_type": "stream",
     "text": [
      "\n",
      "raining: 100%|███████████████████████████████| 391/391 [00:13<00:00, 29.43it/s]"
     ]
    },
    {
     "name": "stdout",
     "output_type": "stream",
     "text": [
      "Correct: 4190, Total: 10000, Accuracy: 0.42\n",
      "Accuracy: 41.9% (0.419)\n",
      "Loss: 2.011384650280601\n",
      "Epoch 3\n"
     ]
    },
    {
     "name": "stderr",
     "output_type": "stream",
     "text": [
      "\n",
      "raining: 100%|███████████████████████████████| 391/391 [00:13<00:00, 29.06it/s]"
     ]
    },
    {
     "name": "stdout",
     "output_type": "stream",
     "text": [
      "Correct: 4690, Total: 10000, Accuracy: 0.47\n",
      "Accuracy: 46.9% (0.469)\n",
      "Loss: 1.960647934361508\n",
      "Epoch 4\n"
     ]
    },
    {
     "name": "stderr",
     "output_type": "stream",
     "text": [
      "\n",
      "raining: 100%|███████████████████████████████| 391/391 [00:13<00:00, 29.13it/s]"
     ]
    },
    {
     "name": "stdout",
     "output_type": "stream",
     "text": [
      "Correct: 5262, Total: 10000, Accuracy: 0.53\n",
      "Accuracy: 52.62% (0.5262)\n",
      "Loss: 1.9263364766773425\n",
      "Epoch 5\n"
     ]
    },
    {
     "name": "stderr",
     "output_type": "stream",
     "text": [
      "\n",
      "raining: 100%|███████████████████████████████| 391/391 [00:13<00:00, 28.97it/s]"
     ]
    },
    {
     "name": "stdout",
     "output_type": "stream",
     "text": [
      "Correct: 5335, Total: 10000, Accuracy: 0.53\n",
      "Accuracy: 53.349999999999994% (0.5335)\n",
      "Loss: 1.9120170944615413\n",
      "Epoch 6\n"
     ]
    },
    {
     "name": "stderr",
     "output_type": "stream",
     "text": [
      "\n",
      "raining: 100%|███████████████████████████████| 391/391 [00:13<00:00, 29.04it/s]"
     ]
    },
    {
     "name": "stdout",
     "output_type": "stream",
     "text": [
      "Correct: 5580, Total: 10000, Accuracy: 0.56\n",
      "Accuracy: 55.800000000000004% (0.558)\n",
      "Loss: 1.888701275775307\n",
      "Epoch 7\n"
     ]
    },
    {
     "name": "stderr",
     "output_type": "stream",
     "text": [
      "\n",
      "raining: 100%|███████████████████████████████| 391/391 [00:13<00:00, 29.31it/s]"
     ]
    },
    {
     "name": "stdout",
     "output_type": "stream",
     "text": [
      "Correct: 5664, Total: 10000, Accuracy: 0.57\n",
      "Accuracy: 56.64% (0.5664)\n",
      "Loss: 1.8960458102979159\n",
      "Epoch 8\n"
     ]
    },
    {
     "name": "stderr",
     "output_type": "stream",
     "text": [
      "\n",
      "raining: 100%|███████████████████████████████| 391/391 [00:13<00:00, 29.14it/s]"
     ]
    },
    {
     "name": "stdout",
     "output_type": "stream",
     "text": [
      "Correct: 5939, Total: 10000, Accuracy: 0.59\n",
      "Accuracy: 59.39% (0.5939)\n",
      "Loss: 1.8398846701571816\n",
      "Epoch 9\n"
     ]
    },
    {
     "name": "stderr",
     "output_type": "stream",
     "text": [
      "\n",
      "raining: 100%|███████████████████████████████| 391/391 [00:13<00:00, 29.27it/s]"
     ]
    },
    {
     "name": "stdout",
     "output_type": "stream",
     "text": [
      "Correct: 6570, Total: 10000, Accuracy: 0.66\n",
      "Accuracy: 65.7% (0.657)\n",
      "Loss: 1.7988638877868652\n",
      "Epoch 10\n"
     ]
    },
    {
     "name": "stderr",
     "output_type": "stream",
     "text": [
      "\n",
      "raining: 100%|███████████████████████████████| 391/391 [00:13<00:00, 28.86it/s]"
     ]
    },
    {
     "name": "stdout",
     "output_type": "stream",
     "text": [
      "Correct: 6696, Total: 10000, Accuracy: 0.67\n",
      "Accuracy: 66.96% (0.6696)\n",
      "Loss: 1.7626289882157977\n",
      "Epoch 11\n"
     ]
    },
    {
     "name": "stderr",
     "output_type": "stream",
     "text": [
      "\n",
      "raining: 100%|███████████████████████████████| 391/391 [00:13<00:00, 29.01it/s]"
     ]
    },
    {
     "name": "stdout",
     "output_type": "stream",
     "text": [
      "Correct: 6908, Total: 10000, Accuracy: 0.69\n",
      "Accuracy: 69.08% (0.6908)\n",
      "Loss: 1.752696771370737\n",
      "Epoch 12\n"
     ]
    },
    {
     "name": "stderr",
     "output_type": "stream",
     "text": [
      "\n",
      "raining: 100%|███████████████████████████████| 391/391 [00:13<00:00, 29.30it/s]"
     ]
    },
    {
     "name": "stdout",
     "output_type": "stream",
     "text": [
      "Correct: 7041, Total: 10000, Accuracy: 0.70\n",
      "Accuracy: 70.41% (0.7041)\n",
      "Loss: 1.7160840473676984\n",
      "Epoch 13\n"
     ]
    },
    {
     "name": "stderr",
     "output_type": "stream",
     "text": [
      "\n",
      "raining: 100%|███████████████████████████████| 391/391 [00:13<00:00, 29.20it/s]"
     ]
    },
    {
     "name": "stdout",
     "output_type": "stream",
     "text": [
      "Correct: 7102, Total: 10000, Accuracy: 0.71\n",
      "Accuracy: 71.02000000000001% (0.7102)\n",
      "Loss: 1.7199852529324984\n",
      "Epoch 14\n"
     ]
    },
    {
     "name": "stderr",
     "output_type": "stream",
     "text": [
      "\n",
      "raining: 100%|███████████████████████████████| 391/391 [00:13<00:00, 28.72it/s]"
     ]
    },
    {
     "name": "stdout",
     "output_type": "stream",
     "text": [
      "Correct: 7204, Total: 10000, Accuracy: 0.72\n",
      "Accuracy: 72.04% (0.7204)\n",
      "Loss: 1.6876453223981356\n",
      "Epoch 15\n"
     ]
    },
    {
     "name": "stderr",
     "output_type": "stream",
     "text": [
      "\n",
      "raining: 100%|███████████████████████████████| 391/391 [00:13<00:00, 28.84it/s]"
     ]
    },
    {
     "name": "stdout",
     "output_type": "stream",
     "text": [
      "Correct: 7256, Total: 10000, Accuracy: 0.73\n",
      "Accuracy: 72.56% (0.7256)\n",
      "Loss: 1.6879805389203524\n",
      "Epoch 16\n"
     ]
    },
    {
     "name": "stderr",
     "output_type": "stream",
     "text": [
      "\n",
      "raining: 100%|███████████████████████████████| 391/391 [00:13<00:00, 28.81it/s]"
     ]
    },
    {
     "name": "stdout",
     "output_type": "stream",
     "text": [
      "Correct: 7279, Total: 10000, Accuracy: 0.73\n",
      "Accuracy: 72.78999999999999% (0.7279)\n",
      "Loss: 1.6783240468878495\n",
      "Epoch 17\n"
     ]
    },
    {
     "name": "stderr",
     "output_type": "stream",
     "text": [
      "\n",
      "raining: 100%|███████████████████████████████| 391/391 [00:13<00:00, 29.05it/s]"
     ]
    },
    {
     "name": "stdout",
     "output_type": "stream",
     "text": [
      "Correct: 7423, Total: 10000, Accuracy: 0.74\n",
      "Accuracy: 74.22999999999999% (0.7423)\n",
      "Loss: 1.6412700477399325\n",
      "Epoch 18\n"
     ]
    },
    {
     "name": "stderr",
     "output_type": "stream",
     "text": [
      "\n",
      "raining: 100%|███████████████████████████████| 391/391 [00:13<00:00, 29.01it/s]"
     ]
    },
    {
     "name": "stdout",
     "output_type": "stream",
     "text": [
      "Correct: 7501, Total: 10000, Accuracy: 0.75\n",
      "Accuracy: 75.01% (0.7501)\n",
      "Loss: 1.631757849141171\n",
      "Epoch 19\n"
     ]
    },
    {
     "name": "stderr",
     "output_type": "stream",
     "text": [
      "\n",
      "raining: 100%|███████████████████████████████| 391/391 [00:13<00:00, 29.05it/s]"
     ]
    },
    {
     "name": "stdout",
     "output_type": "stream",
     "text": [
      "Correct: 7443, Total: 10000, Accuracy: 0.74\n",
      "Accuracy: 74.42999999999999% (0.7443)\n",
      "Loss: 1.6493856718665676\n",
      "Epoch 20\n"
     ]
    },
    {
     "name": "stderr",
     "output_type": "stream",
     "text": [
      "\n",
      "raining: 100%|███████████████████████████████| 391/391 [00:13<00:00, 29.17it/s]"
     ]
    },
    {
     "name": "stdout",
     "output_type": "stream",
     "text": [
      "Correct: 7544, Total: 10000, Accuracy: 0.75\n",
      "Accuracy: 75.44% (0.7544)\n",
      "Loss: 1.610388900104322\n",
      "Configuration 1: Accuracy = 0.7561\n",
      "Training configuration 2/3: [(3, 16, 32, 3), (32, 32, 64, 3), (64, 128, 128, 3)]\n",
      "Epoch 1\n"
     ]
    },
    {
     "name": "stderr",
     "output_type": "stream",
     "text": [
      "\n",
      "raining: 100%|███████████████████████████████| 391/391 [00:09<00:00, 41.25it/s]"
     ]
    },
    {
     "name": "stdout",
     "output_type": "stream",
     "text": [
      "Correct: 5817, Total: 10000, Accuracy: 0.58\n",
      "Accuracy: 58.17% (0.5817)\n",
      "Loss: 1.8739488124847412\n",
      "Epoch 2\n"
     ]
    },
    {
     "name": "stderr",
     "output_type": "stream",
     "text": [
      "\n",
      "raining: 100%|███████████████████████████████| 391/391 [00:09<00:00, 42.67it/s]"
     ]
    },
    {
     "name": "stdout",
     "output_type": "stream",
     "text": [
      "Correct: 6375, Total: 10000, Accuracy: 0.64\n",
      "Accuracy: 63.74999999999999% (0.6375)\n",
      "Loss: 1.815960300596137\n",
      "Epoch 3\n"
     ]
    },
    {
     "name": "stderr",
     "output_type": "stream",
     "text": [
      "\n",
      "raining: 100%|███████████████████████████████| 391/391 [00:09<00:00, 42.33it/s]"
     ]
    },
    {
     "name": "stdout",
     "output_type": "stream",
     "text": [
      "Correct: 6987, Total: 10000, Accuracy: 0.70\n",
      "Accuracy: 69.87% (0.6987)\n",
      "Loss: 1.7530378981640464\n",
      "Epoch 4\n"
     ]
    },
    {
     "name": "stderr",
     "output_type": "stream",
     "text": [
      "\n",
      "raining: 100%|███████████████████████████████| 391/391 [00:09<00:00, 41.73it/s]"
     ]
    },
    {
     "name": "stdout",
     "output_type": "stream",
     "text": [
      "Correct: 7140, Total: 10000, Accuracy: 0.71\n",
      "Accuracy: 71.39999999999999% (0.714)\n",
      "Loss: 1.735082701632851\n",
      "Epoch 5\n"
     ]
    },
    {
     "name": "stderr",
     "output_type": "stream",
     "text": [
      "\n",
      "raining: 100%|███████████████████████████████| 391/391 [00:09<00:00, 42.72it/s]"
     ]
    },
    {
     "name": "stdout",
     "output_type": "stream",
     "text": [
      "Correct: 7220, Total: 10000, Accuracy: 0.72\n",
      "Accuracy: 72.2% (0.722)\n",
      "Loss: 1.7132525193063837\n",
      "Epoch 6\n"
     ]
    },
    {
     "name": "stderr",
     "output_type": "stream",
     "text": [
      "\n",
      "raining: 100%|███████████████████████████████| 391/391 [00:09<00:00, 42.85it/s]"
     ]
    },
    {
     "name": "stdout",
     "output_type": "stream",
     "text": [
      "Correct: 7384, Total: 10000, Accuracy: 0.74\n",
      "Accuracy: 73.83999999999999% (0.7384)\n",
      "Loss: 1.6915536867944818\n",
      "Epoch 7\n"
     ]
    },
    {
     "name": "stderr",
     "output_type": "stream",
     "text": [
      "\n",
      "raining: 100%|███████████████████████████████| 391/391 [00:08<00:00, 43.46it/s]"
     ]
    },
    {
     "name": "stdout",
     "output_type": "stream",
     "text": [
      "Correct: 7512, Total: 10000, Accuracy: 0.75\n",
      "Accuracy: 75.12% (0.7512)\n",
      "Loss: 1.6617448831859387\n",
      "Epoch 8\n"
     ]
    },
    {
     "name": "stderr",
     "output_type": "stream",
     "text": [
      "\n",
      "raining: 100%|███████████████████████████████| 391/391 [00:09<00:00, 41.43it/s]"
     ]
    },
    {
     "name": "stdout",
     "output_type": "stream",
     "text": [
      "Correct: 7546, Total: 10000, Accuracy: 0.75\n",
      "Accuracy: 75.46000000000001% (0.7546)\n",
      "Loss: 1.6347864991740177\n",
      "Epoch 9\n"
     ]
    },
    {
     "name": "stderr",
     "output_type": "stream",
     "text": [
      "\n",
      "raining: 100%|███████████████████████████████| 391/391 [00:09<00:00, 42.83it/s]"
     ]
    },
    {
     "name": "stdout",
     "output_type": "stream",
     "text": [
      "Correct: 7532, Total: 10000, Accuracy: 0.75\n",
      "Accuracy: 75.32% (0.7532)\n",
      "Loss: 1.633476589855395\n",
      "Epoch 10\n"
     ]
    },
    {
     "name": "stderr",
     "output_type": "stream",
     "text": [
      "\n",
      "raining: 100%|███████████████████████████████| 391/391 [00:09<00:00, 43.20it/s]"
     ]
    },
    {
     "name": "stdout",
     "output_type": "stream",
     "text": [
      "Correct: 7659, Total: 10000, Accuracy: 0.77\n",
      "Accuracy: 76.59% (0.7659)\n",
      "Loss: 1.6176657237504657\n",
      "Epoch 11\n"
     ]
    },
    {
     "name": "stderr",
     "output_type": "stream",
     "text": [
      "\n",
      "raining: 100%|███████████████████████████████| 391/391 [00:09<00:00, 43.31it/s]"
     ]
    },
    {
     "name": "stdout",
     "output_type": "stream",
     "text": [
      "Correct: 7699, Total: 10000, Accuracy: 0.77\n",
      "Accuracy: 76.99000000000001% (0.7699)\n",
      "Loss: 1.6001524486039813\n",
      "Epoch 12\n"
     ]
    },
    {
     "name": "stderr",
     "output_type": "stream",
     "text": [
      "\n",
      "raining: 100%|███████████████████████████████| 391/391 [00:09<00:00, 42.80it/s]"
     ]
    },
    {
     "name": "stdout",
     "output_type": "stream",
     "text": [
      "Correct: 7720, Total: 10000, Accuracy: 0.77\n",
      "Accuracy: 77.2% (0.772)\n",
      "Loss: 1.6038385817879124\n",
      "Epoch 13\n"
     ]
    },
    {
     "name": "stderr",
     "output_type": "stream",
     "text": [
      "\n",
      "raining: 100%|███████████████████████████████| 391/391 [00:09<00:00, 42.52it/s]"
     ]
    },
    {
     "name": "stdout",
     "output_type": "stream",
     "text": [
      "Correct: 7750, Total: 10000, Accuracy: 0.78\n",
      "Accuracy: 77.5% (0.775)\n",
      "Loss: 1.5895333039133173\n",
      "Epoch 14\n"
     ]
    },
    {
     "name": "stderr",
     "output_type": "stream",
     "text": [
      "\n",
      "raining: 100%|███████████████████████████████| 391/391 [00:09<00:00, 43.03it/s]"
     ]
    },
    {
     "name": "stdout",
     "output_type": "stream",
     "text": [
      "Correct: 7660, Total: 10000, Accuracy: 0.77\n",
      "Accuracy: 76.6% (0.766)\n",
      "Loss: 1.568912524926035\n",
      "Epoch 15\n"
     ]
    },
    {
     "name": "stderr",
     "output_type": "stream",
     "text": [
      "\n",
      "raining: 100%|███████████████████████████████| 391/391 [00:08<00:00, 44.06it/s]"
     ]
    },
    {
     "name": "stdout",
     "output_type": "stream",
     "text": [
      "Correct: 7709, Total: 10000, Accuracy: 0.77\n",
      "Accuracy: 77.09% (0.7709)\n",
      "Loss: 1.5696760541514347\n",
      "Epoch 16\n"
     ]
    },
    {
     "name": "stderr",
     "output_type": "stream",
     "text": [
      "\n",
      "raining: 100%|███████████████████████████████| 391/391 [00:09<00:00, 43.24it/s]"
     ]
    },
    {
     "name": "stdout",
     "output_type": "stream",
     "text": [
      "Correct: 7712, Total: 10000, Accuracy: 0.77\n",
      "Accuracy: 77.12% (0.7712)\n",
      "Loss: 1.570615906464426\n",
      "Epoch 17\n"
     ]
    },
    {
     "name": "stderr",
     "output_type": "stream",
     "text": [
      "\n",
      "raining: 100%|███████████████████████████████| 391/391 [00:09<00:00, 43.36it/s]"
     ]
    },
    {
     "name": "stdout",
     "output_type": "stream",
     "text": [
      "Correct: 7752, Total: 10000, Accuracy: 0.78\n",
      "Accuracy: 77.52% (0.7752)\n",
      "Loss: 1.551848618607772\n",
      "Epoch 18\n"
     ]
    },
    {
     "name": "stderr",
     "output_type": "stream",
     "text": [
      "\n",
      "raining: 100%|███████████████████████████████| 391/391 [00:09<00:00, 43.12it/s]"
     ]
    },
    {
     "name": "stdout",
     "output_type": "stream",
     "text": [
      "Correct: 7772, Total: 10000, Accuracy: 0.78\n",
      "Accuracy: 77.72% (0.7772)\n",
      "Loss: 1.5401316755696346\n",
      "Epoch 19\n"
     ]
    },
    {
     "name": "stderr",
     "output_type": "stream",
     "text": [
      "\n",
      "raining: 100%|███████████████████████████████| 391/391 [00:08<00:00, 43.61it/s]"
     ]
    },
    {
     "name": "stdout",
     "output_type": "stream",
     "text": [
      "Correct: 7615, Total: 10000, Accuracy: 0.76\n",
      "Accuracy: 76.14999999999999% (0.7615)\n",
      "Loss: 1.5491471102363186\n",
      "Epoch 20\n"
     ]
    },
    {
     "name": "stderr",
     "output_type": "stream",
     "text": [
      "\n",
      "raining: 100%|███████████████████████████████| 391/391 [00:08<00:00, 43.89it/s]"
     ]
    },
    {
     "name": "stdout",
     "output_type": "stream",
     "text": [
      "Correct: 7734, Total: 10000, Accuracy: 0.77\n",
      "Accuracy: 77.34% (0.7734)\n",
      "Loss: 1.5454176287902028\n",
      "Configuration 2: Accuracy = 0.7769\n",
      "Training configuration 3/3: [(3, 32, 64, 5), (64, 128, 256, 5), (256, 512, 1024, 5)]\n",
      "Epoch 1\n"
     ]
    },
    {
     "name": "stderr",
     "output_type": "stream",
     "text": [
      "\n",
      "raining: 100%|███████████████████████████████| 391/391 [00:37<00:00, 10.41it/s]"
     ]
    },
    {
     "name": "stdout",
     "output_type": "stream",
     "text": [
      "Correct: 3484, Total: 10000, Accuracy: 0.35\n",
      "Accuracy: 34.839999999999996% (0.3484)\n",
      "Loss: 2.122241133137753\n",
      "Epoch 2\n"
     ]
    },
    {
     "name": "stderr",
     "output_type": "stream",
     "text": [
      "\n",
      "raining: 100%|███████████████████████████████| 391/391 [00:37<00:00, 10.35it/s]"
     ]
    },
    {
     "name": "stdout",
     "output_type": "stream",
     "text": [
      "Correct: 3483, Total: 10000, Accuracy: 0.35\n",
      "Accuracy: 34.83% (0.3483)\n",
      "Loss: 2.060584457297074\n",
      "Epoch 3\n"
     ]
    },
    {
     "name": "stderr",
     "output_type": "stream",
     "text": [
      "\n",
      "raining: 100%|███████████████████████████████| 391/391 [00:37<00:00, 10.33it/s]"
     ]
    },
    {
     "name": "stdout",
     "output_type": "stream",
     "text": [
      "Correct: 3837, Total: 10000, Accuracy: 0.38\n",
      "Accuracy: 38.37% (0.3837)\n",
      "Loss: 2.066728253113596\n",
      "Epoch 4\n"
     ]
    },
    {
     "name": "stderr",
     "output_type": "stream",
     "text": [
      "\n",
      "raining: 100%|███████████████████████████████| 391/391 [00:37<00:00, 10.31it/s]"
     ]
    },
    {
     "name": "stdout",
     "output_type": "stream",
     "text": [
      "Correct: 3924, Total: 10000, Accuracy: 0.39\n",
      "Accuracy: 39.24% (0.3924)\n",
      "Loss: 2.067378326466209\n",
      "Epoch 5\n"
     ]
    },
    {
     "name": "stderr",
     "output_type": "stream",
     "text": [
      "\n",
      "raining: 100%|███████████████████████████████| 391/391 [00:37<00:00, 10.33it/s]"
     ]
    },
    {
     "name": "stdout",
     "output_type": "stream",
     "text": [
      "Correct: 3501, Total: 10000, Accuracy: 0.35\n",
      "Accuracy: 35.010000000000005% (0.3501)\n",
      "Loss: 2.076095982601768\n",
      "Epoch 6\n"
     ]
    },
    {
     "name": "stderr",
     "output_type": "stream",
     "text": [
      "\n",
      "raining: 100%|███████████████████████████████| 391/391 [00:37<00:00, 10.31it/s]"
     ]
    },
    {
     "name": "stdout",
     "output_type": "stream",
     "text": [
      "Correct: 3769, Total: 10000, Accuracy: 0.38\n",
      "Accuracy: 37.69% (0.3769)\n",
      "Loss: 2.0706961280421208\n",
      "Epoch 7\n"
     ]
    },
    {
     "name": "stderr",
     "output_type": "stream",
     "text": [
      "\n",
      "raining: 100%|███████████████████████████████| 391/391 [00:37<00:00, 10.34it/s]"
     ]
    },
    {
     "name": "stdout",
     "output_type": "stream",
     "text": [
      "Correct: 3653, Total: 10000, Accuracy: 0.37\n",
      "Accuracy: 36.53% (0.3653)\n",
      "Loss: 2.0660409927368164\n",
      "Epoch 8\n"
     ]
    },
    {
     "name": "stderr",
     "output_type": "stream",
     "text": [
      "\n",
      "raining: 100%|███████████████████████████████| 391/391 [00:37<00:00, 10.36it/s]"
     ]
    },
    {
     "name": "stdout",
     "output_type": "stream",
     "text": [
      "Correct: 3692, Total: 10000, Accuracy: 0.37\n",
      "Accuracy: 36.919999999999995% (0.3692)\n",
      "Loss: 2.085370791585822\n",
      "Epoch 9\n"
     ]
    },
    {
     "name": "stderr",
     "output_type": "stream",
     "text": [
      "\n",
      "raining: 100%|███████████████████████████████| 391/391 [00:37<00:00, 10.41it/s]"
     ]
    },
    {
     "name": "stdout",
     "output_type": "stream",
     "text": [
      "Correct: 4107, Total: 10000, Accuracy: 0.41\n",
      "Accuracy: 41.07% (0.4107)\n",
      "Loss: 2.0611336858649003\n",
      "Epoch 10\n"
     ]
    },
    {
     "name": "stderr",
     "output_type": "stream",
     "text": [
      "\n",
      "raining: 100%|███████████████████████████████| 391/391 [00:37<00:00, 10.48it/s]"
     ]
    },
    {
     "name": "stdout",
     "output_type": "stream",
     "text": [
      "Correct: 4020, Total: 10000, Accuracy: 0.40\n",
      "Accuracy: 40.2% (0.402)\n",
      "Loss: 2.0691215866490413\n",
      "Epoch 11\n"
     ]
    },
    {
     "name": "stderr",
     "output_type": "stream",
     "text": [
      "\n",
      "raining: 100%|███████████████████████████████| 391/391 [00:37<00:00, 10.48it/s]"
     ]
    },
    {
     "name": "stdout",
     "output_type": "stream",
     "text": [
      "Correct: 3932, Total: 10000, Accuracy: 0.39\n",
      "Accuracy: 39.32% (0.3932)\n",
      "Loss: 2.0782691177568937\n",
      "Epoch 12\n"
     ]
    },
    {
     "name": "stderr",
     "output_type": "stream",
     "text": [
      "\n",
      "raining: 100%|███████████████████████████████| 391/391 [00:37<00:00, 10.48it/s]"
     ]
    },
    {
     "name": "stdout",
     "output_type": "stream",
     "text": [
      "Correct: 4111, Total: 10000, Accuracy: 0.41\n",
      "Accuracy: 41.11% (0.4111)\n",
      "Loss: 2.049823020633898\n",
      "Epoch 13\n"
     ]
    },
    {
     "name": "stderr",
     "output_type": "stream",
     "text": [
      "\n",
      "raining: 100%|███████████████████████████████| 391/391 [00:37<00:00, 10.47it/s]"
     ]
    },
    {
     "name": "stdout",
     "output_type": "stream",
     "text": [
      "Correct: 3867, Total: 10000, Accuracy: 0.39\n",
      "Accuracy: 38.67% (0.3867)\n",
      "Loss: 2.0791739288129305\n",
      "Epoch 14\n"
     ]
    },
    {
     "name": "stderr",
     "output_type": "stream",
     "text": [
      "\n",
      "raining: 100%|███████████████████████████████| 391/391 [00:37<00:00, 10.46it/s]"
     ]
    },
    {
     "name": "stdout",
     "output_type": "stream",
     "text": [
      "Correct: 3994, Total: 10000, Accuracy: 0.40\n",
      "Accuracy: 39.94% (0.3994)\n",
      "Loss: 2.0423301521100496\n",
      "Epoch 15\n"
     ]
    },
    {
     "name": "stderr",
     "output_type": "stream",
     "text": [
      "\n",
      "raining: 100%|███████████████████████████████| 391/391 [00:37<00:00, 10.48it/s]"
     ]
    },
    {
     "name": "stdout",
     "output_type": "stream",
     "text": [
      "Correct: 3845, Total: 10000, Accuracy: 0.38\n",
      "Accuracy: 38.45% (0.3845)\n",
      "Loss: 2.087024713817396\n",
      "Epoch 16\n"
     ]
    },
    {
     "name": "stderr",
     "output_type": "stream",
     "text": [
      "\n",
      "raining: 100%|███████████████████████████████| 391/391 [00:37<00:00, 10.49it/s]"
     ]
    },
    {
     "name": "stdout",
     "output_type": "stream",
     "text": [
      "Correct: 4107, Total: 10000, Accuracy: 0.41\n",
      "Accuracy: 41.07% (0.4107)\n",
      "Loss: 2.066435588033576\n",
      "Epoch 17\n"
     ]
    },
    {
     "name": "stderr",
     "output_type": "stream",
     "text": [
      "\n",
      "raining: 100%|███████████████████████████████| 391/391 [00:37<00:00, 10.49it/s]"
     ]
    },
    {
     "name": "stdout",
     "output_type": "stream",
     "text": [
      "Correct: 3814, Total: 10000, Accuracy: 0.38\n",
      "Accuracy: 38.14% (0.3814)\n",
      "Loss: 2.073916849337126\n",
      "Epoch 18\n"
     ]
    },
    {
     "name": "stderr",
     "output_type": "stream",
     "text": [
      "\n",
      "raining: 100%|███████████████████████████████| 391/391 [00:37<00:00, 10.48it/s]"
     ]
    },
    {
     "name": "stdout",
     "output_type": "stream",
     "text": [
      "Correct: 3743, Total: 10000, Accuracy: 0.37\n",
      "Accuracy: 37.43% (0.3743)\n",
      "Loss: 2.0774422319311845\n",
      "Epoch 19\n"
     ]
    },
    {
     "name": "stderr",
     "output_type": "stream",
     "text": [
      "\n",
      "raining: 100%|███████████████████████████████| 391/391 [00:37<00:00, 10.49it/s]"
     ]
    },
    {
     "name": "stdout",
     "output_type": "stream",
     "text": [
      "Correct: 3350, Total: 10000, Accuracy: 0.34\n",
      "Accuracy: 33.5% (0.335)\n",
      "Loss: 2.0966429208454334\n",
      "Epoch 20\n"
     ]
    },
    {
     "name": "stderr",
     "output_type": "stream",
     "text": [
      "\n",
      "raining: 100%|███████████████████████████████| 391/391 [00:37<00:00, 10.48it/s]"
     ]
    },
    {
     "name": "stdout",
     "output_type": "stream",
     "text": [
      "Correct: 4200, Total: 10000, Accuracy: 0.42\n",
      "Accuracy: 42.0% (0.42)\n",
      "Loss: 2.0372430901778373\n",
      "Configuration 3: Accuracy = 0.4243\n",
      "\n",
      "Best Configuration: [(3, 16, 32, 3), (32, 32, 64, 3), (64, 128, 128, 3)]\n",
      "Best Accuracy: 0.7769\n"
     ]
    }
   ],
   "source": [
    "#testing multiple configs\n",
    "model_configs = [\n",
    "    [(3, 16, 32, 3), (32, 64, 128, 5), (128, 256, 512, 3)],  # Default config\n",
    "    [(3, 16, 32, 3), (32, 32, 64, 3), (64, 128, 128, 3)],    # Smaller mid-channels\n",
    "    [(3, 32, 64, 5), (64, 128, 256, 5), (256, 512, 1024, 5)], # Larger kernel sizes\n",
    "]\n",
    "\n",
    "best_accuracy = 0\n",
    "best_config = None\n",
    "\n",
    "epochs = 20\n",
    "\n",
    "for idx, bottleneck_config in enumerate(model_configs):\n",
    "    print(f\"Training configuration {idx + 1}/{len(model_configs)}: {bottleneck_config}\")\n",
    "    \n",
    "    conv_model = InvertedBottleneckModel(in_ch=3, num_classes=10, bottleneck_configs=bottleneck_config).to(device)\n",
    "    if device.type == \"cuda\":\n",
    "        conv_model = conv_model.to('cuda')\n",
    "    \n",
    "    opt = torch.optim.Adam(conv_model.parameters(), lr=0.001)\n",
    "    criterion = nn.CrossEntropyLoss()\n",
    "    BATCH_SIZE = 128\n",
    "\n",
    "    timestamp = datetime.now().strftime('%Y%m%d_%H%M%S')\n",
    "    writer = SummaryWriter('runs/inverted_bottleneck_trainer_{}_{}'.format(idx, timestamp))\n",
    "\n",
    "    acc = 0\n",
    "    for epoch in range(epochs):\n",
    "        print(f\"Epoch {epoch+1}\")\n",
    "        avg_loss = fit_one_cycle(conv_model, train_loader, opt, epoch, writer, device, flatten=False)\n",
    "        acc = prediction_accuracy(conv_model, test_loader, device, flatten=False)\n",
    "        print(f\"Accuracy: {acc * 100}% ({acc})\\nLoss: {avg_loss}\")\n",
    "\n",
    "    conv_model.eval()\n",
    "    correct = 0\n",
    "    total = 0\n",
    "    with torch.no_grad():\n",
    "        for inputs, targets in test_loader:\n",
    "            inputs, targets = inputs.to(device), targets.to(device)\n",
    "            outputs = conv_model(inputs)\n",
    "            _, predicted = torch.max(outputs, 1)\n",
    "            total += targets.size(0)\n",
    "            correct += (predicted == targets).sum().item()\n",
    "    \n",
    "    accuracy = correct / total\n",
    "    print(f\"Configuration {idx + 1}: Accuracy = {accuracy:.4f}\")\n",
    "    \n",
    "    if accuracy > best_accuracy:\n",
    "        best_accuracy = accuracy\n",
    "        best_config = bottleneck_config\n",
    "\n",
    "print(\"\\nBest Configuration:\", best_config)\n",
    "print(\"Best Accuracy:\", best_accuracy)\n"
   ]
  },
  {
   "cell_type": "code",
   "execution_count": null,
   "id": "f6ade8d7-c813-4f06-ac04-e945cd5732fe",
   "metadata": {},
   "outputs": [
    {
     "name": "stdout",
     "output_type": "stream",
     "text": [
      "Epoch 1\n"
     ]
    },
    {
     "name": "stderr",
     "output_type": "stream",
     "text": [
      "\n",
      "raining: 100%|███████████████████████████████| 391/391 [00:09<00:00, 39.33it/s]"
     ]
    },
    {
     "name": "stdout",
     "output_type": "stream",
     "text": [
      "Correct: 4670, Total: 10000, Accuracy: 0.47\n",
      "Accuracy: 46.7% (0.467)\n",
      "Loss: 2.0116328628439653\n"
     ]
    },
    {
     "name": "stderr",
     "output_type": "stream",
     "text": [
      "\n",
      "alidation: 100%|███████████████████████████████| 79/79 [00:01<00:00, 77.51it/s]"
     ]
    },
    {
     "name": "stdout",
     "output_type": "stream",
     "text": [
      "LOSS train 2.0116328628439653 valid 1.9843546152114868\n",
      "Saving model\n",
      "Epoch 2\n"
     ]
    },
    {
     "name": "stderr",
     "output_type": "stream",
     "text": [
      "\n",
      "raining: 100%|███████████████████████████████| 391/391 [00:09<00:00, 39.73it/s]"
     ]
    },
    {
     "name": "stdout",
     "output_type": "stream",
     "text": [
      "Correct: 5313, Total: 10000, Accuracy: 0.53\n",
      "Accuracy: 53.13% (0.5313)\n",
      "Loss: 1.9522223974529065\n"
     ]
    },
    {
     "name": "stderr",
     "output_type": "stream",
     "text": [
      "\n",
      "alidation: 100%|███████████████████████████████| 79/79 [00:00<00:00, 79.93it/s]"
     ]
    },
    {
     "name": "stdout",
     "output_type": "stream",
     "text": [
      "LOSS train 1.9522223974529065 valid 1.9229406118392944\n",
      "Saving model\n",
      "Epoch 3\n"
     ]
    },
    {
     "name": "stderr",
     "output_type": "stream",
     "text": [
      "\n",
      "raining: 100%|███████████████████████████████| 391/391 [00:10<00:00, 39.06it/s]"
     ]
    },
    {
     "name": "stdout",
     "output_type": "stream",
     "text": [
      "Correct: 5581, Total: 10000, Accuracy: 0.56\n",
      "Accuracy: 55.81% (0.5581)\n",
      "Loss: 1.9036559744885093\n"
     ]
    },
    {
     "name": "stderr",
     "output_type": "stream",
     "text": [
      "\n",
      "alidation: 100%|███████████████████████████████| 79/79 [00:01<00:00, 75.57it/s]"
     ]
    },
    {
     "name": "stdout",
     "output_type": "stream",
     "text": [
      "LOSS train 1.9036559744885093 valid 1.8916205167770386\n",
      "Saving model\n",
      "Epoch 4\n"
     ]
    },
    {
     "name": "stderr",
     "output_type": "stream",
     "text": [
      "\n",
      "raining: 100%|███████████████████████████████| 391/391 [00:10<00:00, 38.98it/s]"
     ]
    },
    {
     "name": "stdout",
     "output_type": "stream",
     "text": [
      "Correct: 5693, Total: 10000, Accuracy: 0.57\n",
      "Accuracy: 56.93% (0.5693)\n",
      "Loss: 1.8688307373147262\n"
     ]
    },
    {
     "name": "stderr",
     "output_type": "stream",
     "text": [
      "\n",
      "alidation: 100%|███████████████████████████████| 79/79 [00:00<00:00, 84.66it/s]"
     ]
    },
    {
     "name": "stdout",
     "output_type": "stream",
     "text": [
      "LOSS train 1.8688307373147262 valid 1.8766107559204102\n",
      "Saving model\n",
      "Epoch 5\n"
     ]
    },
    {
     "name": "stderr",
     "output_type": "stream",
     "text": [
      "\n",
      "raining: 100%|███████████████████████████████| 391/391 [00:09<00:00, 42.00it/s]"
     ]
    },
    {
     "name": "stdout",
     "output_type": "stream",
     "text": [
      "Correct: 6286, Total: 10000, Accuracy: 0.63\n",
      "Accuracy: 62.86000000000001% (0.6286)\n",
      "Loss: 1.8216626455909328\n"
     ]
    },
    {
     "name": "stderr",
     "output_type": "stream",
     "text": [
      "\n",
      "alidation: 100%|███████████████████████████████| 79/79 [00:01<00:00, 76.10it/s]"
     ]
    },
    {
     "name": "stdout",
     "output_type": "stream",
     "text": [
      "LOSS train 1.8216626455909328 valid 1.823302149772644\n",
      "Saving model\n",
      "Epoch 6\n"
     ]
    },
    {
     "name": "stderr",
     "output_type": "stream",
     "text": [
      "\n",
      "raining: 100%|███████████████████████████████| 391/391 [00:09<00:00, 40.05it/s]"
     ]
    },
    {
     "name": "stdout",
     "output_type": "stream",
     "text": [
      "Correct: 6546, Total: 10000, Accuracy: 0.65\n",
      "Accuracy: 65.46% (0.6546)\n",
      "Loss: 1.800830740677683\n"
     ]
    },
    {
     "name": "stderr",
     "output_type": "stream",
     "text": [
      "\n",
      "alidation: 100%|███████████████████████████████| 79/79 [00:00<00:00, 88.33it/s]"
     ]
    },
    {
     "name": "stdout",
     "output_type": "stream",
     "text": [
      "LOSS train 1.800830740677683 valid 1.8005326986312866\n",
      "Saving model\n",
      "Epoch 7\n"
     ]
    },
    {
     "name": "stderr",
     "output_type": "stream",
     "text": [
      "\n",
      "raining: 100%|███████████████████████████████| 391/391 [00:09<00:00, 42.28it/s]"
     ]
    },
    {
     "name": "stdout",
     "output_type": "stream",
     "text": [
      "Correct: 6676, Total: 10000, Accuracy: 0.67\n",
      "Accuracy: 66.75999999999999% (0.6676)\n",
      "Loss: 1.7642273024508828\n"
     ]
    },
    {
     "name": "stderr",
     "output_type": "stream",
     "text": [
      "\n",
      "alidation: 100%|███████████████████████████████| 79/79 [00:00<00:00, 84.49it/s]"
     ]
    },
    {
     "name": "stdout",
     "output_type": "stream",
     "text": [
      "LOSS train 1.7642273024508828 valid 1.786367654800415\n",
      "Saving model\n",
      "Epoch 8\n"
     ]
    },
    {
     "name": "stderr",
     "output_type": "stream",
     "text": [
      "\n",
      "raining: 100%|███████████████████████████████| 391/391 [00:09<00:00, 42.52it/s]"
     ]
    },
    {
     "name": "stdout",
     "output_type": "stream",
     "text": [
      "Correct: 6714, Total: 10000, Accuracy: 0.67\n",
      "Accuracy: 67.14% (0.6714)\n",
      "Loss: 1.7350438833236694\n"
     ]
    },
    {
     "name": "stderr",
     "output_type": "stream",
     "text": [
      "\n",
      "alidation: 100%|███████████████████████████████| 79/79 [00:01<00:00, 70.02it/s]"
     ]
    },
    {
     "name": "stdout",
     "output_type": "stream",
     "text": [
      "LOSS train 1.7350438833236694 valid 1.779754638671875\n",
      "Saving model\n",
      "Epoch 9\n"
     ]
    },
    {
     "name": "stderr",
     "output_type": "stream",
     "text": [
      "\n",
      "raining: 100%|███████████████████████████████| 391/391 [00:10<00:00, 38.75it/s]"
     ]
    },
    {
     "name": "stdout",
     "output_type": "stream",
     "text": [
      "Correct: 6790, Total: 10000, Accuracy: 0.68\n",
      "Accuracy: 67.9% (0.679)\n",
      "Loss: 1.727854571844402\n"
     ]
    },
    {
     "name": "stderr",
     "output_type": "stream",
     "text": [
      "\n",
      "alidation: 100%|███████████████████████████████| 79/79 [00:00<00:00, 84.51it/s]"
     ]
    },
    {
     "name": "stdout",
     "output_type": "stream",
     "text": [
      "LOSS train 1.727854571844402 valid 1.7709789276123047\n",
      "Saving model\n",
      "Epoch 10\n"
     ]
    },
    {
     "name": "stderr",
     "output_type": "stream",
     "text": [
      "\n",
      "raining: 100%|███████████████████████████████| 391/391 [00:09<00:00, 39.35it/s]"
     ]
    },
    {
     "name": "stdout",
     "output_type": "stream",
     "text": [
      "Correct: 6839, Total: 10000, Accuracy: 0.68\n",
      "Accuracy: 68.39% (0.6839)\n",
      "Loss: 1.71670537245901\n"
     ]
    },
    {
     "name": "stderr",
     "output_type": "stream",
     "text": [
      "\n",
      "alidation: 100%|███████████████████████████████| 79/79 [00:00<00:00, 84.88it/s]"
     ]
    },
    {
     "name": "stdout",
     "output_type": "stream",
     "text": [
      "LOSS train 1.71670537245901 valid 1.7663599252700806\n",
      "Saving model\n",
      "Epoch 11\n"
     ]
    },
    {
     "name": "stderr",
     "output_type": "stream",
     "text": [
      "\n",
      "raining: 100%|███████████████████████████████| 391/391 [00:09<00:00, 39.92it/s]"
     ]
    },
    {
     "name": "stdout",
     "output_type": "stream",
     "text": [
      "Correct: 6863, Total: 10000, Accuracy: 0.69\n",
      "Accuracy: 68.63% (0.6863)\n",
      "Loss: 1.7021617199245251\n"
     ]
    },
    {
     "name": "stderr",
     "output_type": "stream",
     "text": [
      "\n",
      "alidation: 100%|███████████████████████████████| 79/79 [00:00<00:00, 83.92it/s]"
     ]
    },
    {
     "name": "stdout",
     "output_type": "stream",
     "text": [
      "LOSS train 1.7021617199245251 valid 1.7630140781402588\n",
      "Saving model\n",
      "Epoch 12\n"
     ]
    },
    {
     "name": "stderr",
     "output_type": "stream",
     "text": [
      "\n",
      "raining: 100%|███████████████████████████████| 391/391 [00:09<00:00, 39.55it/s]"
     ]
    },
    {
     "name": "stdout",
     "output_type": "stream",
     "text": [
      "Correct: 6898, Total: 10000, Accuracy: 0.69\n",
      "Accuracy: 68.97999999999999% (0.6898)\n",
      "Loss: 1.6941731854488975\n"
     ]
    },
    {
     "name": "stderr",
     "output_type": "stream",
     "text": [
      "\n",
      "alidation: 100%|███████████████████████████████| 79/79 [00:00<00:00, 87.06it/s]"
     ]
    },
    {
     "name": "stdout",
     "output_type": "stream",
     "text": [
      "LOSS train 1.6941731854488975 valid 1.7608768939971924\n",
      "Saving model\n",
      "Epoch 13\n"
     ]
    },
    {
     "name": "stderr",
     "output_type": "stream",
     "text": [
      "\n",
      "raining: 100%|███████████████████████████████| 391/391 [00:09<00:00, 40.34it/s]"
     ]
    },
    {
     "name": "stdout",
     "output_type": "stream",
     "text": [
      "Correct: 6952, Total: 10000, Accuracy: 0.70\n",
      "Accuracy: 69.52000000000001% (0.6952)\n",
      "Loss: 1.6766176349238346\n"
     ]
    },
    {
     "name": "stderr",
     "output_type": "stream",
     "text": [
      "\n",
      "alidation: 100%|███████████████████████████████| 79/79 [00:01<00:00, 68.26it/s]"
     ]
    },
    {
     "name": "stdout",
     "output_type": "stream",
     "text": [
      "LOSS train 1.6766176349238346 valid 1.7546366453170776\n",
      "Saving model\n",
      "Epoch 14\n"
     ]
    },
    {
     "name": "stderr",
     "output_type": "stream",
     "text": [
      "\n",
      "raining: 100%|███████████████████████████████| 391/391 [00:09<00:00, 40.84it/s]"
     ]
    },
    {
     "name": "stdout",
     "output_type": "stream",
     "text": [
      "Correct: 6959, Total: 10000, Accuracy: 0.70\n",
      "Accuracy: 69.59% (0.6959)\n",
      "Loss: 1.6784398994947736\n"
     ]
    },
    {
     "name": "stderr",
     "output_type": "stream",
     "text": [
      "\n",
      "alidation: 100%|███████████████████████████████| 79/79 [00:00<00:00, 84.31it/s]"
     ]
    },
    {
     "name": "stdout",
     "output_type": "stream",
     "text": [
      "LOSS train 1.6784398994947736 valid 1.753688097000122\n",
      "Epoch 15\n"
     ]
    },
    {
     "name": "stderr",
     "output_type": "stream",
     "text": [
      "\n",
      "raining: 100%|███████████████████████████████| 391/391 [00:10<00:00, 38.86it/s]"
     ]
    },
    {
     "name": "stdout",
     "output_type": "stream",
     "text": [
      "Correct: 6972, Total: 10000, Accuracy: 0.70\n",
      "Accuracy: 69.72% (0.6972)\n",
      "Loss: 1.6551515177676552\n"
     ]
    },
    {
     "name": "stderr",
     "output_type": "stream",
     "text": [
      "\n",
      "alidation: 100%|███████████████████████████████| 79/79 [00:00<00:00, 86.95it/s]"
     ]
    },
    {
     "name": "stdout",
     "output_type": "stream",
     "text": [
      "LOSS train 1.6551515177676552 valid 1.749606966972351\n",
      "Saving model\n",
      "Epoch 16\n"
     ]
    },
    {
     "name": "stderr",
     "output_type": "stream",
     "text": [
      "\n",
      "raining: 100%|███████████████████████████████| 391/391 [00:09<00:00, 42.21it/s]"
     ]
    },
    {
     "name": "stdout",
     "output_type": "stream",
     "text": [
      "Correct: 6979, Total: 10000, Accuracy: 0.70\n",
      "Accuracy: 69.78999999999999% (0.6979)\n",
      "Loss: 1.6464685201644897\n"
     ]
    },
    {
     "name": "stderr",
     "output_type": "stream",
     "text": [
      "\n",
      "alidation: 100%|███████████████████████████████| 79/79 [00:00<00:00, 85.61it/s]"
     ]
    },
    {
     "name": "stdout",
     "output_type": "stream",
     "text": [
      "LOSS train 1.6464685201644897 valid 1.7464460134506226\n",
      "Saving model\n",
      "Epoch 17\n"
     ]
    },
    {
     "name": "stderr",
     "output_type": "stream",
     "text": [
      "\n",
      "raining: 100%|███████████████████████████████| 391/391 [00:09<00:00, 41.64it/s]"
     ]
    },
    {
     "name": "stdout",
     "output_type": "stream",
     "text": [
      "Correct: 6975, Total: 10000, Accuracy: 0.70\n",
      "Accuracy: 69.75% (0.6975)\n",
      "Loss: 1.6366635623731112\n"
     ]
    },
    {
     "name": "stderr",
     "output_type": "stream",
     "text": [
      "\n",
      "alidation: 100%|███████████████████████████████| 79/79 [00:01<00:00, 71.81it/s]"
     ]
    },
    {
     "name": "stdout",
     "output_type": "stream",
     "text": [
      "LOSS train 1.6366635623731112 valid 1.7474440336227417\n",
      "Saving model\n",
      "Epoch 18\n"
     ]
    },
    {
     "name": "stderr",
     "output_type": "stream",
     "text": [
      "\n",
      "raining: 100%|███████████████████████████████| 391/391 [00:09<00:00, 41.38it/s]"
     ]
    },
    {
     "name": "stdout",
     "output_type": "stream",
     "text": [
      "Correct: 7025, Total: 10000, Accuracy: 0.70\n",
      "Accuracy: 70.25% (0.7025)\n",
      "Loss: 1.6311832352688438\n"
     ]
    },
    {
     "name": "stderr",
     "output_type": "stream",
     "text": [
      "\n",
      "alidation: 100%|███████████████████████████████| 79/79 [00:01<00:00, 74.43it/s]"
     ]
    },
    {
     "name": "stdout",
     "output_type": "stream",
     "text": [
      "LOSS train 1.6311832352688438 valid 1.743212103843689\n",
      "Saving model\n",
      "Epoch 19\n"
     ]
    },
    {
     "name": "stderr",
     "output_type": "stream",
     "text": [
      "\n",
      "raining: 100%|███████████████████████████████| 391/391 [00:09<00:00, 41.06it/s]"
     ]
    },
    {
     "name": "stdout",
     "output_type": "stream",
     "text": [
      "Correct: 7042, Total: 10000, Accuracy: 0.70\n",
      "Accuracy: 70.42% (0.7042)\n",
      "Loss: 1.6223034356769763\n"
     ]
    },
    {
     "name": "stderr",
     "output_type": "stream",
     "text": [
      "\n",
      "alidation: 100%|███████████████████████████████| 79/79 [00:01<00:00, 76.55it/s]"
     ]
    },
    {
     "name": "stdout",
     "output_type": "stream",
     "text": [
      "LOSS train 1.6223034356769763 valid 1.7445515394210815\n",
      "Saving model\n",
      "Epoch 20\n"
     ]
    },
    {
     "name": "stderr",
     "output_type": "stream",
     "text": [
      "\n",
      "raining: 100%|███████████████████████████████| 391/391 [00:09<00:00, 41.28it/s]"
     ]
    },
    {
     "name": "stdout",
     "output_type": "stream",
     "text": [
      "Correct: 7055, Total: 10000, Accuracy: 0.71\n",
      "Accuracy: 70.55% (0.7055)\n",
      "Loss: 1.6138092279434204\n"
     ]
    },
    {
     "name": "stderr",
     "output_type": "stream",
     "text": [
      "\n",
      "alidation: 100%|███████████████████████████████| 79/79 [00:01<00:00, 76.17it/s]"
     ]
    },
    {
     "name": "stdout",
     "output_type": "stream",
     "text": [
      "LOSS train 1.6138092279434204 valid 1.7398490905761719\n",
      "Saving model\n",
      "Epoch 21\n"
     ]
    },
    {
     "name": "stderr",
     "output_type": "stream",
     "text": [
      "\n",
      "raining: 100%|███████████████████████████████| 391/391 [00:09<00:00, 40.87it/s]"
     ]
    },
    {
     "name": "stdout",
     "output_type": "stream",
     "text": [
      "Correct: 7036, Total: 10000, Accuracy: 0.70\n",
      "Accuracy: 70.36% (0.7036)\n",
      "Loss: 1.605806777351781\n"
     ]
    },
    {
     "name": "stderr",
     "output_type": "stream",
     "text": [
      "\n",
      "alidation: 100%|███████████████████████████████| 79/79 [00:01<00:00, 77.25it/s]"
     ]
    },
    {
     "name": "stdout",
     "output_type": "stream",
     "text": [
      "LOSS train 1.605806777351781 valid 1.7413885593414307\n",
      "Saving model\n",
      "Epoch 22\n"
     ]
    },
    {
     "name": "stderr",
     "output_type": "stream",
     "text": [
      "\n",
      "raining: 100%|███████████████████████████████| 391/391 [00:09<00:00, 41.34it/s]"
     ]
    },
    {
     "name": "stdout",
     "output_type": "stream",
     "text": [
      "Correct: 7049, Total: 10000, Accuracy: 0.70\n",
      "Accuracy: 70.49% (0.7049)\n",
      "Loss: 1.6045298011679399\n"
     ]
    },
    {
     "name": "stderr",
     "output_type": "stream",
     "text": [
      "\n",
      "alidation: 100%|███████████████████████████████| 79/79 [00:00<00:00, 79.98it/s]"
     ]
    },
    {
     "name": "stdout",
     "output_type": "stream",
     "text": [
      "LOSS train 1.6045298011679399 valid 1.7402938604354858\n",
      "Saving model\n",
      "Epoch 23\n"
     ]
    },
    {
     "name": "stderr",
     "output_type": "stream",
     "text": [
      "\n",
      "raining: 100%|███████████████████████████████| 391/391 [00:09<00:00, 42.12it/s]"
     ]
    },
    {
     "name": "stdout",
     "output_type": "stream",
     "text": [
      "Correct: 7000, Total: 10000, Accuracy: 0.70\n",
      "Accuracy: 70.0% (0.7)\n",
      "Loss: 1.5903868361523277\n"
     ]
    },
    {
     "name": "stderr",
     "output_type": "stream",
     "text": [
      "\n",
      "alidation: 100%|███████████████████████████████| 79/79 [00:01<00:00, 76.09it/s]"
     ]
    },
    {
     "name": "stdout",
     "output_type": "stream",
     "text": [
      "LOSS train 1.5903868361523277 valid 1.743006706237793\n",
      "Saving model\n",
      "Epoch 24\n"
     ]
    },
    {
     "name": "stderr",
     "output_type": "stream",
     "text": [
      "\n",
      "raining: 100%|███████████████████████████████| 391/391 [00:09<00:00, 40.42it/s]"
     ]
    },
    {
     "name": "stdout",
     "output_type": "stream",
     "text": [
      "Correct: 7051, Total: 10000, Accuracy: 0.71\n",
      "Accuracy: 70.50999999999999% (0.7051)\n",
      "Loss: 1.596183049051385\n"
     ]
    },
    {
     "name": "stderr",
     "output_type": "stream",
     "text": [
      "\n",
      "alidation: 100%|███████████████████████████████| 79/79 [00:01<00:00, 77.61it/s]"
     ]
    },
    {
     "name": "stdout",
     "output_type": "stream",
     "text": [
      "LOSS train 1.596183049051385 valid 1.739232063293457\n",
      "Epoch 25\n"
     ]
    },
    {
     "name": "stderr",
     "output_type": "stream",
     "text": [
      "\n",
      "raining: 100%|███████████████████████████████| 391/391 [00:09<00:00, 41.01it/s]"
     ]
    },
    {
     "name": "stdout",
     "output_type": "stream",
     "text": [
      "Correct: 7049, Total: 10000, Accuracy: 0.70\n",
      "Accuracy: 70.49% (0.7049)\n",
      "Loss: 1.5817251644636456\n"
     ]
    },
    {
     "name": "stderr",
     "output_type": "stream",
     "text": [
      "\n",
      "alidation: 100%|███████████████████████████████| 79/79 [00:00<00:00, 87.42it/s]"
     ]
    },
    {
     "name": "stdout",
     "output_type": "stream",
     "text": [
      "LOSS train 1.5817251644636456 valid 1.7389764785766602\n",
      "Saving model\n",
      "Epoch 26\n"
     ]
    },
    {
     "name": "stderr",
     "output_type": "stream",
     "text": [
      "\n",
      "raining: 100%|███████████████████████████████| 391/391 [00:09<00:00, 41.01it/s]"
     ]
    },
    {
     "name": "stdout",
     "output_type": "stream",
     "text": [
      "Correct: 7065, Total: 10000, Accuracy: 0.71\n",
      "Accuracy: 70.65% (0.7065)\n",
      "Loss: 1.5681042106528031\n"
     ]
    },
    {
     "name": "stderr",
     "output_type": "stream",
     "text": [
      "\n",
      "alidation: 100%|███████████████████████████████| 79/79 [00:01<00:00, 70.60it/s]"
     ]
    },
    {
     "name": "stdout",
     "output_type": "stream",
     "text": [
      "LOSS train 1.5681042106528031 valid 1.7357405424118042\n",
      "Saving model\n",
      "Epoch 27\n"
     ]
    },
    {
     "name": "stderr",
     "output_type": "stream",
     "text": [
      "\n",
      "raining: 100%|███████████████████████████████| 391/391 [00:09<00:00, 40.46it/s]"
     ]
    },
    {
     "name": "stdout",
     "output_type": "stream",
     "text": [
      "Correct: 7081, Total: 10000, Accuracy: 0.71\n",
      "Accuracy: 70.81% (0.7081)\n",
      "Loss: 1.5696278622275905\n"
     ]
    },
    {
     "name": "stderr",
     "output_type": "stream",
     "text": [
      "\n",
      "alidation: 100%|███████████████████████████████| 79/79 [00:01<00:00, 74.80it/s]"
     ]
    },
    {
     "name": "stdout",
     "output_type": "stream",
     "text": [
      "LOSS train 1.5696278622275905 valid 1.7381706237792969\n",
      "Epoch 28\n"
     ]
    },
    {
     "name": "stderr",
     "output_type": "stream",
     "text": [
      "\n",
      "raining: 100%|███████████████████████████████| 391/391 [00:09<00:00, 40.11it/s]"
     ]
    },
    {
     "name": "stdout",
     "output_type": "stream",
     "text": [
      "Correct: 7082, Total: 10000, Accuracy: 0.71\n",
      "Accuracy: 70.82000000000001% (0.7082)\n",
      "Loss: 1.5635075631894564\n"
     ]
    },
    {
     "name": "stderr",
     "output_type": "stream",
     "text": [
      "\n",
      "alidation: 100%|███████████████████████████████| 79/79 [00:01<00:00, 77.21it/s]"
     ]
    },
    {
     "name": "stdout",
     "output_type": "stream",
     "text": [
      "LOSS train 1.5635075631894564 valid 1.7355470657348633\n",
      "Saving model\n",
      "Epoch 29\n"
     ]
    },
    {
     "name": "stderr",
     "output_type": "stream",
     "text": [
      "\n",
      "raining: 100%|███████████████████████████████| 391/391 [00:10<00:00, 38.19it/s]"
     ]
    },
    {
     "name": "stdout",
     "output_type": "stream",
     "text": [
      "Correct: 7067, Total: 10000, Accuracy: 0.71\n",
      "Accuracy: 70.67% (0.7067)\n",
      "Loss: 1.5660095842261064\n"
     ]
    },
    {
     "name": "stderr",
     "output_type": "stream",
     "text": [
      "\n",
      "alidation: 100%|███████████████████████████████| 79/79 [00:01<00:00, 77.21it/s]"
     ]
    },
    {
     "name": "stdout",
     "output_type": "stream",
     "text": [
      "LOSS train 1.5660095842261064 valid 1.7385624647140503\n",
      "Epoch 30\n"
     ]
    },
    {
     "name": "stderr",
     "output_type": "stream",
     "text": [
      "\n",
      "raining: 100%|███████████████████████████████| 391/391 [00:10<00:00, 38.20it/s]"
     ]
    },
    {
     "name": "stdout",
     "output_type": "stream",
     "text": [
      "Correct: 7052, Total: 10000, Accuracy: 0.71\n",
      "Accuracy: 70.52000000000001% (0.7052)\n",
      "Loss: 1.5585252485777203\n"
     ]
    },
    {
     "name": "stderr",
     "output_type": "stream",
     "text": [
      "Validation:   0%|                                        | 0/79 [00:00<?, ?it/s]"
     ]
    }
   ],
   "source": [
    "best_config = [(3, 16, 32, 3), (32, 32, 64, 3), (64, 128, 128, 3)]\n",
    "conv_model = InvertedBottleneckModel(in_ch=3, num_classes=10, bottleneck_configs=best_config).to(device)\n",
    "\n",
    "opt = torch.optim.Adam(conv_model.parameters(), lr=0.001)\n",
    "criterion = nn.CrossEntropyLoss()\n",
    "BATCH_SIZE = 128\n",
    "epochs = 30\n",
    "\n",
    "timestamp = datetime.now().strftime('%Y%m%d_%H%M%S')\n",
    "writer = SummaryWriter('runs/inverted_bottleneck_trainer_validation_{}'.format(timestamp))\n",
    "training_and_validation_loop(conv_model, train_loader, test_loader, epochs, writer, device, opt, timestamp, flatten=False)"
   ]
  },
  {
   "cell_type": "code",
   "execution_count": 11,
   "id": "d509e96e-029b-4c0f-bef8-807faf435a59",
   "metadata": {},
   "outputs": [
    {
     "data": {
      "text/plain": [
       "Reusing TensorBoard on port 6006 (pid 7111), started 12:14:39 ago. (Use '!kill 7111' to kill it.)"
      ]
     },
     "metadata": {},
     "output_type": "display_data"
    },
    {
     "data": {
      "text/html": [
       "\n",
       "      <iframe id=\"tensorboard-frame-50170031adf23f21\" width=\"100%\" height=\"800\" frameborder=\"0\">\n",
       "      </iframe>\n",
       "      <script>\n",
       "        (function() {\n",
       "          const frame = document.getElementById(\"tensorboard-frame-50170031adf23f21\");\n",
       "          const url = new URL(\"/\", window.location);\n",
       "          const port = 6006;\n",
       "          if (port) {\n",
       "            url.port = port;\n",
       "          }\n",
       "          frame.src = url;\n",
       "        })();\n",
       "      </script>\n",
       "    "
      ],
      "text/plain": [
       "<IPython.core.display.HTML object>"
      ]
     },
     "metadata": {},
     "output_type": "display_data"
    }
   ],
   "source": [
    "%load_ext tensorboard\n",
    "%tensorboard --logdir runs"
   ]
  }
 ],
 "metadata": {
  "kernelspec": {
   "display_name": "Python 3 (ipykernel)",
   "language": "python",
   "name": "python3"
  },
  "language_info": {
   "codemirror_mode": {
    "name": "ipython",
    "version": 3
   },
   "file_extension": ".py",
   "mimetype": "text/x-python",
   "name": "python",
   "nbconvert_exporter": "python",
   "pygments_lexer": "ipython3",
   "version": "3.12.7"
  }
 },
 "nbformat": 4,
 "nbformat_minor": 5
}
