{
 "cells": [
  {
   "cell_type": "code",
   "execution_count": 2,
   "id": "ad9b723d-48bb-49d8-8c0d-4fda99631a92",
   "metadata": {},
   "outputs": [
    {
     "name": "stdout",
     "output_type": "stream",
     "text": [
      "cuda cuda\n",
      "Files already downloaded and verified\n",
      "Files already downloaded and verified\n"
     ]
    }
   ],
   "source": [
    "import torch\n",
    "import torchvision\n",
    "import matplotlib.pyplot as plt\n",
    "import numpy as np\n",
    "from torch.utils.tensorboard import SummaryWriter\n",
    "from datetime import datetime\n",
    "\n",
    "import torch.nn as nn\n",
    "import torch.nn.functional as F\n",
    "\n",
    "from utils import *\n",
    "\n",
    "device = torch.device(\"cuda\" if torch.cuda.is_available() else \"cpu\")\n",
    "\n",
    "print(device, device.type)\n",
    "\n",
    "trainset = torchvision.datasets.CIFAR10(root='./data', train=True, download=True, transform=torchvision.transforms.ToTensor())\n",
    "testset = torchvision.datasets.CIFAR10(root='./data', train=False, download=True, transform=torchvision.transforms.ToTensor())"
   ]
  },
  {
   "cell_type": "code",
   "execution_count": 3,
   "id": "afd1e1d7-abda-419b-80c2-4b7967fbae92",
   "metadata": {},
   "outputs": [
    {
     "name": "stdout",
     "output_type": "stream",
     "text": [
      "Sun Dec  8 15:06:09 2024       \n",
      "+-----------------------------------------------------------------------------------------+\n",
      "| NVIDIA-SMI 550.120                Driver Version: 550.120        CUDA Version: 12.4     |\n",
      "|-----------------------------------------+------------------------+----------------------+\n",
      "| GPU  Name                 Persistence-M | Bus-Id          Disp.A | Volatile Uncorr. ECC |\n",
      "| Fan  Temp   Perf          Pwr:Usage/Cap |           Memory-Usage | GPU-Util  Compute M. |\n",
      "|                                         |                        |               MIG M. |\n",
      "|=========================================+========================+======================|\n",
      "|   0  NVIDIA RTX A1000 6GB Lap...    Off |   00000000:01:00.0 Off |                  N/A |\n",
      "| N/A   46C    P8              4W /   45W |    1360MiB /   6144MiB |      0%      Default |\n",
      "|                                         |                        |                  N/A |\n",
      "+-----------------------------------------+------------------------+----------------------+\n",
      "                                                                                         \n",
      "+-----------------------------------------------------------------------------------------+\n",
      "| Processes:                                                                              |\n",
      "|  GPU   GI   CI        PID   Type   Process name                              GPU Memory |\n",
      "|        ID   ID                                                               Usage      |\n",
      "|=========================================================================================|\n",
      "|    0   N/A  N/A      4020      G   /usr/bin/gnome-shell                            1MiB |\n",
      "|    0   N/A  N/A      6395      C   ...ael/miniconda3/envs/work/bin/python       1350MiB |\n",
      "+-----------------------------------------------------------------------------------------+\n"
     ]
    }
   ],
   "source": [
    "%%bash\n",
    "nvidia-smi"
   ]
  },
  {
   "cell_type": "code",
   "execution_count": 4,
   "id": "ea03b0a9-d509-417a-8fb0-7c2645a6c6f1",
   "metadata": {},
   "outputs": [],
   "source": [
    "class BatchNormConv2d(nn.Module):\n",
    "    def __init__(self, in_ch, out_ch, kernel_size=3, stride=1, padding=1, groups=1):\n",
    "        super(BatchNormConv2d, self).__init__()\n",
    "        self.gelu = nn.GELU()\n",
    "        self.conv = nn.Conv2d(in_channels=in_ch, out_channels=out_ch, kernel_size=kernel_size, stride=stride, padding=padding)\n",
    "        self.bn = nn.BatchNorm2d(out_ch)\n",
    "        \n",
    "    def forward(self, x):\n",
    "        return self.gelu(self.bn(self.conv(x)))"
   ]
  },
  {
   "cell_type": "code",
   "execution_count": 5,
   "id": "f8fe9e6f-ac9f-45d3-a0b7-8fdafe09859a",
   "metadata": {},
   "outputs": [],
   "source": [
    "class InvertedBottleneckBlock(nn.Module):\n",
    "    def __init__(self, in_ch, mid_ch, out_ch, ks=3, stride=1):\n",
    "        super(InvertedBottleneckBlock, self).__init__()\n",
    "\n",
    "        self.expand = BatchNormConv2d(in_ch, mid_ch, kernel_size=1, stride=stride, padding=0)\n",
    "        if ks < 3:\n",
    "            raise ValueError(\"The kernel for the depthwise convolution needs to be at least 3x3\")\n",
    "        #the groups should be the input channel here 'mid_ch' when using bigger sized kernels\n",
    "        self.padding = 0 if ks % 2 == 0 else (ks // 2) #handle asymmetric padding since the division works for uneven number here\n",
    "        self.maintain = BatchNormConv2d(mid_ch, mid_ch, kernel_size=ks, groups=mid_ch, padding=self.padding)\n",
    "        self.reduce = BatchNormConv2d(mid_ch, out_ch, kernel_size=1, stride=stride, padding=0)\n",
    "        \n",
    "        self.residual = None\n",
    "        #added dimension projection layer for differeing in and out sizes\n",
    "        if in_ch != out_ch:\n",
    "            self.residual = nn.Conv2d(in_ch, out_ch, kernel_size=1, stride=stride)\n",
    "    def forward(self, x):\n",
    "        res = self.residual(x) if self.residual else x\n",
    "        #print(\"start\", x.shape)\n",
    "        x = self.expand(x)\n",
    "        #print(\"after expand\", x.shape)\n",
    "        x = self.maintain(x)\n",
    "        #print(\"after maintain\", x.shape)\n",
    "        x = self.reduce(x)\n",
    "        #print(\"after reduce\", x.shape)\n",
    "        if x.shape != res.shape:\n",
    "            raise RuntimeError(f\"Shape mismatch: x={x.shape}, res={res.shape}\")\n",
    "        return F.gelu(x + res)"
   ]
  },
  {
   "cell_type": "code",
   "execution_count": 6,
   "id": "3969451d-36da-4285-ba97-f6458021ec5b",
   "metadata": {},
   "outputs": [],
   "source": [
    "class InvertedBottleneckModel(nn.Module):\n",
    "    def __init__(self, in_ch=3, num_classes=10, bottleneck_configs=None):\n",
    "        super(InvertedBottleneckModel, self).__init__()\n",
    "        if bottleneck_configs is None:\n",
    "            bottleneck_configs = [\n",
    "                (3, 16, 32, 3),\n",
    "                (32, 64, 128, 5),\n",
    "                (128, 256, 512, 3),\n",
    "            ]\n",
    "\n",
    "        self.blocks = nn.ModuleList([InvertedBottleneckBlock(*config) for config in bottleneck_configs])\n",
    "        self.pool = nn.MaxPool2d(kernel_size=2, stride=2)\n",
    "        self.mlp = nn.Linear(bottleneck_configs[-1][2]*4*4, num_classes)\n",
    "\n",
    "    def forward(self, x):\n",
    "        for block in self.blocks:\n",
    "            x = block(x)\n",
    "            x = self.pool(x)\n",
    "        \n",
    "        x = torch.flatten(x, 1)\n",
    "        x = self.mlp(x)\n",
    "        \n",
    "        return F.softmax(x, dim=1)"
   ]
  },
  {
   "cell_type": "code",
   "execution_count": 9,
   "id": "b725b09f-c909-4385-923f-9cea31a87750",
   "metadata": {},
   "outputs": [
    {
     "name": "stdout",
     "output_type": "stream",
     "text": [
      "InvertedBottleneckModel(\n",
      "  (blocks): ModuleList(\n",
      "    (0): InvertedBottleneckBlock(\n",
      "      (expand): BatchNormConv2d(\n",
      "        (gelu): GELU(approximate='none')\n",
      "        (conv): Conv2d(3, 16, kernel_size=(1, 1), stride=(1, 1))\n",
      "        (bn): BatchNorm2d(16, eps=1e-05, momentum=0.1, affine=True, track_running_stats=True)\n",
      "      )\n",
      "      (maintain): BatchNormConv2d(\n",
      "        (gelu): GELU(approximate='none')\n",
      "        (conv): Conv2d(16, 16, kernel_size=(3, 3), stride=(1, 1), padding=(1, 1))\n",
      "        (bn): BatchNorm2d(16, eps=1e-05, momentum=0.1, affine=True, track_running_stats=True)\n",
      "      )\n",
      "      (reduce): BatchNormConv2d(\n",
      "        (gelu): GELU(approximate='none')\n",
      "        (conv): Conv2d(16, 32, kernel_size=(1, 1), stride=(1, 1))\n",
      "        (bn): BatchNorm2d(32, eps=1e-05, momentum=0.1, affine=True, track_running_stats=True)\n",
      "      )\n",
      "      (residual): Conv2d(3, 32, kernel_size=(1, 1), stride=(1, 1))\n",
      "    )\n",
      "    (1): InvertedBottleneckBlock(\n",
      "      (expand): BatchNormConv2d(\n",
      "        (gelu): GELU(approximate='none')\n",
      "        (conv): Conv2d(32, 64, kernel_size=(1, 1), stride=(1, 1))\n",
      "        (bn): BatchNorm2d(64, eps=1e-05, momentum=0.1, affine=True, track_running_stats=True)\n",
      "      )\n",
      "      (maintain): BatchNormConv2d(\n",
      "        (gelu): GELU(approximate='none')\n",
      "        (conv): Conv2d(64, 64, kernel_size=(5, 5), stride=(1, 1), padding=(2, 2))\n",
      "        (bn): BatchNorm2d(64, eps=1e-05, momentum=0.1, affine=True, track_running_stats=True)\n",
      "      )\n",
      "      (reduce): BatchNormConv2d(\n",
      "        (gelu): GELU(approximate='none')\n",
      "        (conv): Conv2d(64, 128, kernel_size=(1, 1), stride=(1, 1))\n",
      "        (bn): BatchNorm2d(128, eps=1e-05, momentum=0.1, affine=True, track_running_stats=True)\n",
      "      )\n",
      "      (residual): Conv2d(32, 128, kernel_size=(1, 1), stride=(1, 1))\n",
      "    )\n",
      "    (2): InvertedBottleneckBlock(\n",
      "      (expand): BatchNormConv2d(\n",
      "        (gelu): GELU(approximate='none')\n",
      "        (conv): Conv2d(128, 256, kernel_size=(1, 1), stride=(1, 1))\n",
      "        (bn): BatchNorm2d(256, eps=1e-05, momentum=0.1, affine=True, track_running_stats=True)\n",
      "      )\n",
      "      (maintain): BatchNormConv2d(\n",
      "        (gelu): GELU(approximate='none')\n",
      "        (conv): Conv2d(256, 256, kernel_size=(3, 3), stride=(1, 1), padding=(1, 1))\n",
      "        (bn): BatchNorm2d(256, eps=1e-05, momentum=0.1, affine=True, track_running_stats=True)\n",
      "      )\n",
      "      (reduce): BatchNormConv2d(\n",
      "        (gelu): GELU(approximate='none')\n",
      "        (conv): Conv2d(256, 512, kernel_size=(1, 1), stride=(1, 1))\n",
      "        (bn): BatchNorm2d(512, eps=1e-05, momentum=0.1, affine=True, track_running_stats=True)\n",
      "      )\n",
      "      (residual): Conv2d(128, 512, kernel_size=(1, 1), stride=(1, 1))\n",
      "    )\n",
      "  )\n",
      "  (pool): MaxPool2d(kernel_size=2, stride=2, padding=0, dilation=1, ceil_mode=False)\n",
      "  (mlp): Linear(in_features=8192, out_features=10, bias=True)\n",
      ") Adam (\n",
      "Parameter Group 0\n",
      "    amsgrad: False\n",
      "    betas: (0.9, 0.999)\n",
      "    capturable: False\n",
      "    differentiable: False\n",
      "    eps: 1e-08\n",
      "    foreach: None\n",
      "    fused: None\n",
      "    lr: 0.0001\n",
      "    maximize: False\n",
      "    weight_decay: 0\n",
      ") cuda\n"
     ]
    }
   ],
   "source": [
    "conv_model = InvertedBottleneckModel()\n",
    "if device.type == \"cuda\":\n",
    "    conv_model = conv_model.to('cuda')\n",
    "learning_rate = 0.0001\n",
    "BATCH_SIZE = 128\n",
    "epochs = 20\n",
    "\n",
    "train_loader = torch.utils.data.DataLoader(trainset, batch_size=BATCH_SIZE, shuffle=True, pin_memory=True)\n",
    "test_loader = torch.utils.data.DataLoader(testset, batch_size=BATCH_SIZE, pin_memory=True)\n",
    "\n",
    "#move dataset loader to gpu for each batch all at once to avoid moving memory during training\n",
    "#train_loader = move_dataloader_to_device(train_loader, device)\n",
    "#test_loader = move_dataloader_to_device(test_loader, device)\n",
    "\n",
    "opt = torch.optim.Adam(conv_model.parameters(), lr=learning_rate)\n",
    "print(conv_model, opt, device)"
   ]
  },
  {
   "cell_type": "code",
   "execution_count": null,
   "id": "1797541a-e93c-4f74-8b38-80da3ed2e489",
   "metadata": {},
   "outputs": [],
   "source": [
    "timestamp = datetime.now().strftime('%Y%m%d_%H%M%S')\n",
    "writer = SummaryWriter('runs/fashion_trainer_{}'.format(timestamp))\n",
    "for epoch in range(epochs):\n",
    "    print(f\"Epoch {epoch+1}\")\n",
    "    avg_loss = fit_one_cycle(conv_model, train_loader, opt, epoch, writer, device, flatten=False)\n",
    "    acc = prediction_accuracy(conv_model, test_loader, device, flatten=False)\n",
    "    print(f\"Accuracy: {acc * 100}% ({acc})\\nLoss: {avg_loss}\")"
   ]
  },
  {
   "cell_type": "code",
   "execution_count": 10,
   "id": "30da9711-da99-49db-8f19-7af20dee7658",
   "metadata": {},
   "outputs": [
    {
     "name": "stdout",
     "output_type": "stream",
     "text": [
      "Training configuration 1/3: [(3, 16, 32, 3), (32, 64, 128, 5), (128, 256, 512, 3)]\n",
      "Epoch 1\n"
     ]
    },
    {
     "name": "stderr",
     "output_type": "stream",
     "text": [
      "\n",
      "raining: 100%|███████████████████████████████| 391/391 [00:13<00:00, 28.49it/s]"
     ]
    },
    {
     "name": "stdout",
     "output_type": "stream",
     "text": [
      "Correct: 4260, Total: 10000, Accuracy: 0.43\n",
      "Accuracy: 42.6% (0.426)\n",
      "Loss: 2.044842086340252\n",
      "Epoch 2\n"
     ]
    },
    {
     "name": "stderr",
     "output_type": "stream",
     "text": [
      "\n",
      "raining: 100%|███████████████████████████████| 391/391 [00:13<00:00, 29.43it/s]"
     ]
    },
    {
     "name": "stdout",
     "output_type": "stream",
     "text": [
      "Correct: 4190, Total: 10000, Accuracy: 0.42\n",
      "Accuracy: 41.9% (0.419)\n",
      "Loss: 2.011384650280601\n",
      "Epoch 3\n"
     ]
    },
    {
     "name": "stderr",
     "output_type": "stream",
     "text": [
      "\n",
      "raining: 100%|███████████████████████████████| 391/391 [00:13<00:00, 29.06it/s]"
     ]
    },
    {
     "name": "stdout",
     "output_type": "stream",
     "text": [
      "Correct: 4690, Total: 10000, Accuracy: 0.47\n",
      "Accuracy: 46.9% (0.469)\n",
      "Loss: 1.960647934361508\n",
      "Epoch 4\n"
     ]
    },
    {
     "name": "stderr",
     "output_type": "stream",
     "text": [
      "\n",
      "raining: 100%|███████████████████████████████| 391/391 [00:13<00:00, 29.13it/s]"
     ]
    },
    {
     "name": "stdout",
     "output_type": "stream",
     "text": [
      "Correct: 5262, Total: 10000, Accuracy: 0.53\n",
      "Accuracy: 52.62% (0.5262)\n",
      "Loss: 1.9263364766773425\n",
      "Epoch 5\n"
     ]
    },
    {
     "name": "stderr",
     "output_type": "stream",
     "text": [
      "\n",
      "raining: 100%|███████████████████████████████| 391/391 [00:13<00:00, 28.97it/s]"
     ]
    },
    {
     "name": "stdout",
     "output_type": "stream",
     "text": [
      "Correct: 5335, Total: 10000, Accuracy: 0.53\n",
      "Accuracy: 53.349999999999994% (0.5335)\n",
      "Loss: 1.9120170944615413\n",
      "Epoch 6\n"
     ]
    },
    {
     "name": "stderr",
     "output_type": "stream",
     "text": [
      "\n",
      "raining: 100%|███████████████████████████████| 391/391 [00:13<00:00, 29.04it/s]"
     ]
    },
    {
     "name": "stdout",
     "output_type": "stream",
     "text": [
      "Correct: 5580, Total: 10000, Accuracy: 0.56\n",
      "Accuracy: 55.800000000000004% (0.558)\n",
      "Loss: 1.888701275775307\n",
      "Epoch 7\n"
     ]
    },
    {
     "name": "stderr",
     "output_type": "stream",
     "text": [
      "\n",
      "raining: 100%|███████████████████████████████| 391/391 [00:13<00:00, 29.31it/s]"
     ]
    },
    {
     "name": "stdout",
     "output_type": "stream",
     "text": [
      "Correct: 5664, Total: 10000, Accuracy: 0.57\n",
      "Accuracy: 56.64% (0.5664)\n",
      "Loss: 1.8960458102979159\n",
      "Epoch 8\n"
     ]
    },
    {
     "name": "stderr",
     "output_type": "stream",
     "text": [
      "\n",
      "raining: 100%|███████████████████████████████| 391/391 [00:13<00:00, 29.14it/s]"
     ]
    },
    {
     "name": "stdout",
     "output_type": "stream",
     "text": [
      "Correct: 5939, Total: 10000, Accuracy: 0.59\n",
      "Accuracy: 59.39% (0.5939)\n",
      "Loss: 1.8398846701571816\n",
      "Epoch 9\n"
     ]
    },
    {
     "name": "stderr",
     "output_type": "stream",
     "text": [
      "\n",
      "raining: 100%|███████████████████████████████| 391/391 [00:13<00:00, 29.27it/s]"
     ]
    },
    {
     "name": "stdout",
     "output_type": "stream",
     "text": [
      "Correct: 6570, Total: 10000, Accuracy: 0.66\n",
      "Accuracy: 65.7% (0.657)\n",
      "Loss: 1.7988638877868652\n",
      "Epoch 10\n"
     ]
    },
    {
     "name": "stderr",
     "output_type": "stream",
     "text": [
      "\n",
      "raining: 100%|███████████████████████████████| 391/391 [00:13<00:00, 28.86it/s]"
     ]
    },
    {
     "name": "stdout",
     "output_type": "stream",
     "text": [
      "Correct: 6696, Total: 10000, Accuracy: 0.67\n",
      "Accuracy: 66.96% (0.6696)\n",
      "Loss: 1.7626289882157977\n",
      "Epoch 11\n"
     ]
    },
    {
     "name": "stderr",
     "output_type": "stream",
     "text": [
      "\n",
      "raining: 100%|███████████████████████████████| 391/391 [00:13<00:00, 29.01it/s]"
     ]
    },
    {
     "name": "stdout",
     "output_type": "stream",
     "text": [
      "Correct: 6908, Total: 10000, Accuracy: 0.69\n",
      "Accuracy: 69.08% (0.6908)\n",
      "Loss: 1.752696771370737\n",
      "Epoch 12\n"
     ]
    },
    {
     "name": "stderr",
     "output_type": "stream",
     "text": [
      "\n",
      "raining: 100%|███████████████████████████████| 391/391 [00:13<00:00, 29.30it/s]"
     ]
    },
    {
     "name": "stdout",
     "output_type": "stream",
     "text": [
      "Correct: 7041, Total: 10000, Accuracy: 0.70\n",
      "Accuracy: 70.41% (0.7041)\n",
      "Loss: 1.7160840473676984\n",
      "Epoch 13\n"
     ]
    },
    {
     "name": "stderr",
     "output_type": "stream",
     "text": [
      "\n",
      "raining: 100%|███████████████████████████████| 391/391 [00:13<00:00, 29.20it/s]"
     ]
    },
    {
     "name": "stdout",
     "output_type": "stream",
     "text": [
      "Correct: 7102, Total: 10000, Accuracy: 0.71\n",
      "Accuracy: 71.02000000000001% (0.7102)\n",
      "Loss: 1.7199852529324984\n",
      "Epoch 14\n"
     ]
    },
    {
     "name": "stderr",
     "output_type": "stream",
     "text": [
      "\n",
      "raining: 100%|███████████████████████████████| 391/391 [00:13<00:00, 28.72it/s]"
     ]
    },
    {
     "name": "stdout",
     "output_type": "stream",
     "text": [
      "Correct: 7204, Total: 10000, Accuracy: 0.72\n",
      "Accuracy: 72.04% (0.7204)\n",
      "Loss: 1.6876453223981356\n",
      "Epoch 15\n"
     ]
    },
    {
     "name": "stderr",
     "output_type": "stream",
     "text": [
      "\n",
      "raining: 100%|███████████████████████████████| 391/391 [00:13<00:00, 28.84it/s]"
     ]
    },
    {
     "name": "stdout",
     "output_type": "stream",
     "text": [
      "Correct: 7256, Total: 10000, Accuracy: 0.73\n",
      "Accuracy: 72.56% (0.7256)\n",
      "Loss: 1.6879805389203524\n",
      "Epoch 16\n"
     ]
    },
    {
     "name": "stderr",
     "output_type": "stream",
     "text": [
      "\n",
      "raining: 100%|███████████████████████████████| 391/391 [00:13<00:00, 28.81it/s]"
     ]
    },
    {
     "name": "stdout",
     "output_type": "stream",
     "text": [
      "Correct: 7279, Total: 10000, Accuracy: 0.73\n",
      "Accuracy: 72.78999999999999% (0.7279)\n",
      "Loss: 1.6783240468878495\n",
      "Epoch 17\n"
     ]
    },
    {
     "name": "stderr",
     "output_type": "stream",
     "text": [
      "\n",
      "raining: 100%|███████████████████████████████| 391/391 [00:13<00:00, 29.05it/s]"
     ]
    },
    {
     "name": "stdout",
     "output_type": "stream",
     "text": [
      "Correct: 7423, Total: 10000, Accuracy: 0.74\n",
      "Accuracy: 74.22999999999999% (0.7423)\n",
      "Loss: 1.6412700477399325\n",
      "Epoch 18\n"
     ]
    },
    {
     "name": "stderr",
     "output_type": "stream",
     "text": [
      "\n",
      "raining: 100%|███████████████████████████████| 391/391 [00:13<00:00, 29.01it/s]"
     ]
    },
    {
     "name": "stdout",
     "output_type": "stream",
     "text": [
      "Correct: 7501, Total: 10000, Accuracy: 0.75\n",
      "Accuracy: 75.01% (0.7501)\n",
      "Loss: 1.631757849141171\n",
      "Epoch 19\n"
     ]
    },
    {
     "name": "stderr",
     "output_type": "stream",
     "text": [
      "\n",
      "raining: 100%|███████████████████████████████| 391/391 [00:13<00:00, 29.05it/s]"
     ]
    },
    {
     "name": "stdout",
     "output_type": "stream",
     "text": [
      "Correct: 7443, Total: 10000, Accuracy: 0.74\n",
      "Accuracy: 74.42999999999999% (0.7443)\n",
      "Loss: 1.6493856718665676\n",
      "Epoch 20\n"
     ]
    },
    {
     "name": "stderr",
     "output_type": "stream",
     "text": [
      "\n",
      "raining: 100%|███████████████████████████████| 391/391 [00:13<00:00, 29.17it/s]"
     ]
    },
    {
     "name": "stdout",
     "output_type": "stream",
     "text": [
      "Correct: 7544, Total: 10000, Accuracy: 0.75\n",
      "Accuracy: 75.44% (0.7544)\n",
      "Loss: 1.610388900104322\n",
      "Configuration 1: Accuracy = 0.7561\n",
      "Training configuration 2/3: [(3, 16, 32, 3), (32, 32, 64, 3), (64, 128, 128, 3)]\n",
      "Epoch 1\n"
     ]
    },
    {
     "name": "stderr",
     "output_type": "stream",
     "text": [
      "\n",
      "raining: 100%|███████████████████████████████| 391/391 [00:09<00:00, 41.25it/s]"
     ]
    },
    {
     "name": "stdout",
     "output_type": "stream",
     "text": [
      "Correct: 5817, Total: 10000, Accuracy: 0.58\n",
      "Accuracy: 58.17% (0.5817)\n",
      "Loss: 1.8739488124847412\n",
      "Epoch 2\n"
     ]
    },
    {
     "name": "stderr",
     "output_type": "stream",
     "text": [
      "\n",
      "raining: 100%|███████████████████████████████| 391/391 [00:09<00:00, 42.67it/s]"
     ]
    },
    {
     "name": "stdout",
     "output_type": "stream",
     "text": [
      "Correct: 6375, Total: 10000, Accuracy: 0.64\n",
      "Accuracy: 63.74999999999999% (0.6375)\n",
      "Loss: 1.815960300596137\n",
      "Epoch 3\n"
     ]
    },
    {
     "name": "stderr",
     "output_type": "stream",
     "text": [
      "\n",
      "raining: 100%|███████████████████████████████| 391/391 [00:09<00:00, 42.33it/s]"
     ]
    },
    {
     "name": "stdout",
     "output_type": "stream",
     "text": [
      "Correct: 6987, Total: 10000, Accuracy: 0.70\n",
      "Accuracy: 69.87% (0.6987)\n",
      "Loss: 1.7530378981640464\n",
      "Epoch 4\n"
     ]
    },
    {
     "name": "stderr",
     "output_type": "stream",
     "text": [
      "\n",
      "raining: 100%|███████████████████████████████| 391/391 [00:09<00:00, 41.73it/s]"
     ]
    },
    {
     "name": "stdout",
     "output_type": "stream",
     "text": [
      "Correct: 7140, Total: 10000, Accuracy: 0.71\n",
      "Accuracy: 71.39999999999999% (0.714)\n",
      "Loss: 1.735082701632851\n",
      "Epoch 5\n"
     ]
    },
    {
     "name": "stderr",
     "output_type": "stream",
     "text": [
      "\n",
      "raining: 100%|███████████████████████████████| 391/391 [00:09<00:00, 42.72it/s]"
     ]
    },
    {
     "name": "stdout",
     "output_type": "stream",
     "text": [
      "Correct: 7220, Total: 10000, Accuracy: 0.72\n",
      "Accuracy: 72.2% (0.722)\n",
      "Loss: 1.7132525193063837\n",
      "Epoch 6\n"
     ]
    },
    {
     "name": "stderr",
     "output_type": "stream",
     "text": [
      "\n",
      "raining: 100%|███████████████████████████████| 391/391 [00:09<00:00, 42.85it/s]"
     ]
    },
    {
     "name": "stdout",
     "output_type": "stream",
     "text": [
      "Correct: 7384, Total: 10000, Accuracy: 0.74\n",
      "Accuracy: 73.83999999999999% (0.7384)\n",
      "Loss: 1.6915536867944818\n",
      "Epoch 7\n"
     ]
    },
    {
     "name": "stderr",
     "output_type": "stream",
     "text": [
      "\n",
      "raining: 100%|███████████████████████████████| 391/391 [00:08<00:00, 43.46it/s]"
     ]
    },
    {
     "name": "stdout",
     "output_type": "stream",
     "text": [
      "Correct: 7512, Total: 10000, Accuracy: 0.75\n",
      "Accuracy: 75.12% (0.7512)\n",
      "Loss: 1.6617448831859387\n",
      "Epoch 8\n"
     ]
    },
    {
     "name": "stderr",
     "output_type": "stream",
     "text": [
      "\n",
      "raining: 100%|███████████████████████████████| 391/391 [00:09<00:00, 41.43it/s]"
     ]
    },
    {
     "name": "stdout",
     "output_type": "stream",
     "text": [
      "Correct: 7546, Total: 10000, Accuracy: 0.75\n",
      "Accuracy: 75.46000000000001% (0.7546)\n",
      "Loss: 1.6347864991740177\n",
      "Epoch 9\n"
     ]
    },
    {
     "name": "stderr",
     "output_type": "stream",
     "text": [
      "\n",
      "raining: 100%|███████████████████████████████| 391/391 [00:09<00:00, 42.83it/s]"
     ]
    },
    {
     "name": "stdout",
     "output_type": "stream",
     "text": [
      "Correct: 7532, Total: 10000, Accuracy: 0.75\n",
      "Accuracy: 75.32% (0.7532)\n",
      "Loss: 1.633476589855395\n",
      "Epoch 10\n"
     ]
    },
    {
     "name": "stderr",
     "output_type": "stream",
     "text": [
      "\n",
      "raining: 100%|███████████████████████████████| 391/391 [00:09<00:00, 43.20it/s]"
     ]
    },
    {
     "name": "stdout",
     "output_type": "stream",
     "text": [
      "Correct: 7659, Total: 10000, Accuracy: 0.77\n",
      "Accuracy: 76.59% (0.7659)\n",
      "Loss: 1.6176657237504657\n",
      "Epoch 11\n"
     ]
    },
    {
     "name": "stderr",
     "output_type": "stream",
     "text": [
      "\n",
      "raining: 100%|███████████████████████████████| 391/391 [00:09<00:00, 43.31it/s]"
     ]
    },
    {
     "name": "stdout",
     "output_type": "stream",
     "text": [
      "Correct: 7699, Total: 10000, Accuracy: 0.77\n",
      "Accuracy: 76.99000000000001% (0.7699)\n",
      "Loss: 1.6001524486039813\n",
      "Epoch 12\n"
     ]
    },
    {
     "name": "stderr",
     "output_type": "stream",
     "text": [
      "\n",
      "raining: 100%|███████████████████████████████| 391/391 [00:09<00:00, 42.80it/s]"
     ]
    },
    {
     "name": "stdout",
     "output_type": "stream",
     "text": [
      "Correct: 7720, Total: 10000, Accuracy: 0.77\n",
      "Accuracy: 77.2% (0.772)\n",
      "Loss: 1.6038385817879124\n",
      "Epoch 13\n"
     ]
    },
    {
     "name": "stderr",
     "output_type": "stream",
     "text": [
      "\n",
      "raining: 100%|███████████████████████████████| 391/391 [00:09<00:00, 42.52it/s]"
     ]
    },
    {
     "name": "stdout",
     "output_type": "stream",
     "text": [
      "Correct: 7750, Total: 10000, Accuracy: 0.78\n",
      "Accuracy: 77.5% (0.775)\n",
      "Loss: 1.5895333039133173\n",
      "Epoch 14\n"
     ]
    },
    {
     "name": "stderr",
     "output_type": "stream",
     "text": [
      "\n",
      "raining: 100%|███████████████████████████████| 391/391 [00:09<00:00, 43.03it/s]"
     ]
    },
    {
     "name": "stdout",
     "output_type": "stream",
     "text": [
      "Correct: 7660, Total: 10000, Accuracy: 0.77\n",
      "Accuracy: 76.6% (0.766)\n",
      "Loss: 1.568912524926035\n",
      "Epoch 15\n"
     ]
    },
    {
     "name": "stderr",
     "output_type": "stream",
     "text": [
      "\n",
      "raining: 100%|███████████████████████████████| 391/391 [00:08<00:00, 44.06it/s]"
     ]
    },
    {
     "name": "stdout",
     "output_type": "stream",
     "text": [
      "Correct: 7709, Total: 10000, Accuracy: 0.77\n",
      "Accuracy: 77.09% (0.7709)\n",
      "Loss: 1.5696760541514347\n",
      "Epoch 16\n"
     ]
    },
    {
     "name": "stderr",
     "output_type": "stream",
     "text": [
      "\n",
      "raining: 100%|███████████████████████████████| 391/391 [00:09<00:00, 43.24it/s]"
     ]
    },
    {
     "name": "stdout",
     "output_type": "stream",
     "text": [
      "Correct: 7712, Total: 10000, Accuracy: 0.77\n",
      "Accuracy: 77.12% (0.7712)\n",
      "Loss: 1.570615906464426\n",
      "Epoch 17\n"
     ]
    },
    {
     "name": "stderr",
     "output_type": "stream",
     "text": [
      "\n",
      "raining: 100%|███████████████████████████████| 391/391 [00:09<00:00, 43.36it/s]"
     ]
    },
    {
     "name": "stdout",
     "output_type": "stream",
     "text": [
      "Correct: 7752, Total: 10000, Accuracy: 0.78\n",
      "Accuracy: 77.52% (0.7752)\n",
      "Loss: 1.551848618607772\n",
      "Epoch 18\n"
     ]
    },
    {
     "name": "stderr",
     "output_type": "stream",
     "text": [
      "\n",
      "raining: 100%|███████████████████████████████| 391/391 [00:09<00:00, 43.12it/s]"
     ]
    },
    {
     "name": "stdout",
     "output_type": "stream",
     "text": [
      "Correct: 7772, Total: 10000, Accuracy: 0.78\n",
      "Accuracy: 77.72% (0.7772)\n",
      "Loss: 1.5401316755696346\n",
      "Epoch 19\n"
     ]
    },
    {
     "name": "stderr",
     "output_type": "stream",
     "text": [
      "\n",
      "raining: 100%|███████████████████████████████| 391/391 [00:08<00:00, 43.61it/s]"
     ]
    },
    {
     "name": "stdout",
     "output_type": "stream",
     "text": [
      "Correct: 7615, Total: 10000, Accuracy: 0.76\n",
      "Accuracy: 76.14999999999999% (0.7615)\n",
      "Loss: 1.5491471102363186\n",
      "Epoch 20\n"
     ]
    },
    {
     "name": "stderr",
     "output_type": "stream",
     "text": [
      "\n",
      "raining: 100%|███████████████████████████████| 391/391 [00:08<00:00, 43.89it/s]"
     ]
    },
    {
     "name": "stdout",
     "output_type": "stream",
     "text": [
      "Correct: 7734, Total: 10000, Accuracy: 0.77\n",
      "Accuracy: 77.34% (0.7734)\n",
      "Loss: 1.5454176287902028\n",
      "Configuration 2: Accuracy = 0.7769\n",
      "Training configuration 3/3: [(3, 32, 64, 5), (64, 128, 256, 5), (256, 512, 1024, 5)]\n",
      "Epoch 1\n"
     ]
    },
    {
     "name": "stderr",
     "output_type": "stream",
     "text": [
      "\n",
      "raining: 100%|███████████████████████████████| 391/391 [00:37<00:00, 10.41it/s]"
     ]
    },
    {
     "name": "stdout",
     "output_type": "stream",
     "text": [
      "Correct: 3484, Total: 10000, Accuracy: 0.35\n",
      "Accuracy: 34.839999999999996% (0.3484)\n",
      "Loss: 2.122241133137753\n",
      "Epoch 2\n"
     ]
    },
    {
     "name": "stderr",
     "output_type": "stream",
     "text": [
      "\n",
      "raining: 100%|███████████████████████████████| 391/391 [00:37<00:00, 10.35it/s]"
     ]
    },
    {
     "name": "stdout",
     "output_type": "stream",
     "text": [
      "Correct: 3483, Total: 10000, Accuracy: 0.35\n",
      "Accuracy: 34.83% (0.3483)\n",
      "Loss: 2.060584457297074\n",
      "Epoch 3\n"
     ]
    },
    {
     "name": "stderr",
     "output_type": "stream",
     "text": [
      "\n",
      "raining: 100%|███████████████████████████████| 391/391 [00:37<00:00, 10.33it/s]"
     ]
    },
    {
     "name": "stdout",
     "output_type": "stream",
     "text": [
      "Correct: 3837, Total: 10000, Accuracy: 0.38\n",
      "Accuracy: 38.37% (0.3837)\n",
      "Loss: 2.066728253113596\n",
      "Epoch 4\n"
     ]
    },
    {
     "name": "stderr",
     "output_type": "stream",
     "text": [
      "\n",
      "raining: 100%|███████████████████████████████| 391/391 [00:37<00:00, 10.31it/s]"
     ]
    },
    {
     "name": "stdout",
     "output_type": "stream",
     "text": [
      "Correct: 3924, Total: 10000, Accuracy: 0.39\n",
      "Accuracy: 39.24% (0.3924)\n",
      "Loss: 2.067378326466209\n",
      "Epoch 5\n"
     ]
    },
    {
     "name": "stderr",
     "output_type": "stream",
     "text": [
      "\n",
      "raining: 100%|███████████████████████████████| 391/391 [00:37<00:00, 10.33it/s]"
     ]
    },
    {
     "name": "stdout",
     "output_type": "stream",
     "text": [
      "Correct: 3501, Total: 10000, Accuracy: 0.35\n",
      "Accuracy: 35.010000000000005% (0.3501)\n",
      "Loss: 2.076095982601768\n",
      "Epoch 6\n"
     ]
    },
    {
     "name": "stderr",
     "output_type": "stream",
     "text": [
      "\n",
      "raining: 100%|███████████████████████████████| 391/391 [00:37<00:00, 10.31it/s]"
     ]
    },
    {
     "name": "stdout",
     "output_type": "stream",
     "text": [
      "Correct: 3769, Total: 10000, Accuracy: 0.38\n",
      "Accuracy: 37.69% (0.3769)\n",
      "Loss: 2.0706961280421208\n",
      "Epoch 7\n"
     ]
    },
    {
     "name": "stderr",
     "output_type": "stream",
     "text": [
      "\n",
      "raining: 100%|███████████████████████████████| 391/391 [00:37<00:00, 10.34it/s]"
     ]
    },
    {
     "name": "stdout",
     "output_type": "stream",
     "text": [
      "Correct: 3653, Total: 10000, Accuracy: 0.37\n",
      "Accuracy: 36.53% (0.3653)\n",
      "Loss: 2.0660409927368164\n",
      "Epoch 8\n"
     ]
    },
    {
     "name": "stderr",
     "output_type": "stream",
     "text": [
      "\n",
      "raining: 100%|███████████████████████████████| 391/391 [00:37<00:00, 10.36it/s]"
     ]
    },
    {
     "name": "stdout",
     "output_type": "stream",
     "text": [
      "Correct: 3692, Total: 10000, Accuracy: 0.37\n",
      "Accuracy: 36.919999999999995% (0.3692)\n",
      "Loss: 2.085370791585822\n",
      "Epoch 9\n"
     ]
    },
    {
     "name": "stderr",
     "output_type": "stream",
     "text": [
      "\n",
      "raining: 100%|███████████████████████████████| 391/391 [00:37<00:00, 10.41it/s]"
     ]
    },
    {
     "name": "stdout",
     "output_type": "stream",
     "text": [
      "Correct: 4107, Total: 10000, Accuracy: 0.41\n",
      "Accuracy: 41.07% (0.4107)\n",
      "Loss: 2.0611336858649003\n",
      "Epoch 10\n"
     ]
    },
    {
     "name": "stderr",
     "output_type": "stream",
     "text": [
      "\n",
      "raining: 100%|███████████████████████████████| 391/391 [00:37<00:00, 10.48it/s]"
     ]
    },
    {
     "name": "stdout",
     "output_type": "stream",
     "text": [
      "Correct: 4020, Total: 10000, Accuracy: 0.40\n",
      "Accuracy: 40.2% (0.402)\n",
      "Loss: 2.0691215866490413\n",
      "Epoch 11\n"
     ]
    },
    {
     "name": "stderr",
     "output_type": "stream",
     "text": [
      "\n",
      "raining: 100%|███████████████████████████████| 391/391 [00:37<00:00, 10.48it/s]"
     ]
    },
    {
     "name": "stdout",
     "output_type": "stream",
     "text": [
      "Correct: 3932, Total: 10000, Accuracy: 0.39\n",
      "Accuracy: 39.32% (0.3932)\n",
      "Loss: 2.0782691177568937\n",
      "Epoch 12\n"
     ]
    },
    {
     "name": "stderr",
     "output_type": "stream",
     "text": [
      "\n",
      "raining: 100%|███████████████████████████████| 391/391 [00:37<00:00, 10.48it/s]"
     ]
    },
    {
     "name": "stdout",
     "output_type": "stream",
     "text": [
      "Correct: 4111, Total: 10000, Accuracy: 0.41\n",
      "Accuracy: 41.11% (0.4111)\n",
      "Loss: 2.049823020633898\n",
      "Epoch 13\n"
     ]
    },
    {
     "name": "stderr",
     "output_type": "stream",
     "text": [
      "\n",
      "raining: 100%|███████████████████████████████| 391/391 [00:37<00:00, 10.47it/s]"
     ]
    },
    {
     "name": "stdout",
     "output_type": "stream",
     "text": [
      "Correct: 3867, Total: 10000, Accuracy: 0.39\n",
      "Accuracy: 38.67% (0.3867)\n",
      "Loss: 2.0791739288129305\n",
      "Epoch 14\n"
     ]
    },
    {
     "name": "stderr",
     "output_type": "stream",
     "text": [
      "\n",
      "raining: 100%|███████████████████████████████| 391/391 [00:37<00:00, 10.46it/s]"
     ]
    },
    {
     "name": "stdout",
     "output_type": "stream",
     "text": [
      "Correct: 3994, Total: 10000, Accuracy: 0.40\n",
      "Accuracy: 39.94% (0.3994)\n",
      "Loss: 2.0423301521100496\n",
      "Epoch 15\n"
     ]
    },
    {
     "name": "stderr",
     "output_type": "stream",
     "text": [
      "\n",
      "raining: 100%|███████████████████████████████| 391/391 [00:37<00:00, 10.48it/s]"
     ]
    },
    {
     "name": "stdout",
     "output_type": "stream",
     "text": [
      "Correct: 3845, Total: 10000, Accuracy: 0.38\n",
      "Accuracy: 38.45% (0.3845)\n",
      "Loss: 2.087024713817396\n",
      "Epoch 16\n"
     ]
    },
    {
     "name": "stderr",
     "output_type": "stream",
     "text": [
      "\n",
      "raining: 100%|███████████████████████████████| 391/391 [00:37<00:00, 10.49it/s]"
     ]
    },
    {
     "name": "stdout",
     "output_type": "stream",
     "text": [
      "Correct: 4107, Total: 10000, Accuracy: 0.41\n",
      "Accuracy: 41.07% (0.4107)\n",
      "Loss: 2.066435588033576\n",
      "Epoch 17\n"
     ]
    },
    {
     "name": "stderr",
     "output_type": "stream",
     "text": [
      "\n",
      "raining: 100%|███████████████████████████████| 391/391 [00:37<00:00, 10.49it/s]"
     ]
    },
    {
     "name": "stdout",
     "output_type": "stream",
     "text": [
      "Correct: 3814, Total: 10000, Accuracy: 0.38\n",
      "Accuracy: 38.14% (0.3814)\n",
      "Loss: 2.073916849337126\n",
      "Epoch 18\n"
     ]
    },
    {
     "name": "stderr",
     "output_type": "stream",
     "text": [
      "\n",
      "raining: 100%|███████████████████████████████| 391/391 [00:37<00:00, 10.48it/s]"
     ]
    },
    {
     "name": "stdout",
     "output_type": "stream",
     "text": [
      "Correct: 3743, Total: 10000, Accuracy: 0.37\n",
      "Accuracy: 37.43% (0.3743)\n",
      "Loss: 2.0774422319311845\n",
      "Epoch 19\n"
     ]
    },
    {
     "name": "stderr",
     "output_type": "stream",
     "text": [
      "\n",
      "raining: 100%|███████████████████████████████| 391/391 [00:37<00:00, 10.49it/s]"
     ]
    },
    {
     "name": "stdout",
     "output_type": "stream",
     "text": [
      "Correct: 3350, Total: 10000, Accuracy: 0.34\n",
      "Accuracy: 33.5% (0.335)\n",
      "Loss: 2.0966429208454334\n",
      "Epoch 20\n"
     ]
    },
    {
     "name": "stderr",
     "output_type": "stream",
     "text": [
      "\n",
      "raining: 100%|███████████████████████████████| 391/391 [00:37<00:00, 10.48it/s]"
     ]
    },
    {
     "name": "stdout",
     "output_type": "stream",
     "text": [
      "Correct: 4200, Total: 10000, Accuracy: 0.42\n",
      "Accuracy: 42.0% (0.42)\n",
      "Loss: 2.0372430901778373\n",
      "Configuration 3: Accuracy = 0.4243\n",
      "\n",
      "Best Configuration: [(3, 16, 32, 3), (32, 32, 64, 3), (64, 128, 128, 3)]\n",
      "Best Accuracy: 0.7769\n"
     ]
    }
   ],
   "source": [
    "#testing multiple configs\n",
    "model_configs = [\n",
    "    [(3, 16, 32, 3), (32, 64, 128, 5), (128, 256, 512, 3)],  # Default config\n",
    "    [(3, 16, 32, 3), (32, 32, 64, 3), (64, 128, 128, 3)],    # Smaller mid-channels\n",
    "    [(3, 32, 64, 5), (64, 128, 256, 5), (256, 512, 1024, 5)], # Larger kernel sizes\n",
    "]\n",
    "\n",
    "best_accuracy = 0\n",
    "best_config = None\n",
    "\n",
    "epochs = 20\n",
    "\n",
    "for idx, bottleneck_config in enumerate(model_configs):\n",
    "    print(f\"Training configuration {idx + 1}/{len(model_configs)}: {bottleneck_config}\")\n",
    "    \n",
    "    conv_model = InvertedBottleneckModel(in_ch=3, num_classes=10, bottleneck_configs=bottleneck_config).to(device)\n",
    "    if device.type == \"cuda\":\n",
    "        conv_model = conv_model.to('cuda')\n",
    "    \n",
    "    opt = torch.optim.Adam(conv_model.parameters(), lr=0.001)\n",
    "    criterion = nn.CrossEntropyLoss()\n",
    "    BATCH_SIZE = 128\n",
    "\n",
    "    timestamp = datetime.now().strftime('%Y%m%d_%H%M%S')\n",
    "    writer = SummaryWriter('runs/inverted_bottleneck_trainer_{}_{}'.format(idx, timestamp))\n",
    "\n",
    "    acc = 0\n",
    "    for epoch in range(epochs):\n",
    "        print(f\"Epoch {epoch+1}\")\n",
    "        avg_loss = fit_one_cycle(conv_model, train_loader, opt, epoch, writer, device, flatten=False)\n",
    "        acc = prediction_accuracy(conv_model, test_loader, device, flatten=False)\n",
    "        print(f\"Accuracy: {acc * 100}% ({acc})\\nLoss: {avg_loss}\")\n",
    "\n",
    "    conv_model.eval()\n",
    "    correct = 0\n",
    "    total = 0\n",
    "    with torch.no_grad():\n",
    "        for inputs, targets in test_loader:\n",
    "            inputs, targets = inputs.to(device), targets.to(device)\n",
    "            outputs = conv_model(inputs)\n",
    "            _, predicted = torch.max(outputs, 1)\n",
    "            total += targets.size(0)\n",
    "            correct += (predicted == targets).sum().item()\n",
    "    \n",
    "    accuracy = correct / total\n",
    "    print(f\"Configuration {idx + 1}: Accuracy = {accuracy:.4f}\")\n",
    "    \n",
    "    if accuracy > best_accuracy:\n",
    "        best_accuracy = accuracy\n",
    "        best_config = bottleneck_config\n",
    "\n",
    "print(\"\\nBest Configuration:\", best_config)\n",
    "print(\"Best Accuracy:\", best_accuracy)\n"
   ]
  },
  {
   "cell_type": "code",
   "execution_count": 13,
   "id": "f6ade8d7-c813-4f06-ac04-e945cd5732fe",
   "metadata": {},
   "outputs": [
    {
     "name": "stdout",
     "output_type": "stream",
     "text": [
      "Epoch 1\n"
     ]
    },
    {
     "name": "stderr",
     "output_type": "stream",
     "text": [
      "\n",
      "raining: 100%|███████████████████████████████| 391/391 [00:10<00:00, 38.65it/s]"
     ]
    },
    {
     "name": "stdout",
     "output_type": "stream",
     "text": [
      "Correct: 4950, Total: 10000, Accuracy: 0.49\n",
      "Accuracy: 49.5% (0.495)\n",
      "Loss: 1.993074655532837\n"
     ]
    },
    {
     "name": "stderr",
     "output_type": "stream",
     "text": [
      "\n",
      "alidation: 100%|███████████████████████████████| 79/79 [00:01<00:00, 66.87it/s]"
     ]
    },
    {
     "name": "stdout",
     "output_type": "stream",
     "text": [
      "LOSS train 1.993074655532837 valid 1.940560221672058\n",
      "Saving model\n",
      "Epoch 2\n"
     ]
    },
    {
     "name": "stderr",
     "output_type": "stream",
     "text": [
      "\n",
      "raining: 100%|███████████████████████████████| 391/391 [00:09<00:00, 41.78it/s]"
     ]
    },
    {
     "name": "stdout",
     "output_type": "stream",
     "text": [
      "Correct: 5673, Total: 10000, Accuracy: 0.57\n",
      "Accuracy: 56.730000000000004% (0.5673)\n",
      "Loss: 1.894624063843175\n"
     ]
    },
    {
     "name": "stderr",
     "output_type": "stream",
     "text": [
      "\n",
      "alidation: 100%|███████████████████████████████| 79/79 [00:01<00:00, 67.77it/s]"
     ]
    },
    {
     "name": "stdout",
     "output_type": "stream",
     "text": [
      "LOSS train 1.894624063843175 valid 1.869015097618103\n",
      "Saving model\n",
      "Epoch 3\n"
     ]
    },
    {
     "name": "stderr",
     "output_type": "stream",
     "text": [
      "\n",
      "raining: 100%|███████████████████████████████| 391/391 [00:09<00:00, 41.38it/s]"
     ]
    },
    {
     "name": "stdout",
     "output_type": "stream",
     "text": [
      "Correct: 5997, Total: 10000, Accuracy: 0.60\n",
      "Accuracy: 59.97% (0.5997)\n",
      "Loss: 1.8564038715864484\n"
     ]
    },
    {
     "name": "stderr",
     "output_type": "stream",
     "text": [
      "\n",
      "alidation: 100%|███████████████████████████████| 79/79 [00:01<00:00, 76.52it/s]"
     ]
    },
    {
     "name": "stdout",
     "output_type": "stream",
     "text": [
      "LOSS train 1.8564038715864484 valid 1.835004448890686\n",
      "Saving model\n",
      "Epoch 4\n"
     ]
    },
    {
     "name": "stderr",
     "output_type": "stream",
     "text": [
      "\n",
      "raining: 100%|███████████████████████████████| 391/391 [00:09<00:00, 41.54it/s]"
     ]
    },
    {
     "name": "stdout",
     "output_type": "stream",
     "text": [
      "Correct: 6252, Total: 10000, Accuracy: 0.63\n",
      "Accuracy: 62.519999999999996% (0.6252)\n",
      "Loss: 1.8303431837182296\n"
     ]
    },
    {
     "name": "stderr",
     "output_type": "stream",
     "text": [
      "\n",
      "alidation: 100%|███████████████████████████████| 79/79 [00:00<00:00, 82.46it/s]"
     ]
    },
    {
     "name": "stdout",
     "output_type": "stream",
     "text": [
      "LOSS train 1.8303431837182296 valid 1.8092899322509766\n",
      "Saving model\n",
      "Epoch 5\n"
     ]
    },
    {
     "name": "stderr",
     "output_type": "stream",
     "text": [
      "\n",
      "raining: 100%|███████████████████████████████| 391/391 [00:09<00:00, 41.21it/s]"
     ]
    },
    {
     "name": "stdout",
     "output_type": "stream",
     "text": [
      "Correct: 6454, Total: 10000, Accuracy: 0.65\n",
      "Accuracy: 64.53999999999999% (0.6454)\n",
      "Loss: 1.8189220679433722\n"
     ]
    },
    {
     "name": "stderr",
     "output_type": "stream",
     "text": [
      "\n",
      "alidation: 100%|███████████████████████████████| 79/79 [00:00<00:00, 85.44it/s]"
     ]
    },
    {
     "name": "stdout",
     "output_type": "stream",
     "text": [
      "LOSS train 1.8189220679433722 valid 1.7941511869430542\n",
      "Saving model\n",
      "Epoch 6\n"
     ]
    },
    {
     "name": "stderr",
     "output_type": "stream",
     "text": [
      "\n",
      "raining: 100%|███████████████████████████████| 391/391 [00:09<00:00, 41.62it/s]"
     ]
    },
    {
     "name": "stdout",
     "output_type": "stream",
     "text": [
      "Correct: 6543, Total: 10000, Accuracy: 0.65\n",
      "Accuracy: 65.42999999999999% (0.6543)\n",
      "Loss: 1.7651810081381547\n"
     ]
    },
    {
     "name": "stderr",
     "output_type": "stream",
     "text": [
      "\n",
      "alidation: 100%|███████████████████████████████| 79/79 [00:00<00:00, 84.71it/s]"
     ]
    },
    {
     "name": "stdout",
     "output_type": "stream",
     "text": [
      "LOSS train 1.7651810081381547 valid 1.7850761413574219\n",
      "Saving model\n",
      "Epoch 7\n"
     ]
    },
    {
     "name": "stderr",
     "output_type": "stream",
     "text": [
      "\n",
      "raining: 100%|███████████████████████████████| 391/391 [00:09<00:00, 41.32it/s]"
     ]
    },
    {
     "name": "stdout",
     "output_type": "stream",
     "text": [
      "Correct: 6519, Total: 10000, Accuracy: 0.65\n",
      "Accuracy: 65.19% (0.6519)\n",
      "Loss: 1.7577994497198808\n"
     ]
    },
    {
     "name": "stderr",
     "output_type": "stream",
     "text": [
      "\n",
      "alidation: 100%|███████████████████████████████| 79/79 [00:00<00:00, 88.56it/s]"
     ]
    },
    {
     "name": "stdout",
     "output_type": "stream",
     "text": [
      "LOSS train 1.7577994497198808 valid 1.7856358289718628\n",
      "Saving model\n",
      "Epoch 8\n"
     ]
    },
    {
     "name": "stderr",
     "output_type": "stream",
     "text": [
      "\n",
      "raining: 100%|███████████████████████████████| 391/391 [00:09<00:00, 41.83it/s]"
     ]
    },
    {
     "name": "stdout",
     "output_type": "stream",
     "text": [
      "Correct: 6591, Total: 10000, Accuracy: 0.66\n",
      "Accuracy: 65.91% (0.6591)\n",
      "Loss: 1.7368545720451756\n"
     ]
    },
    {
     "name": "stderr",
     "output_type": "stream",
     "text": [
      "\n",
      "alidation: 100%|███████████████████████████████| 79/79 [00:01<00:00, 75.25it/s]"
     ]
    },
    {
     "name": "stdout",
     "output_type": "stream",
     "text": [
      "LOSS train 1.7368545720451756 valid 1.7766832113265991\n",
      "Saving model\n",
      "Epoch 9\n"
     ]
    },
    {
     "name": "stderr",
     "output_type": "stream",
     "text": [
      "\n",
      "raining: 100%|███████████████████████████████| 391/391 [00:09<00:00, 41.59it/s]"
     ]
    },
    {
     "name": "stdout",
     "output_type": "stream",
     "text": [
      "Correct: 7370, Total: 10000, Accuracy: 0.74\n",
      "Accuracy: 73.7% (0.737)\n",
      "Loss: 1.6607928464287205\n"
     ]
    },
    {
     "name": "stderr",
     "output_type": "stream",
     "text": [
      "\n",
      "alidation: 100%|███████████████████████████████| 79/79 [00:00<00:00, 80.22it/s]"
     ]
    },
    {
     "name": "stdout",
     "output_type": "stream",
     "text": [
      "LOSS train 1.6607928464287205 valid 1.7012312412261963\n",
      "Saving model\n",
      "Epoch 10\n"
     ]
    },
    {
     "name": "stderr",
     "output_type": "stream",
     "text": [
      "\n",
      "raining: 100%|███████████████████████████████| 391/391 [00:09<00:00, 40.69it/s]"
     ]
    },
    {
     "name": "stdout",
     "output_type": "stream",
     "text": [
      "Correct: 7501, Total: 10000, Accuracy: 0.75\n",
      "Accuracy: 75.01% (0.7501)\n",
      "Loss: 1.6429112773192556\n"
     ]
    },
    {
     "name": "stderr",
     "output_type": "stream",
     "text": [
      "\n",
      "alidation: 100%|███████████████████████████████| 79/79 [00:00<00:00, 81.01it/s]"
     ]
    },
    {
     "name": "stdout",
     "output_type": "stream",
     "text": [
      "LOSS train 1.6429112773192556 valid 1.6878156661987305\n",
      "Saving model\n",
      "Epoch 11\n"
     ]
    },
    {
     "name": "stderr",
     "output_type": "stream",
     "text": [
      "\n",
      "raining: 100%|███████████████████████████████| 391/391 [00:09<00:00, 39.99it/s]"
     ]
    },
    {
     "name": "stdout",
     "output_type": "stream",
     "text": [
      "Correct: 7550, Total: 10000, Accuracy: 0.76\n",
      "Accuracy: 75.5% (0.755)\n",
      "Loss: 1.6193330978092395\n"
     ]
    },
    {
     "name": "stderr",
     "output_type": "stream",
     "text": [
      "\n",
      "alidation: 100%|███████████████████████████████| 79/79 [00:01<00:00, 76.92it/s]"
     ]
    },
    {
     "name": "stdout",
     "output_type": "stream",
     "text": [
      "LOSS train 1.6193330978092395 valid 1.6837719678878784\n",
      "Saving model\n",
      "Epoch 12\n"
     ]
    },
    {
     "name": "stderr",
     "output_type": "stream",
     "text": [
      "\n",
      "raining: 100%|███████████████████████████████| 391/391 [00:09<00:00, 40.38it/s]"
     ]
    },
    {
     "name": "stdout",
     "output_type": "stream",
     "text": [
      "Correct: 7570, Total: 10000, Accuracy: 0.76\n",
      "Accuracy: 75.7% (0.757)\n",
      "Loss: 1.62159516309437\n"
     ]
    },
    {
     "name": "stderr",
     "output_type": "stream",
     "text": [
      "\n",
      "alidation: 100%|███████████████████████████████| 79/79 [00:01<00:00, 71.22it/s]"
     ]
    },
    {
     "name": "stdout",
     "output_type": "stream",
     "text": [
      "LOSS train 1.62159516309437 valid 1.681327223777771\n",
      "Epoch 13\n"
     ]
    },
    {
     "name": "stderr",
     "output_type": "stream",
     "text": [
      "\n",
      "raining: 100%|███████████████████████████████| 391/391 [00:09<00:00, 40.17it/s]"
     ]
    },
    {
     "name": "stdout",
     "output_type": "stream",
     "text": [
      "Correct: 7599, Total: 10000, Accuracy: 0.76\n",
      "Accuracy: 75.99000000000001% (0.7599)\n",
      "Loss: 1.6038719415664673\n"
     ]
    },
    {
     "name": "stderr",
     "output_type": "stream",
     "text": [
      "\n",
      "alidation: 100%|███████████████████████████████| 79/79 [00:00<00:00, 90.70it/s]"
     ]
    },
    {
     "name": "stdout",
     "output_type": "stream",
     "text": [
      "LOSS train 1.6038719415664673 valid 1.680019736289978\n",
      "Saving model\n",
      "Epoch 14\n"
     ]
    },
    {
     "name": "stderr",
     "output_type": "stream",
     "text": [
      "\n",
      "raining: 100%|███████████████████████████████| 391/391 [00:09<00:00, 41.67it/s]"
     ]
    },
    {
     "name": "stdout",
     "output_type": "stream",
     "text": [
      "Correct: 7623, Total: 10000, Accuracy: 0.76\n",
      "Accuracy: 76.23% (0.7623)\n",
      "Loss: 1.597288690115276\n"
     ]
    },
    {
     "name": "stderr",
     "output_type": "stream",
     "text": [
      "\n",
      "alidation: 100%|███████████████████████████████| 79/79 [00:00<00:00, 86.35it/s]"
     ]
    },
    {
     "name": "stdout",
     "output_type": "stream",
     "text": [
      "LOSS train 1.597288690115276 valid 1.6764923334121704\n",
      "Saving model\n",
      "Epoch 15\n"
     ]
    },
    {
     "name": "stderr",
     "output_type": "stream",
     "text": [
      "\n",
      "raining: 100%|███████████████████████████████| 391/391 [00:09<00:00, 41.90it/s]"
     ]
    },
    {
     "name": "stdout",
     "output_type": "stream",
     "text": [
      "Correct: 7645, Total: 10000, Accuracy: 0.76\n",
      "Accuracy: 76.44999999999999% (0.7645)\n",
      "Loss: 1.5797478713487323\n"
     ]
    },
    {
     "name": "stderr",
     "output_type": "stream",
     "text": [
      "\n",
      "alidation: 100%|███████████████████████████████| 79/79 [00:00<00:00, 84.51it/s]"
     ]
    },
    {
     "name": "stdout",
     "output_type": "stream",
     "text": [
      "LOSS train 1.5797478713487323 valid 1.6758394241333008\n",
      "Saving model\n",
      "Epoch 16\n"
     ]
    },
    {
     "name": "stderr",
     "output_type": "stream",
     "text": [
      "\n",
      "raining: 100%|███████████████████████████████| 391/391 [00:09<00:00, 39.66it/s]"
     ]
    },
    {
     "name": "stdout",
     "output_type": "stream",
     "text": [
      "Correct: 7665, Total: 10000, Accuracy: 0.77\n",
      "Accuracy: 76.64999999999999% (0.7665)\n",
      "Loss: 1.5782482310345298\n"
     ]
    },
    {
     "name": "stderr",
     "output_type": "stream",
     "text": [
      "\n",
      "alidation: 100%|███████████████████████████████| 79/79 [00:00<00:00, 81.49it/s]"
     ]
    },
    {
     "name": "stdout",
     "output_type": "stream",
     "text": [
      "LOSS train 1.5782482310345298 valid 1.6739692687988281\n",
      "Saving model\n",
      "Epoch 17\n"
     ]
    },
    {
     "name": "stderr",
     "output_type": "stream",
     "text": [
      "\n",
      "raining: 100%|███████████████████████████████| 391/391 [00:09<00:00, 40.05it/s]"
     ]
    },
    {
     "name": "stdout",
     "output_type": "stream",
     "text": [
      "Correct: 7628, Total: 10000, Accuracy: 0.76\n",
      "Accuracy: 76.28% (0.7628)\n",
      "Loss: 1.5680354833602905\n"
     ]
    },
    {
     "name": "stderr",
     "output_type": "stream",
     "text": [
      "\n",
      "alidation: 100%|███████████████████████████████| 79/79 [00:01<00:00, 53.12it/s]"
     ]
    },
    {
     "name": "stdout",
     "output_type": "stream",
     "text": [
      "LOSS train 1.5680354833602905 valid 1.6750192642211914\n",
      "Saving model\n",
      "Epoch 18\n"
     ]
    },
    {
     "name": "stderr",
     "output_type": "stream",
     "text": [
      "\n",
      "raining: 100%|███████████████████████████████| 391/391 [00:09<00:00, 40.26it/s]"
     ]
    },
    {
     "name": "stdout",
     "output_type": "stream",
     "text": [
      "Correct: 7689, Total: 10000, Accuracy: 0.77\n",
      "Accuracy: 76.89% (0.7689)\n",
      "Loss: 1.5626595208519383\n"
     ]
    },
    {
     "name": "stderr",
     "output_type": "stream",
     "text": [
      "\n",
      "alidation: 100%|███████████████████████████████| 79/79 [00:01<00:00, 77.32it/s]"
     ]
    },
    {
     "name": "stdout",
     "output_type": "stream",
     "text": [
      "LOSS train 1.5626595208519383 valid 1.6709632873535156\n",
      "Saving model\n",
      "Epoch 19\n"
     ]
    },
    {
     "name": "stderr",
     "output_type": "stream",
     "text": [
      "\n",
      "raining: 100%|███████████████████████████████| 391/391 [00:08<00:00, 43.52it/s]"
     ]
    },
    {
     "name": "stdout",
     "output_type": "stream",
     "text": [
      "Correct: 7696, Total: 10000, Accuracy: 0.77\n",
      "Accuracy: 76.96% (0.7696)\n",
      "Loss: 1.5582742879265232\n"
     ]
    },
    {
     "name": "stderr",
     "output_type": "stream",
     "text": [
      "\n",
      "alidation: 100%|███████████████████████████████| 79/79 [00:00<00:00, 93.80it/s]"
     ]
    },
    {
     "name": "stdout",
     "output_type": "stream",
     "text": [
      "LOSS train 1.5582742879265232 valid 1.669191598892212\n",
      "Saving model\n",
      "Epoch 20\n"
     ]
    },
    {
     "name": "stderr",
     "output_type": "stream",
     "text": [
      "\n",
      "raining: 100%|███████████████████████████████| 391/391 [00:09<00:00, 39.74it/s]"
     ]
    },
    {
     "name": "stdout",
     "output_type": "stream",
     "text": [
      "Correct: 7734, Total: 10000, Accuracy: 0.77\n",
      "Accuracy: 77.34% (0.7734)\n",
      "Loss: 1.5552891241876703\n"
     ]
    },
    {
     "name": "stderr",
     "output_type": "stream",
     "text": [
      "\n",
      "alidation: 100%|███████████████████████████████| 79/79 [00:01<00:00, 75.47it/s]"
     ]
    },
    {
     "name": "stdout",
     "output_type": "stream",
     "text": [
      "LOSS train 1.5552891241876703 valid 1.6661938428878784\n",
      "Saving model\n",
      "Epoch 21\n"
     ]
    },
    {
     "name": "stderr",
     "output_type": "stream",
     "text": [
      "\n",
      "raining: 100%|███████████████████████████████| 391/391 [00:10<00:00, 38.57it/s]"
     ]
    },
    {
     "name": "stdout",
     "output_type": "stream",
     "text": [
      "Correct: 7749, Total: 10000, Accuracy: 0.77\n",
      "Accuracy: 77.49000000000001% (0.7749)\n",
      "Loss: 1.548426772418775\n"
     ]
    },
    {
     "name": "stderr",
     "output_type": "stream",
     "text": [
      "\n",
      "alidation: 100%|███████████████████████████████| 79/79 [00:01<00:00, 75.76it/s]"
     ]
    },
    {
     "name": "stdout",
     "output_type": "stream",
     "text": [
      "LOSS train 1.548426772418775 valid 1.6648609638214111\n",
      "Saving model\n",
      "Epoch 22\n"
     ]
    },
    {
     "name": "stderr",
     "output_type": "stream",
     "text": [
      "\n",
      "raining: 100%|███████████████████████████████| 391/391 [00:09<00:00, 40.69it/s]"
     ]
    },
    {
     "name": "stdout",
     "output_type": "stream",
     "text": [
      "Correct: 7743, Total: 10000, Accuracy: 0.77\n",
      "Accuracy: 77.42999999999999% (0.7743)\n",
      "Loss: 1.5443671816273739\n"
     ]
    },
    {
     "name": "stderr",
     "output_type": "stream",
     "text": [
      "\n",
      "alidation: 100%|███████████████████████████████| 79/79 [00:01<00:00, 67.68it/s]"
     ]
    },
    {
     "name": "stdout",
     "output_type": "stream",
     "text": [
      "LOSS train 1.5443671816273739 valid 1.6660054922103882\n",
      "Saving model\n",
      "Epoch 23\n"
     ]
    },
    {
     "name": "stderr",
     "output_type": "stream",
     "text": [
      "\n",
      "raining: 100%|███████████████████████████████| 391/391 [00:09<00:00, 39.24it/s]"
     ]
    },
    {
     "name": "stdout",
     "output_type": "stream",
     "text": [
      "Correct: 7739, Total: 10000, Accuracy: 0.77\n",
      "Accuracy: 77.39% (0.7739)\n",
      "Loss: 1.5294900065974186\n"
     ]
    },
    {
     "name": "stderr",
     "output_type": "stream",
     "text": [
      "\n",
      "alidation: 100%|███████████████████████████████| 79/79 [00:01<00:00, 74.76it/s]"
     ]
    },
    {
     "name": "stdout",
     "output_type": "stream",
     "text": [
      "LOSS train 1.5294900065974186 valid 1.664453148841858\n",
      "Saving model\n",
      "Epoch 24\n"
     ]
    },
    {
     "name": "stderr",
     "output_type": "stream",
     "text": [
      "\n",
      "raining: 100%|███████████████████████████████| 391/391 [00:10<00:00, 39.02it/s]"
     ]
    },
    {
     "name": "stdout",
     "output_type": "stream",
     "text": [
      "Correct: 7726, Total: 10000, Accuracy: 0.77\n",
      "Accuracy: 77.25999999999999% (0.7726)\n",
      "Loss: 1.5382875455053229\n"
     ]
    },
    {
     "name": "stderr",
     "output_type": "stream",
     "text": [
      "\n",
      "alidation: 100%|███████████████████████████████| 79/79 [00:01<00:00, 73.15it/s]"
     ]
    },
    {
     "name": "stdout",
     "output_type": "stream",
     "text": [
      "LOSS train 1.5382875455053229 valid 1.665481448173523\n",
      "Epoch 25\n"
     ]
    },
    {
     "name": "stderr",
     "output_type": "stream",
     "text": [
      "\n",
      "raining: 100%|███████████████████████████████| 391/391 [00:09<00:00, 41.14it/s]"
     ]
    },
    {
     "name": "stdout",
     "output_type": "stream",
     "text": [
      "Correct: 7754, Total: 10000, Accuracy: 0.78\n",
      "Accuracy: 77.53999999999999% (0.7754)\n",
      "Loss: 1.5342861162988763\n"
     ]
    },
    {
     "name": "stderr",
     "output_type": "stream",
     "text": [
      "\n",
      "alidation: 100%|███████████████████████████████| 79/79 [00:01<00:00, 66.06it/s]"
     ]
    },
    {
     "name": "stdout",
     "output_type": "stream",
     "text": [
      "LOSS train 1.5342861162988763 valid 1.663214087486267\n",
      "Epoch 26\n"
     ]
    },
    {
     "name": "stderr",
     "output_type": "stream",
     "text": [
      "\n",
      "raining: 100%|███████████████████████████████| 391/391 [00:09<00:00, 41.67it/s]"
     ]
    },
    {
     "name": "stdout",
     "output_type": "stream",
     "text": [
      "Correct: 7740, Total: 10000, Accuracy: 0.77\n",
      "Accuracy: 77.4% (0.774)\n",
      "Loss: 1.5310770900625932\n"
     ]
    },
    {
     "name": "stderr",
     "output_type": "stream",
     "text": [
      "\n",
      "alidation: 100%|███████████████████████████████| 79/79 [00:01<00:00, 75.09it/s]"
     ]
    },
    {
     "name": "stdout",
     "output_type": "stream",
     "text": [
      "LOSS train 1.5310770900625932 valid 1.6657828092575073\n",
      "Epoch 27\n"
     ]
    },
    {
     "name": "stderr",
     "output_type": "stream",
     "text": [
      "\n",
      "raining: 100%|███████████████████████████████| 391/391 [00:09<00:00, 41.56it/s]"
     ]
    },
    {
     "name": "stdout",
     "output_type": "stream",
     "text": [
      "Correct: 7699, Total: 10000, Accuracy: 0.77\n",
      "Accuracy: 76.99000000000001% (0.7699)\n",
      "Loss: 1.5300622864773399\n"
     ]
    },
    {
     "name": "stderr",
     "output_type": "stream",
     "text": [
      "\n",
      "alidation: 100%|███████████████████████████████| 79/79 [00:01<00:00, 68.79it/s]"
     ]
    },
    {
     "name": "stdout",
     "output_type": "stream",
     "text": [
      "LOSS train 1.5300622864773399 valid 1.6682261228561401\n",
      "Epoch 28\n"
     ]
    },
    {
     "name": "stderr",
     "output_type": "stream",
     "text": [
      "\n",
      "raining: 100%|███████████████████████████████| 391/391 [00:09<00:00, 42.79it/s]"
     ]
    },
    {
     "name": "stdout",
     "output_type": "stream",
     "text": [
      "Correct: 7758, Total: 10000, Accuracy: 0.78\n",
      "Accuracy: 77.58% (0.7758)\n",
      "Loss: 1.5323569837369417\n"
     ]
    },
    {
     "name": "stderr",
     "output_type": "stream",
     "text": [
      "\n",
      "alidation: 100%|███████████████████████████████| 79/79 [00:00<00:00, 86.02it/s]"
     ]
    },
    {
     "name": "stdout",
     "output_type": "stream",
     "text": [
      "LOSS train 1.5323569837369417 valid 1.6643317937850952\n",
      "Epoch 29\n"
     ]
    },
    {
     "name": "stderr",
     "output_type": "stream",
     "text": [
      "\n",
      "raining: 100%|███████████████████████████████| 391/391 [00:09<00:00, 40.74it/s]"
     ]
    },
    {
     "name": "stdout",
     "output_type": "stream",
     "text": [
      "Correct: 7724, Total: 10000, Accuracy: 0.77\n",
      "Accuracy: 77.24% (0.7724)\n",
      "Loss: 1.5306029821697034\n"
     ]
    },
    {
     "name": "stderr",
     "output_type": "stream",
     "text": [
      "\n",
      "alidation: 100%|███████████████████████████████| 79/79 [00:01<00:00, 70.80it/s]"
     ]
    },
    {
     "name": "stdout",
     "output_type": "stream",
     "text": [
      "LOSS train 1.5306029821697034 valid 1.6658766269683838\n",
      "Epoch 30\n"
     ]
    },
    {
     "name": "stderr",
     "output_type": "stream",
     "text": [
      "\n",
      "raining: 100%|███████████████████████████████| 391/391 [00:09<00:00, 40.94it/s]"
     ]
    },
    {
     "name": "stdout",
     "output_type": "stream",
     "text": [
      "Correct: 7715, Total: 10000, Accuracy: 0.77\n",
      "Accuracy: 77.14999999999999% (0.7715)\n",
      "Loss: 1.5216111070231388\n"
     ]
    },
    {
     "name": "stderr",
     "output_type": "stream",
     "text": [
      "Validation: 100%|███████████████████████████████| 79/79 [00:01<00:00, 76.51it/s]"
     ]
    },
    {
     "name": "stdout",
     "output_type": "stream",
     "text": [
      "LOSS train 1.5216111070231388 valid 1.6646318435668945\n",
      "Saving model\n"
     ]
    },
    {
     "name": "stderr",
     "output_type": "stream",
     "text": [
      "\n"
     ]
    }
   ],
   "source": [
    "best_config = [(3, 16, 32, 3), (32, 32, 64, 3), (64, 128, 128, 3)]\n",
    "conv_model = InvertedBottleneckModel(in_ch=3, num_classes=10, bottleneck_configs=best_config).to(device)\n",
    "\n",
    "opt = torch.optim.Adam(conv_model.parameters(), lr=0.001)\n",
    "criterion = nn.CrossEntropyLoss()\n",
    "BATCH_SIZE = 128\n",
    "epochs = 30\n",
    "\n",
    "timestamp = datetime.now().strftime('%Y%m%d_%H%M%S')\n",
    "writer = SummaryWriter('runs/inverted_bottleneck_trainer_validation_{}'.format(timestamp))\n",
    "training_and_validation_loop(conv_model, train_loader, test_loader, epochs, writer, device, opt, timestamp, flatten=False)"
   ]
  },
  {
   "cell_type": "code",
   "execution_count": 20,
   "id": "f6204d93-411e-4023-a85c-0d2f829d9ee7",
   "metadata": {},
   "outputs": [
    {
     "name": "stdout",
     "output_type": "stream",
     "text": [
      "==========================================================================================\n",
      "Layer (type:depth-idx)                   Output Shape              Param #\n",
      "==========================================================================================\n",
      "InvertedBottleneckModel                  [128, 10]                 --\n",
      "├─ModuleList: 1-5                        --                        (recursive)\n",
      "│    └─InvertedBottleneckBlock: 2-1      [128, 32, 32, 32]         --\n",
      "│    │    └─Conv2d: 3-1                  [128, 32, 32, 32]         128\n",
      "│    │    └─BatchNormConv2d: 3-2         [128, 16, 32, 32]         96\n",
      "│    │    └─BatchNormConv2d: 3-3         [128, 16, 32, 32]         2,352\n",
      "│    │    └─BatchNormConv2d: 3-4         [128, 32, 32, 32]         608\n",
      "├─MaxPool2d: 1-2                         [128, 32, 16, 16]         --\n",
      "├─ModuleList: 1-5                        --                        (recursive)\n",
      "│    └─InvertedBottleneckBlock: 2-2      [128, 64, 16, 16]         --\n",
      "│    │    └─Conv2d: 3-5                  [128, 64, 16, 16]         2,112\n",
      "│    │    └─BatchNormConv2d: 3-6         [128, 32, 16, 16]         1,120\n",
      "│    │    └─BatchNormConv2d: 3-7         [128, 32, 16, 16]         9,312\n",
      "│    │    └─BatchNormConv2d: 3-8         [128, 64, 16, 16]         2,240\n",
      "├─MaxPool2d: 1-4                         [128, 64, 8, 8]           --\n",
      "├─ModuleList: 1-5                        --                        (recursive)\n",
      "│    └─InvertedBottleneckBlock: 2-3      [128, 128, 8, 8]          --\n",
      "│    │    └─Conv2d: 3-9                  [128, 128, 8, 8]          8,320\n",
      "│    │    └─BatchNormConv2d: 3-10        [128, 128, 8, 8]          8,576\n",
      "│    │    └─BatchNormConv2d: 3-11        [128, 128, 8, 8]          147,840\n",
      "│    │    └─BatchNormConv2d: 3-12        [128, 128, 8, 8]          16,768\n",
      "├─MaxPool2d: 1-6                         [128, 128, 4, 4]          --\n",
      "├─Linear: 1-7                            [128, 10]                 20,490\n",
      "==========================================================================================\n",
      "Total params: 219,962\n",
      "Trainable params: 219,962\n",
      "Non-trainable params: 0\n",
      "Total mult-adds (Units.GIGABYTES): 2.36\n",
      "==========================================================================================\n",
      "Input size (MB): 1.57\n",
      "Forward/backward pass size (MB): 310.39\n",
      "Params size (MB): 0.88\n",
      "Estimated Total Size (MB): 312.84\n",
      "==========================================================================================\n"
     ]
    }
   ],
   "source": [
    "from torchinfo import summary\n",
    "print(summary(conv_model, (128, 3, 32, 32)))"
   ]
  },
  {
   "cell_type": "code",
   "execution_count": 21,
   "id": "d509e96e-029b-4c0f-bef8-807faf435a59",
   "metadata": {},
   "outputs": [
    {
     "name": "stdout",
     "output_type": "stream",
     "text": [
      "The tensorboard extension is already loaded. To reload it, use:\n",
      "  %reload_ext tensorboard\n"
     ]
    },
    {
     "data": {
      "text/plain": [
       "Reusing TensorBoard on port 6006 (pid 16037), started 1:05:03 ago. (Use '!kill 16037' to kill it.)"
      ]
     },
     "metadata": {},
     "output_type": "display_data"
    },
    {
     "data": {
      "text/html": [
       "\n",
       "      <iframe id=\"tensorboard-frame-6311402d62b2d837\" width=\"100%\" height=\"800\" frameborder=\"0\">\n",
       "      </iframe>\n",
       "      <script>\n",
       "        (function() {\n",
       "          const frame = document.getElementById(\"tensorboard-frame-6311402d62b2d837\");\n",
       "          const url = new URL(\"/\", window.location);\n",
       "          const port = 6006;\n",
       "          if (port) {\n",
       "            url.port = port;\n",
       "          }\n",
       "          frame.src = url;\n",
       "        })();\n",
       "      </script>\n",
       "    "
      ],
      "text/plain": [
       "<IPython.core.display.HTML object>"
      ]
     },
     "metadata": {},
     "output_type": "display_data"
    }
   ],
   "source": [
    "%load_ext tensorboard\n",
    "%tensorboard --logdir runs"
   ]
  }
 ],
 "metadata": {
  "kernelspec": {
   "display_name": "Python 3 (ipykernel)",
   "language": "python",
   "name": "python3"
  },
  "language_info": {
   "codemirror_mode": {
    "name": "ipython",
    "version": 3
   },
   "file_extension": ".py",
   "mimetype": "text/x-python",
   "name": "python",
   "nbconvert_exporter": "python",
   "pygments_lexer": "ipython3",
   "version": "3.12.7"
  }
 },
 "nbformat": 4,
 "nbformat_minor": 5
}
