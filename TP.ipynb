{
 "cells": [
  {
   "cell_type": "code",
   "execution_count": 1,
   "metadata": {},
   "outputs": [
    {
     "name": "stdout",
     "output_type": "stream",
     "text": [
      "cuda cuda\n",
      "Files already downloaded and verified\n",
      "Files already downloaded and verified\n"
     ]
    }
   ],
   "source": [
    "import torch\n",
    "import torchvision\n",
    "import matplotlib.pyplot as plt\n",
    "import numpy as np\n",
    "from torch.utils.tensorboard import SummaryWriter\n",
    "from datetime import datetime\n",
    "\n",
    "import torch.nn as nn\n",
    "import torch.nn.functional as F\n",
    "\n",
    "# Check if a GPU is available and set the device accordingly\n",
    "device = torch.device(\"cuda\" if torch.cuda.is_available() else \"cpu\")\n",
    "\n",
    "print(device, device.type)\n",
    "\n",
    "#get training and test datasets\n",
    "trainset = torchvision.datasets.CIFAR10(root='./data', train=True, download=True, transform=torchvision.transforms.ToTensor())\n",
    "testset = torchvision.datasets.CIFAR10(root='./data', train=False, download=True, transform=torchvision.transforms.ToTensor())\n"
   ]
  },
  {
   "cell_type": "code",
   "execution_count": 2,
   "metadata": {},
   "outputs": [
    {
     "name": "stdout",
     "output_type": "stream",
     "text": [
      "Thu Dec  5 01:25:04 2024       \n",
      "+-----------------------------------------------------------------------------------------+\n",
      "| NVIDIA-SMI 565.57.01              Driver Version: 565.57.01      CUDA Version: 12.7     |\n",
      "|-----------------------------------------+------------------------+----------------------+\n",
      "| GPU  Name                 Persistence-M | Bus-Id          Disp.A | Volatile Uncorr. ECC |\n",
      "| Fan  Temp   Perf          Pwr:Usage/Cap |           Memory-Usage | GPU-Util  Compute M. |\n",
      "|                                         |                        |               MIG M. |\n",
      "|=========================================+========================+======================|\n",
      "|   0  NVIDIA A100-SXM4-80GB          On  |   00000000:07:00.0 Off |                    0 |\n",
      "| N/A   36C    P0             62W /  400W |       4MiB /  81920MiB |      0%      Default |\n",
      "|                                         |                        |             Disabled |\n",
      "+-----------------------------------------+------------------------+----------------------+\n",
      "|   1  NVIDIA A100-SXM4-80GB          On  |   00000000:0B:00.0 Off |                    0 |\n",
      "| N/A   36C    P0             58W /  400W |       4MiB /  81920MiB |      0%      Default |\n",
      "|                                         |                        |             Disabled |\n",
      "+-----------------------------------------+------------------------+----------------------+\n",
      "|   2  NVIDIA A100-SXM4-80GB          On  |   00000000:48:00.0 Off |                    0 |\n",
      "| N/A   34C    P0             58W /  400W |       4MiB /  81920MiB |      0%      Default |\n",
      "|                                         |                        |             Disabled |\n",
      "+-----------------------------------------+------------------------+----------------------+\n",
      "|   3  NVIDIA A100-SXM4-80GB          On  |   00000000:4C:00.0 Off |                    0 |\n",
      "| N/A   36C    P0             60W /  400W |       4MiB /  81920MiB |      0%      Default |\n",
      "|                                         |                        |             Disabled |\n",
      "+-----------------------------------------+------------------------+----------------------+\n",
      "|   4  NVIDIA A100-SXM4-80GB          On  |   00000000:88:00.0 Off |                    0 |\n",
      "| N/A   34C    P0             61W /  400W |       4MiB /  81920MiB |      0%      Default |\n",
      "|                                         |                        |             Disabled |\n",
      "+-----------------------------------------+------------------------+----------------------+\n",
      "|   5  NVIDIA A100-SXM4-80GB          On  |   00000000:8B:00.0 Off |                    0 |\n",
      "| N/A   36C    P0             59W /  400W |       4MiB /  81920MiB |      0%      Default |\n",
      "|                                         |                        |             Disabled |\n",
      "+-----------------------------------------+------------------------+----------------------+\n",
      "|   6  NVIDIA A100-SXM4-80GB          On  |   00000000:C8:00.0 Off |                    0 |\n",
      "| N/A   36C    P0             61W /  400W |       4MiB /  81920MiB |      0%      Default |\n",
      "|                                         |                        |             Disabled |\n",
      "+-----------------------------------------+------------------------+----------------------+\n",
      "|   7  NVIDIA A100-SXM4-80GB          On  |   00000000:CB:00.0 Off |                    0 |\n",
      "| N/A   36C    P0             61W /  400W |       4MiB /  81920MiB |      0%      Default |\n",
      "|                                         |                        |             Disabled |\n",
      "+-----------------------------------------+------------------------+----------------------+\n",
      "                                                                                         \n",
      "+-----------------------------------------------------------------------------------------+\n",
      "| Processes:                                                                              |\n",
      "|  GPU   GI   CI        PID   Type   Process name                              GPU Memory |\n",
      "|        ID   ID                                                               Usage      |\n",
      "|=========================================================================================|\n",
      "|  No running processes found                                                             |\n",
      "+-----------------------------------------------------------------------------------------+\n"
     ]
    }
   ],
   "source": [
    "%%bash\n",
    "nvidia-smi"
   ]
  },
  {
   "cell_type": "code",
   "execution_count": 3,
   "metadata": {},
   "outputs": [
    {
     "data": {
      "text/plain": [
       "<matplotlib.image.AxesImage at 0x7faf4cc45c40>"
      ]
     },
     "execution_count": 3,
     "metadata": {},
     "output_type": "execute_result"
    },
    {
     "data": {
      "image/png": "[encoded data removed]",
      "text/plain": [
       "<Figure size 640x480 with 1 Axes>"
      ]
     },
     "metadata": {},
     "output_type": "display_data"
    }
   ],
   "source": [
    "#display the first image in the training set\n",
    "image, label = trainset[0]\n",
    "plt.imshow(image.permute(1,2,0))"
   ]
  },
  {
   "cell_type": "code",
   "execution_count": 4,
   "metadata": {},
   "outputs": [
    {
     "data": {
      "text/plain": [
       "<matplotlib.image.AxesImage at 0x7faf4cc459a0>"
      ]
     },
     "execution_count": 4,
     "metadata": {},
     "output_type": "execute_result"
    },
    {
     "data": {
      "image/png": "[encoded data removed]",
      "text/plain": [
       "<Figure size 640x480 with 1 Axes>"
      ]
     },
     "metadata": {},
     "output_type": "display_data"
    }
   ],
   "source": [
    "#tensor = torchvision.transforms.ToTensor()(image)\n",
    "tensor = image\n",
    "#display tensor red channel\n",
    "plt.imshow(tensor[0,...].numpy())\n",
    "#display tensor green channel\n",
    "plt.imshow(tensor[1,...].numpy())\n",
    "#display tensor blue channel\n",
    "plt.imshow(tensor[2,...].numpy())\n",
    "#display all in the same window\n",
    "plt.imshow(torch.cat((tensor[0,...], tensor[1,...], tensor[2,...]), 0).numpy())"
   ]
  },
  {
   "cell_type": "code",
   "execution_count": 5,
   "metadata": {},
   "outputs": [],
   "source": [
    "train_loader = torch.utils.data.DataLoader(trainset, batch_size=4)\n",
    "test_loader = torch.utils.data.DataLoader(testset, batch_size=4)\n",
    "dataiter = iter(train_loader)\n",
    "images, labels = next(dataiter)\n",
    "#print(images, labels)\n"
   ]
  },
  {
   "cell_type": "code",
   "execution_count": 6,
   "metadata": {},
   "outputs": [],
   "source": [
    "class FirstModel(nn.Module):\n",
    "    def __init__(self, n_out1=512, n_out2=256):\n",
    "        super().__init__()\n",
    "        \n",
    "        self.a = nn.Linear(3 * 32 * 32, n_out1)\n",
    "        self.b = nn.Linear(n_out1, n_out2)\n",
    "        self.c = nn.Linear(n_out2, 10)\n",
    "\n",
    "    def forward(self, x):\n",
    "        x = self.a(x)\n",
    "        x = self.b(x)\n",
    "        return F.softmax(self.c(x), dim=1)"
   ]
  },
  {
   "cell_type": "code",
   "execution_count": 7,
   "metadata": {},
   "outputs": [
    {
     "name": "stdout",
     "output_type": "stream",
     "text": [
      "torch.Size([4, 3, 32, 32])\n",
      "torch.Size([4, 10])\n",
      "tensor([[ 0.2889,  0.1607, -0.1846,  0.2251, -0.5833, -0.0284,  0.0359,  0.5488,\n",
      "         -0.4064, -0.1609],\n",
      "        [ 0.3462, -0.0180, -0.1394,  0.3504, -0.3437,  0.0861,  0.0106,  0.3049,\n",
      "         -0.0100, -0.3418],\n",
      "        [ 0.2022, -0.2066, -0.0654,  0.7413, -0.2176,  0.2403,  0.0947,  0.7635,\n",
      "          0.0743, -0.0914],\n",
      "        [ 0.2053,  0.1213, -0.0638,  0.2080, -0.3656, -0.1023, -0.0020,  0.4149,\n",
      "         -0.3494, -0.1352]], grad_fn=<AddmmBackward0>)\n",
      "tensor([[0.2314, 0.1686, 0.1961,  ..., 0.5490, 0.3294, 0.2824],\n",
      "        [0.6039, 0.4941, 0.4118,  ..., 0.5451, 0.5569, 0.5647],\n",
      "        [1.0000, 0.9922, 0.9922,  ..., 0.3255, 0.3255, 0.3294],\n",
      "        [0.1098, 0.1451, 0.1490,  ..., 0.1098, 0.1451, 0.1804]])\n"
     ]
    }
   ],
   "source": [
    "\n",
    "batch = next(iter(train_loader))\n",
    "print(batch[0].shape)\n",
    "fc = nn.Linear(3*32*32,10)\n",
    "output = fc(batch[0].view(-1, 3*32*32))\n",
    "print(output.shape)\n",
    "output = fc(torch.reshape(batch[0], (-1, 3*32*32)))\n",
    "print(output)\n",
    "#output = fc(batch[0].resize_(3*32*32))\n",
    "#print(output.shape)\n",
    "reshaped_batch = torch.reshape(batch[0], (-1, 3*32*32))\n",
    "print(reshaped_batch)\n"
   ]
  },
  {
   "cell_type": "code",
   "execution_count": 8,
   "metadata": {},
   "outputs": [
    {
     "name": "stdout",
     "output_type": "stream",
     "text": [
      "torch.Size([4, 32, 32, 3])\n",
      "torch.Size([4, 10])\n",
      "tensor([[0.1014, 0.0989, 0.0857, 0.0945, 0.0958, 0.1001, 0.1068, 0.0954, 0.1257,\n",
      "         0.0957],\n",
      "        [0.1006, 0.0973, 0.0884, 0.0967, 0.0976, 0.0947, 0.1178, 0.0911, 0.1262,\n",
      "         0.0896],\n",
      "        [0.0944, 0.0961, 0.0989, 0.0999, 0.0969, 0.1038, 0.0957, 0.1036, 0.1171,\n",
      "         0.0935],\n",
      "        [0.1021, 0.0995, 0.0908, 0.0982, 0.0905, 0.1032, 0.1123, 0.0926, 0.1190,\n",
      "         0.0918]], grad_fn=<SoftmaxBackward0>)\n",
      "images (torch.Size([4])): tensor([0.1257, 0.1262, 0.1171, 0.1190])\n",
      "labels(torch.Size([4])): tensor([8, 8, 8, 8])\n"
     ]
    }
   ],
   "source": [
    "torch.set_printoptions(threshold=1000)\n",
    "b = torch.permute(batch[0], (0,2,3,1))\n",
    "print(b.shape)\n",
    "model = FirstModel()\n",
    "probs = model(reshaped_batch)\n",
    "print(probs.shape)\n",
    "print(probs)\n",
    "images, labels = torch.max(probs, dim=1)\n",
    "print(f\"images ({images.shape}):\", images.data)\n",
    "print(f\"labels({labels.shape}):\", labels)\n",
    "#batch.permute(0,2,3,1) à utiliser plus tard\n"
   ]
  },
  {
   "cell_type": "code",
   "execution_count": 9,
   "metadata": {},
   "outputs": [],
   "source": [
    "def prediction_accuracy(model, data, device, flatten=True):\n",
    "    correct = 0\n",
    "    total = 0\n",
    "    if device.type == \"cuda\":\n",
    "        model = model.to(device)\n",
    "    for image, label in data:\n",
    "        image, label = image.to(device), label.to(device)\n",
    "        \n",
    "        if flatten:\n",
    "            image = torch.reshape(image, (-1, 3*32*32))  \n",
    "        \n",
    "        output = model(image)\n",
    "        _, pred_label = torch.max(output, dim=1)\n",
    "        \n",
    "        # Update total and correct counts\n",
    "        total += label.size(0)\n",
    "        correct += (pred_label == label).sum().item()\n",
    "    \n",
    "    accuracy = correct / total\n",
    "    print(f'Correct: {correct}, Total: {total}, Accuracy: {accuracy:.2f}')\n",
    "    return accuracy\n"
   ]
  },
  {
   "cell_type": "code",
   "execution_count": 10,
   "metadata": {},
   "outputs": [
    {
     "name": "stdout",
     "output_type": "stream",
     "text": [
      "Correct: 935, Total: 10000, Accuracy: 0.09\n",
      "accuracy: 9.35% (0.0935)\n"
     ]
    }
   ],
   "source": [
    "test_model = FirstModel()\n",
    "acc = prediction_accuracy(test_model, test_loader, device)\n",
    "#print accuracy as percentage\n",
    "print(f\"accuracy: {acc * 100}% ({acc})\")"
   ]
  },
  {
   "cell_type": "code",
   "execution_count": 11,
   "metadata": {},
   "outputs": [],
   "source": [
    "learning_rate = 0.001\n",
    "opt = torch.optim.SGD(model.parameters(), lr=learning_rate)"
   ]
  },
  {
   "cell_type": "code",
   "execution_count": 12,
   "metadata": {},
   "outputs": [],
   "source": [
    "from tqdm import tqdm\n",
    "def fit_one_cycle(model, optimizer, eindex, writer, device, flatten=True, size=None, log_freq=20):\n",
    "    running_loss = 0.0\n",
    "    last_loss = 0.0\n",
    "    i = 0\n",
    "    \n",
    "    data = train_loader\n",
    "    if size is not None:\n",
    "        print(f\"Truncating dataset to {size} samples\")\n",
    "        data = []\n",
    "        for batch in train_loader:\n",
    "            if len(data) == size:\n",
    "                break\n",
    "            data.append(batch)\n",
    "            \n",
    "    num_batches = len(train_loader)\n",
    "    log_interval = max(1, num_batches // log_freq)\n",
    "\n",
    "    model.train(True)  # Set the model to training mode\n",
    "    \n",
    "    for image, label in tqdm(data, desc=\"Training\", leave=True):\n",
    "        optimizer.zero_grad()\n",
    "        \n",
    "        image, label = image.to(device), label.to(device)\n",
    "        \n",
    "        if flatten:\n",
    "            image = torch.reshape(image, (-1, 3*32*32))\n",
    "        \n",
    "        output = model(image)\n",
    "        \n",
    "        probs = output.float()\n",
    "\n",
    "        loss = F.cross_entropy(probs, label)\n",
    "                \n",
    "        loss.backward()\n",
    "        \n",
    "        optimizer.step()\n",
    "        \n",
    "        running_loss += loss.item()\n",
    "        \n",
    "        if i % log_interval == (log_interval - 1):\n",
    "            last_loss = running_loss / log_interval\n",
    "            #print(print('  batch {} loss: {}'.format(i + 1, last_loss)))\n",
    "            tb_x = eindex * len(train_loader) + i + 1\n",
    "            writer.add_scalar('Loss/train', last_loss, tb_x)\n",
    "            running_loss = 0.0\n",
    "        i += 1\n",
    "\n",
    "    return last_loss\n",
    "        "
   ]
  },
  {
   "cell_type": "code",
   "execution_count": 13,
   "metadata": {},
   "outputs": [],
   "source": [
    "# Initializing in a separate cell so we can easily add more epochs to the same run\n",
    "timestamp = datetime.now().strftime('%Y%m%d_%H%M%S')\n",
    "writer = SummaryWriter('runs/fashion_trainer_{}'.format(timestamp))"
   ]
  },
  {
   "cell_type": "code",
   "execution_count": 14,
   "metadata": {},
   "outputs": [
    {
     "name": "stderr",
     "output_type": "stream",
     "text": [
      "Training: 100%|████████████████████████████████████████████████████████████████████████████████████████████████████████| 12500/12500 [00:14<00:00, 849.50it/s]\n"
     ]
    },
    {
     "name": "stdout",
     "output_type": "stream",
     "text": [
      "Correct: 3398, Total: 10000, Accuracy: 0.34\n",
      "accuracy: 33.98% (0.3398)\n"
     ]
    }
   ],
   "source": [
    "test_model = FirstModel()\n",
    "learning_rate = 0.01\n",
    "opt = torch.optim.SGD(test_model.parameters(), lr=learning_rate)\n",
    "if device.type == \"cuda\":\n",
    "    test_model = test_model.to(device) \n",
    "fit_one_cycle(test_model, opt, 0, writer, device)\n",
    "acc = prediction_accuracy(test_model, test_loader, device)\n",
    "\n",
    "#print accuracy as percentage\n",
    "print(f\"accuracy: {acc * 100}% ({acc})\")"
   ]
  },
  {
   "cell_type": "code",
   "execution_count": 15,
   "metadata": {},
   "outputs": [],
   "source": [
    "timestamp = datetime.now().strftime('%Y%m%d_%H%M%S')\n",
    "writer = SummaryWriter('runs/fashion_trainer_{}'.format(timestamp))"
   ]
  },
  {
   "cell_type": "code",
   "execution_count": 16,
   "metadata": {},
   "outputs": [
    {
     "name": "stdout",
     "output_type": "stream",
     "text": [
      "Epoch 1\n"
     ]
    },
    {
     "name": "stderr",
     "output_type": "stream",
     "text": [
      "Training: 100%|████████████████████████████████████████████████████████████████████████████████████████████████████████| 12500/12500 [00:14<00:00, 861.10it/s]\n"
     ]
    },
    {
     "name": "stdout",
     "output_type": "stream",
     "text": [
      "Correct: 1434, Total: 10000, Accuracy: 0.14\n",
      "accuracy: 14.34% (0.1434)\n",
      "Epoch 2\n"
     ]
    },
    {
     "name": "stderr",
     "output_type": "stream",
     "text": [
      "Training: 100%|████████████████████████████████████████████████████████████████████████████████████████████████████████| 12500/12500 [00:14<00:00, 861.47it/s]\n"
     ]
    },
    {
     "name": "stdout",
     "output_type": "stream",
     "text": [
      "Correct: 2326, Total: 10000, Accuracy: 0.23\n",
      "accuracy: 23.26% (0.2326)\n",
      "Epoch 3\n"
     ]
    },
    {
     "name": "stderr",
     "output_type": "stream",
     "text": [
      "Training: 100%|████████████████████████████████████████████████████████████████████████████████████████████████████████| 12500/12500 [00:14<00:00, 865.84it/s]\n"
     ]
    },
    {
     "name": "stdout",
     "output_type": "stream",
     "text": [
      "Correct: 2739, Total: 10000, Accuracy: 0.27\n",
      "accuracy: 27.389999999999997% (0.2739)\n",
      "Epoch 4\n"
     ]
    },
    {
     "name": "stderr",
     "output_type": "stream",
     "text": [
      "Training: 100%|████████████████████████████████████████████████████████████████████████████████████████████████████████| 12500/12500 [00:14<00:00, 888.58it/s]\n"
     ]
    },
    {
     "name": "stdout",
     "output_type": "stream",
     "text": [
      "Correct: 2921, Total: 10000, Accuracy: 0.29\n",
      "accuracy: 29.21% (0.2921)\n",
      "Epoch 5\n"
     ]
    },
    {
     "name": "stderr",
     "output_type": "stream",
     "text": [
      "Training: 100%|████████████████████████████████████████████████████████████████████████████████████████████████████████| 12500/12500 [00:14<00:00, 890.61it/s]\n"
     ]
    },
    {
     "name": "stdout",
     "output_type": "stream",
     "text": [
      "Correct: 3010, Total: 10000, Accuracy: 0.30\n",
      "accuracy: 30.099999999999998% (0.301)\n",
      "Epoch 6\n"
     ]
    },
    {
     "name": "stderr",
     "output_type": "stream",
     "text": [
      "Training: 100%|████████████████████████████████████████████████████████████████████████████████████████████████████████| 12500/12500 [00:14<00:00, 890.77it/s]\n"
     ]
    },
    {
     "name": "stdout",
     "output_type": "stream",
     "text": [
      "Correct: 3096, Total: 10000, Accuracy: 0.31\n",
      "accuracy: 30.959999999999997% (0.3096)\n",
      "Epoch 7\n"
     ]
    },
    {
     "name": "stderr",
     "output_type": "stream",
     "text": [
      "Training: 100%|████████████████████████████████████████████████████████████████████████████████████████████████████████| 12500/12500 [00:13<00:00, 893.67it/s]\n"
     ]
    },
    {
     "name": "stdout",
     "output_type": "stream",
     "text": [
      "Correct: 3199, Total: 10000, Accuracy: 0.32\n",
      "accuracy: 31.990000000000002% (0.3199)\n",
      "Epoch 8\n"
     ]
    },
    {
     "name": "stderr",
     "output_type": "stream",
     "text": [
      "Training: 100%|████████████████████████████████████████████████████████████████████████████████████████████████████████| 12500/12500 [00:13<00:00, 893.35it/s]\n"
     ]
    },
    {
     "name": "stdout",
     "output_type": "stream",
     "text": [
      "Correct: 3257, Total: 10000, Accuracy: 0.33\n",
      "accuracy: 32.57% (0.3257)\n",
      "Epoch 9\n"
     ]
    },
    {
     "name": "stderr",
     "output_type": "stream",
     "text": [
      "Training: 100%|████████████████████████████████████████████████████████████████████████████████████████████████████████| 12500/12500 [00:13<00:00, 893.35it/s]\n"
     ]
    },
    {
     "name": "stdout",
     "output_type": "stream",
     "text": [
      "Correct: 3387, Total: 10000, Accuracy: 0.34\n",
      "accuracy: 33.87% (0.3387)\n",
      "Epoch 10\n"
     ]
    },
    {
     "name": "stderr",
     "output_type": "stream",
     "text": [
      "Training: 100%|████████████████████████████████████████████████████████████████████████████████████████████████████████| 12500/12500 [00:13<00:00, 893.68it/s]\n"
     ]
    },
    {
     "name": "stdout",
     "output_type": "stream",
     "text": [
      "Correct: 3438, Total: 10000, Accuracy: 0.34\n",
      "accuracy: 34.38% (0.3438)\n"
     ]
    }
   ],
   "source": [
    "test_model = FirstModel()\n",
    "learning_rate = 0.001\n",
    "opt = torch.optim.SGD(test_model.parameters(), lr=learning_rate)\n",
    "epochs = 10\n",
    "if device.type == \"cuda\":\n",
    "    test_model = test_model.to(device)\n",
    "for epoch in range(epochs):\n",
    "    print(f\"Epoch {epoch+1}\")\n",
    "    fit_one_cycle(test_model, opt, epoch, writer, device)\n",
    "    acc = prediction_accuracy(test_model, test_loader, device)\n",
    "    print(f\"accuracy: {acc * 100}% ({acc})\")"
   ]
  },
  {
   "cell_type": "code",
   "execution_count": 17,
   "metadata": {},
   "outputs": [],
   "source": [
    "timestamp = datetime.now().strftime('%Y%m%d_%H%M%S')\n",
    "writer = SummaryWriter('runs/fashion_trainer_{}'.format(timestamp))"
   ]
  },
  {
   "cell_type": "code",
   "execution_count": 18,
   "metadata": {},
   "outputs": [],
   "source": [
    "def validation_loop(model, data, epochs, writer, device, flatten=True):\n",
    "    best_vloss = 1_000_000.\n",
    "    \n",
    "    if device.type == \"cuda\":\n",
    "        model = model.to(device)\n",
    "    \n",
    "    for epoch in range(epochs):\n",
    "        print(f\"Epoch {epoch+1}\")\n",
    "        \n",
    "        model.train(True)\n",
    "        avg_loss = fit_one_cycle(model, opt, epoch, writer, device, flatten)\n",
    "        i = 0\n",
    "        \n",
    "        running_vloss = 0.0\n",
    "        model.eval()\n",
    "        \n",
    "        with torch.no_grad():\n",
    "            for validation_data in tqdm(data, desc=\"Validation\", leave=True):\n",
    "                vimages, vlabels = validation_data\n",
    "                vimages, vlabels = vimages.to(device), vlabels.to(device)\n",
    "                \n",
    "                if flatten:\n",
    "                    vimages = torch.reshape(vimages, (-1, 3*32*32))\n",
    "                \n",
    "                validation_output = model(vimages)\n",
    "                validation_loss = F.cross_entropy(validation_output, vlabels)\n",
    "                running_vloss += validation_loss\n",
    "                \n",
    "                i += 1\n",
    "        \n",
    "        avg_vloss = running_vloss / (i + 1)\n",
    "        print('LOSS train {} valid {}'.format(avg_loss, avg_vloss))\n",
    "        \n",
    "        writer.add_scalars('Training vs. Validation Loss',\n",
    "                        { 'Training' : avg_loss, 'Validation' : avg_vloss },\n",
    "                        epoch + 1)\n",
    "        \n",
    "        writer.flush()\n",
    "        \n",
    "        if avg_loss < best_vloss:\n",
    "            best_vloss = avg_loss\n",
    "            print(\"Saving model\")\n",
    "            model_path = 'saved_models/model_{}_{}'.format(timestamp, epoch)\n",
    "            torch.save(model.state_dict(), model_path)"
   ]
  },
  {
   "cell_type": "code",
   "execution_count": 19,
   "metadata": {},
   "outputs": [
    {
     "name": "stdout",
     "output_type": "stream",
     "text": [
      "Epoch 1\n"
     ]
    },
    {
     "name": "stderr",
     "output_type": "stream",
     "text": [
      "Training: 100%|████████████████████████████████████████████████████████████████████████████████████████████████████████| 12500/12500 [00:14<00:00, 890.95it/s]\n",
      "Validation: 100%|███████████████████████████████████████████████████████████████████████████████████████████████████████| 2500/2500 [00:01<00:00, 1485.59it/s]\n"
     ]
    },
    {
     "name": "stdout",
     "output_type": "stream",
     "text": [
      "LOSS train 2.109196803665161 valid 2.1096315383911133\n",
      "Saving model\n",
      "Epoch 2\n"
     ]
    },
    {
     "name": "stderr",
     "output_type": "stream",
     "text": [
      "Training: 100%|████████████████████████████████████████████████████████████████████████████████████████████████████████| 12500/12500 [00:14<00:00, 887.36it/s]\n",
      "Validation: 100%|███████████████████████████████████████████████████████████████████████████████████████████████████████| 2500/2500 [00:01<00:00, 1536.28it/s]\n"
     ]
    },
    {
     "name": "stdout",
     "output_type": "stream",
     "text": [
      "LOSS train 2.103691316986084 valid 2.104830026626587\n",
      "Saving model\n",
      "Epoch 3\n"
     ]
    },
    {
     "name": "stderr",
     "output_type": "stream",
     "text": [
      "Training: 100%|████████████████████████████████████████████████████████████████████████████████████████████████████████| 12500/12500 [00:14<00:00, 889.64it/s]\n",
      "Validation: 100%|███████████████████████████████████████████████████████████████████████████████████████████████████████| 2500/2500 [00:01<00:00, 1540.27it/s]\n"
     ]
    },
    {
     "name": "stdout",
     "output_type": "stream",
     "text": [
      "LOSS train 2.099028208351135 valid 2.1009552478790283\n",
      "Saving model\n",
      "Epoch 4\n"
     ]
    },
    {
     "name": "stderr",
     "output_type": "stream",
     "text": [
      "Training: 100%|████████████████████████████████████████████████████████████████████████████████████████████████████████| 12500/12500 [00:14<00:00, 891.51it/s]\n",
      "Validation: 100%|███████████████████████████████████████████████████████████████████████████████████████████████████████| 2500/2500 [00:01<00:00, 1537.57it/s]\n"
     ]
    },
    {
     "name": "stdout",
     "output_type": "stream",
     "text": [
      "LOSS train 2.095013786125183 valid 2.0971179008483887\n",
      "Saving model\n",
      "Epoch 5\n"
     ]
    },
    {
     "name": "stderr",
     "output_type": "stream",
     "text": [
      "Training: 100%|████████████████████████████████████████████████████████████████████████████████████████████████████████| 12500/12500 [00:14<00:00, 892.23it/s]\n",
      "Validation: 100%|███████████████████████████████████████████████████████████████████████████████████████████████████████| 2500/2500 [00:01<00:00, 1540.46it/s]\n"
     ]
    },
    {
     "name": "stdout",
     "output_type": "stream",
     "text": [
      "LOSS train 2.0913539779663086 valid 2.093435764312744\n",
      "Saving model\n",
      "Epoch 6\n"
     ]
    },
    {
     "name": "stderr",
     "output_type": "stream",
     "text": [
      "Training: 100%|████████████████████████████████████████████████████████████████████████████████████████████████████████| 12500/12500 [00:14<00:00, 891.94it/s]\n",
      "Validation: 100%|███████████████████████████████████████████████████████████████████████████████████████████████████████| 2500/2500 [00:01<00:00, 1539.46it/s]\n"
     ]
    },
    {
     "name": "stdout",
     "output_type": "stream",
     "text": [
      "LOSS train 2.088191164970398 valid 2.090099811553955\n",
      "Saving model\n",
      "Epoch 7\n"
     ]
    },
    {
     "name": "stderr",
     "output_type": "stream",
     "text": [
      "Training: 100%|████████████████████████████████████████████████████████████████████████████████████████████████████████| 12500/12500 [00:14<00:00, 892.51it/s]\n",
      "Validation: 100%|███████████████████████████████████████████████████████████████████████████████████████████████████████| 2500/2500 [00:01<00:00, 1541.12it/s]\n"
     ]
    },
    {
     "name": "stdout",
     "output_type": "stream",
     "text": [
      "LOSS train 2.085462055015564 valid 2.086949110031128\n",
      "Saving model\n",
      "Epoch 8\n"
     ]
    },
    {
     "name": "stderr",
     "output_type": "stream",
     "text": [
      "Training: 100%|████████████████████████████████████████████████████████████████████████████████████████████████████████| 12500/12500 [00:14<00:00, 891.64it/s]\n",
      "Validation: 100%|███████████████████████████████████████████████████████████████████████████████████████████████████████| 2500/2500 [00:01<00:00, 1540.60it/s]\n"
     ]
    },
    {
     "name": "stdout",
     "output_type": "stream",
     "text": [
      "LOSS train 2.082991240119934 valid 2.083977460861206\n",
      "Saving model\n",
      "Epoch 9\n"
     ]
    },
    {
     "name": "stderr",
     "output_type": "stream",
     "text": [
      "Training: 100%|████████████████████████████████████████████████████████████████████████████████████████████████████████| 12500/12500 [00:14<00:00, 892.17it/s]\n",
      "Validation: 100%|███████████████████████████████████████████████████████████████████████████████████████████████████████| 2500/2500 [00:01<00:00, 1525.88it/s]\n"
     ]
    },
    {
     "name": "stdout",
     "output_type": "stream",
     "text": [
      "LOSS train 2.080634234046936 valid 2.0812056064605713\n",
      "Saving model\n",
      "Epoch 10\n"
     ]
    },
    {
     "name": "stderr",
     "output_type": "stream",
     "text": [
      "Training: 100%|████████████████████████████████████████████████████████████████████████████████████████████████████████| 12500/12500 [00:14<00:00, 892.12it/s]\n",
      "Validation: 100%|███████████████████████████████████████████████████████████████████████████████████████████████████████| 2500/2500 [00:01<00:00, 1541.51it/s]"
     ]
    },
    {
     "name": "stdout",
     "output_type": "stream",
     "text": [
      "LOSS train 2.0784282012939452 valid 2.0785603523254395\n",
      "Saving model\n"
     ]
    },
    {
     "name": "stderr",
     "output_type": "stream",
     "text": [
      "\n"
     ]
    }
   ],
   "source": [
    "validation_loop(test_model, test_loader, epochs, writer, device)"
   ]
  },
  {
   "cell_type": "code",
   "execution_count": 20,
   "metadata": {},
   "outputs": [],
   "source": [
    "class SecondModel(nn.Module):\n",
    "    def __init__(self, hidden_dim=32):\n",
    "        super().__init__()\n",
    "        \n",
    "        self.a = nn.Linear(3 * 32 * 32, hidden_dim)\n",
    "        self.b = nn.Linear(hidden_dim, hidden_dim)\n",
    "        self.c = nn.Linear(hidden_dim, hidden_dim)\n",
    "        self.d = nn.Linear(hidden_dim, 10)\n",
    "\n",
    "    def forward(self, x):\n",
    "        x = self.a(x)\n",
    "        x = self.b(x)\n",
    "        x = self.c(x)\n",
    "        return F.softmax(self.d(x), dim=1)"
   ]
  },
  {
   "cell_type": "code",
   "execution_count": 21,
   "metadata": {},
   "outputs": [],
   "source": [
    "model = SecondModel()\n",
    "learning_rate = 0.001\n",
    "\n",
    "BATCH_SIZE = 128\n",
    "train_loader = torch.utils.data.DataLoader(trainset, batch_size=BATCH_SIZE)\n",
    "test_loader = torch.utils.data.DataLoader(testset, batch_size=BATCH_SIZE)\n",
    "opt = torch.optim.Adam(model.parameters(), lr=learning_rate)"
   ]
  },
  {
   "cell_type": "code",
   "execution_count": 22,
   "metadata": {},
   "outputs": [],
   "source": [
    "timestamp = datetime.now().strftime('%Y%m%d_%H%M%S')\n",
    "writer = SummaryWriter('runs/fashion_trainer_{}'.format(timestamp))"
   ]
  },
  {
   "cell_type": "code",
   "execution_count": 23,
   "metadata": {},
   "outputs": [
    {
     "name": "stdout",
     "output_type": "stream",
     "text": [
      "Epoch 1\n"
     ]
    },
    {
     "name": "stderr",
     "output_type": "stream",
     "text": [
      "Training: 100%|█████████████████████████████████████████████████████████████████████████████████████████████████████████████| 391/391 [00:04<00:00, 80.28it/s]\n",
      "Validation: 100%|███████████████████████████████████████████████████████████████████████████████████████████████████████████| 391/391 [00:04<00:00, 87.59it/s]\n"
     ]
    },
    {
     "name": "stdout",
     "output_type": "stream",
     "text": [
      "LOSS train 2.134559380380731 valid 2.109485149383545\n",
      "Saving model\n",
      "Epoch 2\n"
     ]
    },
    {
     "name": "stderr",
     "output_type": "stream",
     "text": [
      "Training: 100%|█████████████████████████████████████████████████████████████████████████████████████████████████████████████| 391/391 [00:04<00:00, 81.89it/s]\n",
      "Validation: 100%|███████████████████████████████████████████████████████████████████████████████████████████████████████████| 391/391 [00:04<00:00, 87.65it/s]\n"
     ]
    },
    {
     "name": "stdout",
     "output_type": "stream",
     "text": [
      "LOSS train 2.1227895711597644 valid 2.0854201316833496\n",
      "Saving model\n",
      "Epoch 3\n"
     ]
    },
    {
     "name": "stderr",
     "output_type": "stream",
     "text": [
      "Training: 100%|█████████████████████████████████████████████████████████████████████████████████████████████████████████████| 391/391 [00:04<00:00, 81.94it/s]\n",
      "Validation: 100%|███████████████████████████████████████████████████████████████████████████████████████████████████████████| 391/391 [00:04<00:00, 87.57it/s]\n"
     ]
    },
    {
     "name": "stdout",
     "output_type": "stream",
     "text": [
      "LOSS train 2.112787698444567 valid 2.0775744915008545\n",
      "Saving model\n",
      "Epoch 4\n"
     ]
    },
    {
     "name": "stderr",
     "output_type": "stream",
     "text": [
      "Training: 100%|█████████████████████████████████████████████████████████████████████████████████████████████████████████████| 391/391 [00:04<00:00, 82.12it/s]\n",
      "Validation: 100%|███████████████████████████████████████████████████████████████████████████████████████████████████████████| 391/391 [00:04<00:00, 87.69it/s]\n"
     ]
    },
    {
     "name": "stdout",
     "output_type": "stream",
     "text": [
      "LOSS train 2.0873474949284603 valid 2.064000368118286\n",
      "Saving model\n",
      "Epoch 5\n"
     ]
    },
    {
     "name": "stderr",
     "output_type": "stream",
     "text": [
      "Training: 100%|█████████████████████████████████████████████████████████████████████████████████████████████████████████████| 391/391 [00:04<00:00, 82.17it/s]\n",
      "Validation: 100%|███████████████████████████████████████████████████████████████████████████████████████████████████████████| 391/391 [00:04<00:00, 87.83it/s]\n"
     ]
    },
    {
     "name": "stdout",
     "output_type": "stream",
     "text": [
      "LOSS train 2.0843811788057027 valid 2.063112497329712\n",
      "Saving model\n",
      "Epoch 6\n"
     ]
    },
    {
     "name": "stderr",
     "output_type": "stream",
     "text": [
      "Training: 100%|█████████████████████████████████████████████████████████████████████████████████████████████████████████████| 391/391 [00:04<00:00, 82.11it/s]\n",
      "Validation: 100%|███████████████████████████████████████████████████████████████████████████████████████████████████████████| 391/391 [00:04<00:00, 87.70it/s]\n"
     ]
    },
    {
     "name": "stdout",
     "output_type": "stream",
     "text": [
      "LOSS train 2.0937465241080835 valid 2.053483247756958\n",
      "Epoch 7\n"
     ]
    },
    {
     "name": "stderr",
     "output_type": "stream",
     "text": [
      "Training: 100%|█████████████████████████████████████████████████████████████████████████████████████████████████████████████| 391/391 [00:04<00:00, 82.17it/s]\n",
      "Validation: 100%|███████████████████████████████████████████████████████████████████████████████████████████████████████████| 391/391 [00:04<00:00, 87.46it/s]\n"
     ]
    },
    {
     "name": "stdout",
     "output_type": "stream",
     "text": [
      "LOSS train 2.084443544086657 valid 2.061173915863037\n",
      "Epoch 8\n"
     ]
    },
    {
     "name": "stderr",
     "output_type": "stream",
     "text": [
      "Training: 100%|█████████████████████████████████████████████████████████████████████████████████████████████████████████████| 391/391 [00:04<00:00, 82.15it/s]\n",
      "Validation: 100%|███████████████████████████████████████████████████████████████████████████████████████████████████████████| 391/391 [00:04<00:00, 87.72it/s]\n"
     ]
    },
    {
     "name": "stdout",
     "output_type": "stream",
     "text": [
      "LOSS train 2.081404836554276 valid 2.0650687217712402\n",
      "Saving model\n",
      "Epoch 9\n"
     ]
    },
    {
     "name": "stderr",
     "output_type": "stream",
     "text": [
      "Training: 100%|█████████████████████████████████████████████████████████████████████████████████████████████████████████████| 391/391 [00:04<00:00, 82.11it/s]\n",
      "Validation: 100%|███████████████████████████████████████████████████████████████████████████████████████████████████████████| 391/391 [00:04<00:00, 87.71it/s]\n"
     ]
    },
    {
     "name": "stdout",
     "output_type": "stream",
     "text": [
      "LOSS train 2.0812306027663383 valid 2.058511734008789\n",
      "Saving model\n",
      "Epoch 10\n"
     ]
    },
    {
     "name": "stderr",
     "output_type": "stream",
     "text": [
      "Training: 100%|█████████████████████████████████████████████████████████████████████████████████████████████████████████████| 391/391 [00:04<00:00, 82.17it/s]\n",
      "Validation: 100%|███████████████████████████████████████████████████████████████████████████████████████████████████████████| 391/391 [00:04<00:00, 87.49it/s]"
     ]
    },
    {
     "name": "stdout",
     "output_type": "stream",
     "text": [
      "LOSS train 2.1027717339365104 valid 2.0441813468933105\n"
     ]
    },
    {
     "name": "stderr",
     "output_type": "stream",
     "text": [
      "\n"
     ]
    }
   ],
   "source": [
    "validation_loop(model, train_loader, 10, writer, device)"
   ]
  },
  {
   "cell_type": "code",
   "execution_count": 24,
   "metadata": {},
   "outputs": [
    {
     "name": "stdout",
     "output_type": "stream",
     "text": [
      "Epoch 1\n"
     ]
    },
    {
     "name": "stderr",
     "output_type": "stream",
     "text": [
      "Training: 100%|█████████████████████████████████████████████████████████████████████████████████████████████████████████████| 391/391 [00:04<00:00, 81.99it/s]\n"
     ]
    },
    {
     "name": "stdout",
     "output_type": "stream",
     "text": [
      "Correct: 3789, Total: 10000, Accuracy: 0.38\n",
      "accuracy: 37.89% (0.3789)\n",
      "Epoch 2\n"
     ]
    },
    {
     "name": "stderr",
     "output_type": "stream",
     "text": [
      "Training: 100%|█████████████████████████████████████████████████████████████████████████████████████████████████████████████| 391/391 [00:04<00:00, 82.19it/s]\n"
     ]
    },
    {
     "name": "stdout",
     "output_type": "stream",
     "text": [
      "Correct: 3847, Total: 10000, Accuracy: 0.38\n",
      "accuracy: 38.47% (0.3847)\n",
      "Epoch 3\n"
     ]
    },
    {
     "name": "stderr",
     "output_type": "stream",
     "text": [
      "Training: 100%|█████████████████████████████████████████████████████████████████████████████████████████████████████████████| 391/391 [00:04<00:00, 82.22it/s]\n"
     ]
    },
    {
     "name": "stdout",
     "output_type": "stream",
     "text": [
      "Correct: 3794, Total: 10000, Accuracy: 0.38\n",
      "accuracy: 37.940000000000005% (0.3794)\n",
      "Epoch 4\n"
     ]
    },
    {
     "name": "stderr",
     "output_type": "stream",
     "text": [
      "Training: 100%|█████████████████████████████████████████████████████████████████████████████████████████████████████████████| 391/391 [00:04<00:00, 82.21it/s]\n"
     ]
    },
    {
     "name": "stdout",
     "output_type": "stream",
     "text": [
      "Correct: 3669, Total: 10000, Accuracy: 0.37\n",
      "accuracy: 36.69% (0.3669)\n",
      "Epoch 5\n"
     ]
    },
    {
     "name": "stderr",
     "output_type": "stream",
     "text": [
      "Training: 100%|█████████████████████████████████████████████████████████████████████████████████████████████████████████████| 391/391 [00:04<00:00, 82.18it/s]\n"
     ]
    },
    {
     "name": "stdout",
     "output_type": "stream",
     "text": [
      "Correct: 3833, Total: 10000, Accuracy: 0.38\n",
      "accuracy: 38.33% (0.3833)\n",
      "Epoch 6\n"
     ]
    },
    {
     "name": "stderr",
     "output_type": "stream",
     "text": [
      "Training: 100%|█████████████████████████████████████████████████████████████████████████████████████████████████████████████| 391/391 [00:04<00:00, 82.17it/s]\n"
     ]
    },
    {
     "name": "stdout",
     "output_type": "stream",
     "text": [
      "Correct: 3887, Total: 10000, Accuracy: 0.39\n",
      "accuracy: 38.87% (0.3887)\n",
      "Epoch 7\n"
     ]
    },
    {
     "name": "stderr",
     "output_type": "stream",
     "text": [
      "Training: 100%|█████████████████████████████████████████████████████████████████████████████████████████████████████████████| 391/391 [00:04<00:00, 82.10it/s]\n"
     ]
    },
    {
     "name": "stdout",
     "output_type": "stream",
     "text": [
      "Correct: 3880, Total: 10000, Accuracy: 0.39\n",
      "accuracy: 38.800000000000004% (0.388)\n",
      "Epoch 8\n"
     ]
    },
    {
     "name": "stderr",
     "output_type": "stream",
     "text": [
      "Training: 100%|█████████████████████████████████████████████████████████████████████████████████████████████████████████████| 391/391 [00:04<00:00, 82.00it/s]\n"
     ]
    },
    {
     "name": "stdout",
     "output_type": "stream",
     "text": [
      "Correct: 3895, Total: 10000, Accuracy: 0.39\n",
      "accuracy: 38.95% (0.3895)\n",
      "Epoch 9\n"
     ]
    },
    {
     "name": "stderr",
     "output_type": "stream",
     "text": [
      "Training: 100%|█████████████████████████████████████████████████████████████████████████████████████████████████████████████| 391/391 [00:04<00:00, 82.10it/s]\n"
     ]
    },
    {
     "name": "stdout",
     "output_type": "stream",
     "text": [
      "Correct: 3842, Total: 10000, Accuracy: 0.38\n",
      "accuracy: 38.42% (0.3842)\n",
      "Epoch 10\n"
     ]
    },
    {
     "name": "stderr",
     "output_type": "stream",
     "text": [
      "Training: 100%|█████████████████████████████████████████████████████████████████████████████████████████████████████████████| 391/391 [00:04<00:00, 82.07it/s]\n"
     ]
    },
    {
     "name": "stdout",
     "output_type": "stream",
     "text": [
      "Correct: 3697, Total: 10000, Accuracy: 0.37\n",
      "accuracy: 36.97% (0.3697)\n"
     ]
    }
   ],
   "source": [
    "epochs = 10\n",
    "for epoch in range(epochs):\n",
    "    print(f\"Epoch {epoch+1}\")\n",
    "    fit_one_cycle(model, opt, epoch, writer, device)\n",
    "    acc = prediction_accuracy(model, test_loader, device)\n",
    "    print(f\"accuracy: {acc * 100}% ({acc})\")"
   ]
  },
  {
   "cell_type": "code",
   "execution_count": 25,
   "metadata": {},
   "outputs": [
    {
     "name": "stdout",
     "output_type": "stream",
     "text": [
      "Correct: 3697, Total: 10000, Accuracy: 0.37\n"
     ]
    },
    {
     "data": {
      "text/plain": [
       "0.3697"
      ]
     },
     "execution_count": 25,
     "metadata": {},
     "output_type": "execute_result"
    }
   ],
   "source": [
    "prediction_accuracy(model, test_loader, device)"
   ]
  },
  {
   "cell_type": "code",
   "execution_count": 26,
   "metadata": {
    "tags": []
   },
   "outputs": [],
   "source": [
    "class ConvolutionalModel(nn.Module):\n",
    "    def __init__(self, stride):\n",
    "        super().__init__()\n",
    "        \n",
    "        self.pool = nn.MaxPool2d(2, 2)\n",
    "        self.conv1 = nn.Conv2d(3, 6, 3, stride=stride)\n",
    "        self.conv2 = nn.Conv2d(6, 16, 3, stride=stride)\n",
    "        self.conv3 = nn.Conv2d(16, 32, 3, stride=stride)\n",
    "        self.mlp = nn.Linear(32 * 4 * 4, 10)\n",
    "\n",
    "    def forward(self, x):\n",
    "        x = F.gelu(self.conv1(x))\n",
    "        x = self.pool(x)\n",
    "        \n",
    "        x = F.gelu(self.conv2(x))\n",
    "        x = self.pool(x)\n",
    "        \n",
    "        x = F.gelu(self.conv3(x))\n",
    "        \n",
    "        x = torch.flatten(x, 1)\n",
    "        x = self.mlp(x)\n",
    "        \n",
    "        return F.softmax(x, dim=1)"
   ]
  },
  {
   "cell_type": "code",
   "execution_count": 27,
   "metadata": {},
   "outputs": [
    {
     "name": "stdout",
     "output_type": "stream",
     "text": [
      "ConvolutionalModel(\n",
      "  (pool): MaxPool2d(kernel_size=2, stride=2, padding=0, dilation=1, ceil_mode=False)\n",
      "  (conv1): Conv2d(3, 6, kernel_size=(3, 3), stride=(1, 1))\n",
      "  (conv2): Conv2d(6, 16, kernel_size=(3, 3), stride=(1, 1))\n",
      "  (conv3): Conv2d(16, 32, kernel_size=(3, 3), stride=(1, 1))\n",
      "  (mlp): Linear(in_features=512, out_features=10, bias=True)\n",
      ") Adam (\n",
      "Parameter Group 0\n",
      "    amsgrad: False\n",
      "    betas: (0.9, 0.999)\n",
      "    capturable: False\n",
      "    differentiable: False\n",
      "    eps: 1e-08\n",
      "    foreach: None\n",
      "    fused: None\n",
      "    lr: 0.001\n",
      "    maximize: False\n",
      "    weight_decay: 0\n",
      ") cuda\n",
      "Epoch 1\n"
     ]
    },
    {
     "name": "stderr",
     "output_type": "stream",
     "text": [
      "Training: 100%|█████████████████████████████████████████████████████████████████████████████████████████████████████████████| 391/391 [00:05<00:00, 65.24it/s]\n"
     ]
    },
    {
     "name": "stdout",
     "output_type": "stream",
     "text": [
      "Correct: 3391, Total: 10000, Accuracy: 0.34\n",
      "Accuracy: 33.910000000000004% (0.3391)\n",
      "Loss: 2.1450329705288538\n",
      "Epoch 2\n"
     ]
    },
    {
     "name": "stderr",
     "output_type": "stream",
     "text": [
      "Training: 100%|█████████████████████████████████████████████████████████████████████████████████████████████████████████████| 391/391 [00:05<00:00, 77.43it/s]\n"
     ]
    },
    {
     "name": "stdout",
     "output_type": "stream",
     "text": [
      "Correct: 3849, Total: 10000, Accuracy: 0.38\n",
      "Accuracy: 38.49% (0.3849)\n",
      "Loss: 2.081033832148502\n",
      "Epoch 3\n"
     ]
    },
    {
     "name": "stderr",
     "output_type": "stream",
     "text": [
      "Training: 100%|█████████████████████████████████████████████████████████████████████████████████████████████████████████████| 391/391 [00:05<00:00, 77.33it/s]\n"
     ]
    },
    {
     "name": "stdout",
     "output_type": "stream",
     "text": [
      "Correct: 4150, Total: 10000, Accuracy: 0.41\n",
      "Accuracy: 41.5% (0.415)\n",
      "Loss: 2.0354411225569877\n",
      "Epoch 4\n"
     ]
    },
    {
     "name": "stderr",
     "output_type": "stream",
     "text": [
      "Training: 100%|█████████████████████████████████████████████████████████████████████████████████████████████████████████████| 391/391 [00:05<00:00, 77.11it/s]\n"
     ]
    },
    {
     "name": "stdout",
     "output_type": "stream",
     "text": [
      "Correct: 4366, Total: 10000, Accuracy: 0.44\n",
      "Accuracy: 43.66% (0.4366)\n",
      "Loss: 2.040410305324354\n",
      "Epoch 5\n"
     ]
    },
    {
     "name": "stderr",
     "output_type": "stream",
     "text": [
      "Training: 100%|█████████████████████████████████████████████████████████████████████████████████████████████████████████████| 391/391 [00:05<00:00, 76.38it/s]\n"
     ]
    },
    {
     "name": "stdout",
     "output_type": "stream",
     "text": [
      "Correct: 4473, Total: 10000, Accuracy: 0.45\n",
      "Accuracy: 44.73% (0.4473)\n",
      "Loss: 2.0138502811130725\n",
      "Epoch 6\n"
     ]
    },
    {
     "name": "stderr",
     "output_type": "stream",
     "text": [
      "Training: 100%|█████████████████████████████████████████████████████████████████████████████████████████████████████████████| 391/391 [00:05<00:00, 76.67it/s]\n"
     ]
    },
    {
     "name": "stdout",
     "output_type": "stream",
     "text": [
      "Correct: 4565, Total: 10000, Accuracy: 0.46\n",
      "Accuracy: 45.65% (0.4565)\n",
      "Loss: 1.985540747642517\n",
      "Epoch 7\n"
     ]
    },
    {
     "name": "stderr",
     "output_type": "stream",
     "text": [
      "Training: 100%|█████████████████████████████████████████████████████████████████████████████████████████████████████████████| 391/391 [00:05<00:00, 77.24it/s]\n"
     ]
    },
    {
     "name": "stdout",
     "output_type": "stream",
     "text": [
      "Correct: 4721, Total: 10000, Accuracy: 0.47\n",
      "Accuracy: 47.21% (0.4721)\n",
      "Loss: 1.9698506970154612\n",
      "Epoch 8\n"
     ]
    },
    {
     "name": "stderr",
     "output_type": "stream",
     "text": [
      "Training: 100%|█████████████████████████████████████████████████████████████████████████████████████████████████████████████| 391/391 [00:05<00:00, 74.59it/s]\n"
     ]
    },
    {
     "name": "stdout",
     "output_type": "stream",
     "text": [
      "Correct: 4785, Total: 10000, Accuracy: 0.48\n",
      "Accuracy: 47.85% (0.4785)\n",
      "Loss: 1.9740371955068488\n",
      "Epoch 9\n"
     ]
    },
    {
     "name": "stderr",
     "output_type": "stream",
     "text": [
      "Training: 100%|█████████████████████████████████████████████████████████████████████████████████████████████████████████████| 391/391 [00:05<00:00, 74.83it/s]\n"
     ]
    },
    {
     "name": "stdout",
     "output_type": "stream",
     "text": [
      "Correct: 4810, Total: 10000, Accuracy: 0.48\n",
      "Accuracy: 48.1% (0.481)\n",
      "Loss: 1.9763091363404925\n",
      "Epoch 10\n"
     ]
    },
    {
     "name": "stderr",
     "output_type": "stream",
     "text": [
      "Training: 100%|█████████████████████████████████████████████████████████████████████████████████████████████████████████████| 391/391 [00:05<00:00, 74.86it/s]\n"
     ]
    },
    {
     "name": "stdout",
     "output_type": "stream",
     "text": [
      "Correct: 4777, Total: 10000, Accuracy: 0.48\n",
      "Accuracy: 47.77% (0.4777)\n",
      "Loss: 1.9481620474865562\n",
      "Epoch 11\n"
     ]
    },
    {
     "name": "stderr",
     "output_type": "stream",
     "text": [
      "Training: 100%|█████████████████████████████████████████████████████████████████████████████████████████████████████████████| 391/391 [00:05<00:00, 74.92it/s]\n"
     ]
    },
    {
     "name": "stdout",
     "output_type": "stream",
     "text": [
      "Correct: 4959, Total: 10000, Accuracy: 0.50\n",
      "Accuracy: 49.59% (0.4959)\n",
      "Loss: 1.9434230327606201\n",
      "Epoch 12\n"
     ]
    },
    {
     "name": "stderr",
     "output_type": "stream",
     "text": [
      "Training: 100%|█████████████████████████████████████████████████████████████████████████████████████████████████████████████| 391/391 [00:05<00:00, 74.93it/s]\n"
     ]
    },
    {
     "name": "stdout",
     "output_type": "stream",
     "text": [
      "Correct: 5009, Total: 10000, Accuracy: 0.50\n",
      "Accuracy: 50.09% (0.5009)\n",
      "Loss: 1.9308840287359137\n",
      "Epoch 13\n"
     ]
    },
    {
     "name": "stderr",
     "output_type": "stream",
     "text": [
      "Training: 100%|█████████████████████████████████████████████████████████████████████████████████████████████████████████████| 391/391 [00:05<00:00, 74.99it/s]\n"
     ]
    },
    {
     "name": "stdout",
     "output_type": "stream",
     "text": [
      "Correct: 5123, Total: 10000, Accuracy: 0.51\n",
      "Accuracy: 51.23% (0.5123)\n",
      "Loss: 1.940484787288465\n",
      "Epoch 14\n"
     ]
    },
    {
     "name": "stderr",
     "output_type": "stream",
     "text": [
      "Training: 100%|█████████████████████████████████████████████████████████████████████████████████████████████████████████████| 391/391 [00:05<00:00, 74.93it/s]\n"
     ]
    },
    {
     "name": "stdout",
     "output_type": "stream",
     "text": [
      "Correct: 5109, Total: 10000, Accuracy: 0.51\n",
      "Accuracy: 51.09% (0.5109)\n",
      "Loss: 1.9144225057802702\n",
      "Epoch 15\n"
     ]
    },
    {
     "name": "stderr",
     "output_type": "stream",
     "text": [
      "Training: 100%|█████████████████████████████████████████████████████████████████████████████████████████████████████████████| 391/391 [00:05<00:00, 74.84it/s]\n"
     ]
    },
    {
     "name": "stdout",
     "output_type": "stream",
     "text": [
      "Correct: 5022, Total: 10000, Accuracy: 0.50\n",
      "Accuracy: 50.22% (0.5022)\n",
      "Loss: 1.9222495932328074\n"
     ]
    }
   ],
   "source": [
    "conv_model = ConvolutionalModel(stride=1)\n",
    "if device.type == \"cuda\":\n",
    "    conv_model = conv_model.to(device)\n",
    "print(conv_model, opt, device)\n",
    "\n",
    "learning_rate = 0.001\n",
    "\n",
    "BATCH_SIZE = 128\n",
    "train_loader = torch.utils.data.DataLoader(trainset, batch_size=BATCH_SIZE, shuffle=True)\n",
    "test_loader = torch.utils.data.DataLoader(testset, batch_size=BATCH_SIZE)\n",
    "opt = torch.optim.Adam(conv_model.parameters(), lr=learning_rate)\n",
    "\n",
    "timestamp = datetime.now().strftime('%Y%m%d_%H%M%S')\n",
    "writer = SummaryWriter('runs/fashion_trainer_{}'.format(timestamp))\n",
    "\n",
    "epochs = 15\n",
    "for epoch in range(epochs):\n",
    "    print(f\"Epoch {epoch+1}\")\n",
    "    avg_loss = fit_one_cycle(conv_model, opt, epoch, writer, device, flatten=False)\n",
    "    acc = prediction_accuracy(conv_model, test_loader, device, flatten=False)\n",
    "    print(f\"Accuracy: {acc * 100}% ({acc})\\nLoss: {avg_loss}\")"
   ]
  },
  {
   "cell_type": "code",
   "execution_count": 28,
   "metadata": {
    "tags": []
   },
   "outputs": [
    {
     "name": "stdout",
     "output_type": "stream",
     "text": [
      "Epoch 1\n"
     ]
    },
    {
     "name": "stderr",
     "output_type": "stream",
     "text": [
      "Training: 100%|█████████████████████████████████████████████████████████████████████████████████████████████████████████████| 391/391 [00:05<00:00, 74.62it/s]\n",
      "Validation: 100%|███████████████████████████████████████████████████████████████████████████████████████████████████████████| 391/391 [00:04<00:00, 83.25it/s]\n"
     ]
    },
    {
     "name": "stdout",
     "output_type": "stream",
     "text": [
      "LOSS train 1.9033755816911395 valid 1.90347421169281\n",
      "Saving model\n",
      "Epoch 2\n"
     ]
    },
    {
     "name": "stderr",
     "output_type": "stream",
     "text": [
      "Training: 100%|█████████████████████████████████████████████████████████████████████████████████████████████████████████████| 391/391 [00:05<00:00, 74.79it/s]\n",
      "Validation: 100%|███████████████████████████████████████████████████████████████████████████████████████████████████████████| 391/391 [00:04<00:00, 83.42it/s]\n"
     ]
    },
    {
     "name": "stdout",
     "output_type": "stream",
     "text": [
      "LOSS train 1.9116562542162443 valid 1.9050859212875366\n",
      "Epoch 3\n"
     ]
    },
    {
     "name": "stderr",
     "output_type": "stream",
     "text": [
      "Training: 100%|█████████████████████████████████████████████████████████████████████████████████████████████████████████████| 391/391 [00:05<00:00, 74.75it/s]\n",
      "Validation: 100%|███████████████████████████████████████████████████████████████████████████████████████████████████████████| 391/391 [00:04<00:00, 83.47it/s]\n"
     ]
    },
    {
     "name": "stdout",
     "output_type": "stream",
     "text": [
      "LOSS train 1.9117108144258197 valid 1.891832709312439\n",
      "Epoch 4\n"
     ]
    },
    {
     "name": "stderr",
     "output_type": "stream",
     "text": [
      "Training: 100%|█████████████████████████████████████████████████████████████████████████████████████████████████████████████| 391/391 [00:05<00:00, 74.89it/s]\n",
      "Validation: 100%|███████████████████████████████████████████████████████████████████████████████████████████████████████████| 391/391 [00:04<00:00, 83.38it/s]\n"
     ]
    },
    {
     "name": "stdout",
     "output_type": "stream",
     "text": [
      "LOSS train 1.8957085609436035 valid 1.9010725021362305\n",
      "Saving model\n",
      "Epoch 5\n"
     ]
    },
    {
     "name": "stderr",
     "output_type": "stream",
     "text": [
      "Training: 100%|█████████████████████████████████████████████████████████████████████████████████████████████████████████████| 391/391 [00:05<00:00, 77.42it/s]\n",
      "Validation: 100%|███████████████████████████████████████████████████████████████████████████████████████████████████████████| 391/391 [00:04<00:00, 84.64it/s]\n"
     ]
    },
    {
     "name": "stdout",
     "output_type": "stream",
     "text": [
      "LOSS train 1.8849379702618247 valid 1.8791587352752686\n",
      "Saving model\n",
      "Epoch 6\n"
     ]
    },
    {
     "name": "stderr",
     "output_type": "stream",
     "text": [
      "Training: 100%|█████████████████████████████████████████████████████████████████████████████████████████████████████████████| 391/391 [00:05<00:00, 77.53it/s]\n",
      "Validation: 100%|███████████████████████████████████████████████████████████████████████████████████████████████████████████| 391/391 [00:04<00:00, 84.15it/s]\n"
     ]
    },
    {
     "name": "stdout",
     "output_type": "stream",
     "text": [
      "LOSS train 1.8787798693305569 valid 1.8805879354476929\n",
      "Saving model\n",
      "Epoch 7\n"
     ]
    },
    {
     "name": "stderr",
     "output_type": "stream",
     "text": [
      "Training: 100%|█████████████████████████████████████████████████████████████████████████████████████████████████████████████| 391/391 [00:05<00:00, 76.69it/s]\n",
      "Validation: 100%|███████████████████████████████████████████████████████████████████████████████████████████████████████████| 391/391 [00:04<00:00, 83.40it/s]\n"
     ]
    },
    {
     "name": "stdout",
     "output_type": "stream",
     "text": [
      "LOSS train 1.8947773607153642 valid 1.881413459777832\n",
      "Epoch 8\n"
     ]
    },
    {
     "name": "stderr",
     "output_type": "stream",
     "text": [
      "Training: 100%|█████████████████████████████████████████████████████████████████████████████████████████████████████████████| 391/391 [00:05<00:00, 76.86it/s]\n",
      "Validation: 100%|███████████████████████████████████████████████████████████████████████████████████████████████████████████| 391/391 [00:04<00:00, 83.90it/s]\n"
     ]
    },
    {
     "name": "stdout",
     "output_type": "stream",
     "text": [
      "LOSS train 1.9004598918714022 valid 1.8774312734603882\n",
      "Epoch 9\n"
     ]
    },
    {
     "name": "stderr",
     "output_type": "stream",
     "text": [
      "Training: 100%|█████████████████████████████████████████████████████████████████████████████████████████████████████████████| 391/391 [00:05<00:00, 76.88it/s]\n",
      "Validation: 100%|███████████████████████████████████████████████████████████████████████████████████████████████████████████| 391/391 [00:04<00:00, 83.67it/s]\n"
     ]
    },
    {
     "name": "stdout",
     "output_type": "stream",
     "text": [
      "LOSS train 1.8739274551993923 valid 1.8688076734542847\n",
      "Saving model\n",
      "Epoch 10\n"
     ]
    },
    {
     "name": "stderr",
     "output_type": "stream",
     "text": [
      "Training: 100%|█████████████████████████████████████████████████████████████████████████████████████████████████████████████| 391/391 [00:05<00:00, 76.91it/s]\n",
      "Validation: 100%|███████████████████████████████████████████████████████████████████████████████████████████████████████████| 391/391 [00:04<00:00, 83.57it/s]\n"
     ]
    },
    {
     "name": "stdout",
     "output_type": "stream",
     "text": [
      "LOSS train 1.866797961686787 valid 1.8707298040390015\n",
      "Saving model\n",
      "Epoch 11\n"
     ]
    },
    {
     "name": "stderr",
     "output_type": "stream",
     "text": [
      "Training: 100%|█████████████████████████████████████████████████████████████████████████████████████████████████████████████| 391/391 [00:05<00:00, 76.86it/s]\n",
      "Validation: 100%|███████████████████████████████████████████████████████████████████████████████████████████████████████████| 391/391 [00:04<00:00, 83.65it/s]\n"
     ]
    },
    {
     "name": "stdout",
     "output_type": "stream",
     "text": [
      "LOSS train 1.8749064646269147 valid 1.8627781867980957\n",
      "Epoch 12\n"
     ]
    },
    {
     "name": "stderr",
     "output_type": "stream",
     "text": [
      "Training: 100%|█████████████████████████████████████████████████████████████████████████████████████████████████████████████| 391/391 [00:05<00:00, 77.63it/s]\n",
      "Validation: 100%|███████████████████████████████████████████████████████████████████████████████████████████████████████████| 391/391 [00:04<00:00, 84.52it/s]\n"
     ]
    },
    {
     "name": "stdout",
     "output_type": "stream",
     "text": [
      "LOSS train 1.8780115403627093 valid 1.8668302297592163\n",
      "Epoch 13\n"
     ]
    },
    {
     "name": "stderr",
     "output_type": "stream",
     "text": [
      "Training: 100%|█████████████████████████████████████████████████████████████████████████████████████████████████████████████| 391/391 [00:05<00:00, 76.62it/s]\n",
      "Validation: 100%|███████████████████████████████████████████████████████████████████████████████████████████████████████████| 391/391 [00:04<00:00, 83.16it/s]\n"
     ]
    },
    {
     "name": "stdout",
     "output_type": "stream",
     "text": [
      "LOSS train 1.8809756856215627 valid 1.8577682971954346\n",
      "Epoch 14\n"
     ]
    },
    {
     "name": "stderr",
     "output_type": "stream",
     "text": [
      "Training: 100%|█████████████████████████████████████████████████████████████████████████████████████████████████████████████| 391/391 [00:05<00:00, 76.55it/s]\n",
      "Validation: 100%|███████████████████████████████████████████████████████████████████████████████████████████████████████████| 391/391 [00:04<00:00, 84.07it/s]\n"
     ]
    },
    {
     "name": "stdout",
     "output_type": "stream",
     "text": [
      "LOSS train 1.8796743468234414 valid 1.874685287475586\n",
      "Epoch 15\n"
     ]
    },
    {
     "name": "stderr",
     "output_type": "stream",
     "text": [
      "Training: 100%|█████████████████████████████████████████████████████████████████████████████████████████████████████████████| 391/391 [00:05<00:00, 74.42it/s]\n",
      "Validation: 100%|███████████████████████████████████████████████████████████████████████████████████████████████████████████| 391/391 [00:04<00:00, 84.20it/s]"
     ]
    },
    {
     "name": "stdout",
     "output_type": "stream",
     "text": [
      "LOSS train 1.873974229160108 valid 1.8460988998413086\n"
     ]
    },
    {
     "name": "stderr",
     "output_type": "stream",
     "text": [
      "\n"
     ]
    }
   ],
   "source": [
    "validation_loop(conv_model, train_loader, epochs, writer, device, flatten=False)"
   ]
  },
  {
   "cell_type": "code",
   "execution_count": 29,
   "metadata": {
    "tags": []
   },
   "outputs": [],
   "source": [
    "class StridedConvolutionalModel(nn.Module):\n",
    "    def __init__(self, stride):\n",
    "        super().__init__()\n",
    "        \n",
    "        self.conv1 = nn.Conv2d(3, 6, 3, stride=stride)\n",
    "        self.conv2 = nn.Conv2d(6, 16, 3, stride=stride)\n",
    "        self.conv3 = nn.Conv2d(16, 32, 3, stride=1)\n",
    "        self.mlp = nn.Linear(32 * 4 * 4, 10)\n",
    "\n",
    "    def forward(self, x):\n",
    "        x = F.gelu(self.conv1(x))\n",
    "        \n",
    "        x = F.gelu(self.conv2(x))\n",
    "        \n",
    "        x = F.gelu(self.conv3(x))\n",
    "        \n",
    "        x = torch.flatten(x, 1)\n",
    "        x = self.mlp(x)\n",
    "        \n",
    "        return F.softmax(x, dim=1)"
   ]
  },
  {
   "cell_type": "code",
   "execution_count": 30,
   "metadata": {
    "tags": []
   },
   "outputs": [],
   "source": [
    "class ResidualConvolutionalModel(nn.Module):\n",
    "    def __init__(self, stride=1):\n",
    "        super().__init__()\n",
    "        \n",
    "        self.pool = nn.MaxPool2d(kernel_size=2, stride=2)\n",
    "        self.conv1 = nn.Conv2d(in_channels=3, out_channels=6, kernel_size=3, stride=stride, padding=1)\n",
    "        self.conv2 = nn.Conv2d(in_channels=6, out_channels=16, kernel_size=3, stride=stride, padding=1)\n",
    "        self.conv3 = nn.Conv2d(in_channels=16, out_channels=32, kernel_size=3, stride=stride, padding=1)\n",
    "        self.mlp = nn.Linear(in_features=(32 * 8 * 8), out_features=10)\n",
    "\n",
    "        self.proj1 = nn.Conv2d(in_channels=3, out_channels=6, kernel_size=1, stride=stride)\n",
    "        self.proj2 = nn.Conv2d(in_channels=6, out_channels=16, kernel_size=1, stride=stride)\n",
    "        self.proj3 = nn.Conv2d(in_channels=16, out_channels=32, kernel_size=1, stride=stride)\n",
    "\n",
    "    def forward(self, x):\n",
    "        res1 = self.proj1(x)\n",
    "        x = F.gelu(self.conv1(x))\n",
    "        x = x + res1\n",
    "        x = self.pool(x)\n",
    "        \n",
    "        res2 = self.proj2(x)\n",
    "        x = F.gelu(self.conv2(x))\n",
    "        x = x + res2\n",
    "        x = self.pool(x)\n",
    "        \n",
    "        res3 = self.proj3(x)\n",
    "        x = F.gelu(self.conv3(x))\n",
    "        x = x + res3\n",
    "        \n",
    "        x = torch.flatten(x, 1)\n",
    "        x = self.mlp(x)\n",
    "        \n",
    "        return F.softmax(x, dim=1)"
   ]
  },
  {
   "cell_type": "code",
   "execution_count": 31,
   "metadata": {
    "tags": []
   },
   "outputs": [
    {
     "name": "stdout",
     "output_type": "stream",
     "text": [
      "ResidualConvolutionalModel(\n",
      "  (pool): MaxPool2d(kernel_size=2, stride=2, padding=0, dilation=1, ceil_mode=False)\n",
      "  (conv1): Conv2d(3, 6, kernel_size=(3, 3), stride=(1, 1), padding=(1, 1))\n",
      "  (conv2): Conv2d(6, 16, kernel_size=(3, 3), stride=(1, 1), padding=(1, 1))\n",
      "  (conv3): Conv2d(16, 32, kernel_size=(3, 3), stride=(1, 1), padding=(1, 1))\n",
      "  (mlp): Linear(in_features=2048, out_features=10, bias=True)\n",
      "  (proj1): Conv2d(3, 6, kernel_size=(1, 1), stride=(1, 1))\n",
      "  (proj2): Conv2d(6, 16, kernel_size=(1, 1), stride=(1, 1))\n",
      "  (proj3): Conv2d(16, 32, kernel_size=(1, 1), stride=(1, 1))\n",
      ") Adam (\n",
      "Parameter Group 0\n",
      "    amsgrad: False\n",
      "    betas: (0.9, 0.999)\n",
      "    capturable: False\n",
      "    differentiable: False\n",
      "    eps: 1e-08\n",
      "    foreach: None\n",
      "    fused: None\n",
      "    lr: 0.001\n",
      "    maximize: False\n",
      "    weight_decay: 0\n",
      ") cuda\n",
      "Epoch 1\n"
     ]
    },
    {
     "name": "stderr",
     "output_type": "stream",
     "text": [
      "Training: 100%|█████████████████████████████████████████████████████████████████████████████████████████████████████████████| 391/391 [00:05<00:00, 69.16it/s]\n"
     ]
    },
    {
     "name": "stdout",
     "output_type": "stream",
     "text": [
      "Correct: 4309, Total: 10000, Accuracy: 0.43\n",
      "Accuracy: 43.09% (0.4309)\n",
      "Loss: 2.049777256815057\n",
      "Epoch 2\n"
     ]
    },
    {
     "name": "stderr",
     "output_type": "stream",
     "text": [
      "Training: 100%|█████████████████████████████████████████████████████████████████████████████████████████████████████████████| 391/391 [00:05<00:00, 70.99it/s]\n"
     ]
    },
    {
     "name": "stdout",
     "output_type": "stream",
     "text": [
      "Correct: 4596, Total: 10000, Accuracy: 0.46\n",
      "Accuracy: 45.96% (0.4596)\n",
      "Loss: 2.011843486836082\n",
      "Epoch 3\n"
     ]
    },
    {
     "name": "stderr",
     "output_type": "stream",
     "text": [
      "Training: 100%|█████████████████████████████████████████████████████████████████████████████████████████████████████████████| 391/391 [00:05<00:00, 71.72it/s]\n"
     ]
    },
    {
     "name": "stdout",
     "output_type": "stream",
     "text": [
      "Correct: 4795, Total: 10000, Accuracy: 0.48\n",
      "Accuracy: 47.949999999999996% (0.4795)\n",
      "Loss: 1.9950272974215055\n",
      "Epoch 4\n"
     ]
    },
    {
     "name": "stderr",
     "output_type": "stream",
     "text": [
      "Training: 100%|█████████████████████████████████████████████████████████████████████████████████████████████████████████████| 391/391 [00:05<00:00, 71.49it/s]\n"
     ]
    },
    {
     "name": "stdout",
     "output_type": "stream",
     "text": [
      "Correct: 4942, Total: 10000, Accuracy: 0.49\n",
      "Accuracy: 49.419999999999995% (0.4942)\n",
      "Loss: 1.9490987627129805\n",
      "Epoch 5\n"
     ]
    },
    {
     "name": "stderr",
     "output_type": "stream",
     "text": [
      "Training: 100%|█████████████████████████████████████████████████████████████████████████████████████████████████████████████| 391/391 [00:05<00:00, 71.65it/s]\n"
     ]
    },
    {
     "name": "stdout",
     "output_type": "stream",
     "text": [
      "Correct: 5004, Total: 10000, Accuracy: 0.50\n",
      "Accuracy: 50.03999999999999% (0.5004)\n",
      "Loss: 1.9440561031040393\n",
      "Epoch 6\n"
     ]
    },
    {
     "name": "stderr",
     "output_type": "stream",
     "text": [
      "Training: 100%|█████████████████████████████████████████████████████████████████████████████████████████████████████████████| 391/391 [00:05<00:00, 71.61it/s]\n"
     ]
    },
    {
     "name": "stdout",
     "output_type": "stream",
     "text": [
      "Correct: 5139, Total: 10000, Accuracy: 0.51\n",
      "Accuracy: 51.39% (0.5139)\n",
      "Loss: 1.9336061916853253\n",
      "Epoch 7\n"
     ]
    },
    {
     "name": "stderr",
     "output_type": "stream",
     "text": [
      "Training: 100%|█████████████████████████████████████████████████████████████████████████████████████████████████████████████| 391/391 [00:05<00:00, 71.67it/s]\n"
     ]
    },
    {
     "name": "stdout",
     "output_type": "stream",
     "text": [
      "Correct: 5234, Total: 10000, Accuracy: 0.52\n",
      "Accuracy: 52.339999999999996% (0.5234)\n",
      "Loss: 1.9224098920822144\n",
      "Epoch 8\n"
     ]
    },
    {
     "name": "stderr",
     "output_type": "stream",
     "text": [
      "Training: 100%|█████████████████████████████████████████████████████████████████████████████████████████████████████████████| 391/391 [00:05<00:00, 71.48it/s]\n"
     ]
    },
    {
     "name": "stdout",
     "output_type": "stream",
     "text": [
      "Correct: 5328, Total: 10000, Accuracy: 0.53\n",
      "Accuracy: 53.28000000000001% (0.5328)\n",
      "Loss: 1.8990827987068577\n",
      "Epoch 9\n"
     ]
    },
    {
     "name": "stderr",
     "output_type": "stream",
     "text": [
      "Training: 100%|█████████████████████████████████████████████████████████████████████████████████████████████████████████████| 391/391 [00:05<00:00, 71.55it/s]\n"
     ]
    },
    {
     "name": "stdout",
     "output_type": "stream",
     "text": [
      "Correct: 5389, Total: 10000, Accuracy: 0.54\n",
      "Accuracy: 53.89000000000001% (0.5389)\n",
      "Loss: 1.9150423627150686\n",
      "Epoch 10\n"
     ]
    },
    {
     "name": "stderr",
     "output_type": "stream",
     "text": [
      "Training: 100%|█████████████████████████████████████████████████████████████████████████████████████████████████████████████| 391/391 [00:05<00:00, 71.78it/s]\n"
     ]
    },
    {
     "name": "stdout",
     "output_type": "stream",
     "text": [
      "Correct: 5502, Total: 10000, Accuracy: 0.55\n",
      "Accuracy: 55.02% (0.5502)\n",
      "Loss: 1.8866726912950214\n",
      "Epoch 11\n"
     ]
    },
    {
     "name": "stderr",
     "output_type": "stream",
     "text": [
      "Training: 100%|█████████████████████████████████████████████████████████████████████████████████████████████████████████████| 391/391 [00:05<00:00, 71.76it/s]\n"
     ]
    },
    {
     "name": "stdout",
     "output_type": "stream",
     "text": [
      "Correct: 5579, Total: 10000, Accuracy: 0.56\n",
      "Accuracy: 55.78999999999999% (0.5579)\n",
      "Loss: 1.8794132973018445\n",
      "Epoch 12\n"
     ]
    },
    {
     "name": "stderr",
     "output_type": "stream",
     "text": [
      "Training: 100%|█████████████████████████████████████████████████████████████████████████████████████████████████████████████| 391/391 [00:05<00:00, 71.83it/s]\n"
     ]
    },
    {
     "name": "stdout",
     "output_type": "stream",
     "text": [
      "Correct: 5701, Total: 10000, Accuracy: 0.57\n",
      "Accuracy: 57.010000000000005% (0.5701)\n",
      "Loss: 1.8774762279108952\n",
      "Epoch 13\n"
     ]
    },
    {
     "name": "stderr",
     "output_type": "stream",
     "text": [
      "Training: 100%|█████████████████████████████████████████████████████████████████████████████████████████████████████████████| 391/391 [00:05<00:00, 71.59it/s]\n"
     ]
    },
    {
     "name": "stdout",
     "output_type": "stream",
     "text": [
      "Correct: 5725, Total: 10000, Accuracy: 0.57\n",
      "Accuracy: 57.25% (0.5725)\n",
      "Loss: 1.8627582725725675\n",
      "Epoch 14\n"
     ]
    },
    {
     "name": "stderr",
     "output_type": "stream",
     "text": [
      "Training: 100%|█████████████████████████████████████████████████████████████████████████████████████████████████████████████| 391/391 [00:05<00:00, 71.61it/s]\n"
     ]
    },
    {
     "name": "stdout",
     "output_type": "stream",
     "text": [
      "Correct: 5791, Total: 10000, Accuracy: 0.58\n",
      "Accuracy: 57.91% (0.5791)\n",
      "Loss: 1.8302572902880216\n",
      "Epoch 15\n"
     ]
    },
    {
     "name": "stderr",
     "output_type": "stream",
     "text": [
      "Training: 100%|█████████████████████████████████████████████████████████████████████████████████████████████████████████████| 391/391 [00:05<00:00, 71.67it/s]\n"
     ]
    },
    {
     "name": "stdout",
     "output_type": "stream",
     "text": [
      "Correct: 5881, Total: 10000, Accuracy: 0.59\n",
      "Accuracy: 58.809999999999995% (0.5881)\n",
      "Loss: 1.822570750587865\n"
     ]
    }
   ],
   "source": [
    "conv_model = ResidualConvolutionalModel()\n",
    "if device.type == \"cuda\":\n",
    "    conv_model = conv_model.to(device)\n",
    "\n",
    "learning_rate = 0.001\n",
    "\n",
    "BATCH_SIZE = 128\n",
    "train_loader = torch.utils.data.DataLoader(trainset, batch_size=BATCH_SIZE, shuffle=True)\n",
    "test_loader = torch.utils.data.DataLoader(testset, batch_size=BATCH_SIZE)\n",
    "\n",
    "opt = torch.optim.Adam(conv_model.parameters(), lr=learning_rate)\n",
    "print(conv_model, opt, device)\n",
    "\n",
    "timestamp = datetime.now().strftime('%Y%m%d_%H%M%S')\n",
    "writer = SummaryWriter('runs/fashion_trainer_{}'.format(timestamp))\n",
    "\n",
    "epochs = 15\n",
    "for epoch in range(epochs):\n",
    "    print(f\"Epoch {epoch+1}\")\n",
    "    avg_loss = fit_one_cycle(conv_model, opt, epoch, writer, device, flatten=False)\n",
    "    acc = prediction_accuracy(conv_model, test_loader, device, flatten=False)\n",
    "    print(f\"Accuracy: {acc * 100}% ({acc})\\nLoss: {avg_loss}\")"
   ]
  },
  {
   "cell_type": "markdown",
   "metadata": {},
   "source": [
    "Question : Pourquoi n'aurait-on pas pu le faire avec une convolution à stride ?  \n",
    "Réponse : "
   ]
  },
  {
   "cell_type": "code",
   "execution_count": 32,
   "metadata": {
    "tags": []
   },
   "outputs": [],
   "source": [
    "class BatchNormConv2d(nn.Module):\n",
    "    def __init__(self, in_ch, out_ch, kernel_size=3, stride=1, padding=1):\n",
    "        super(BatchNormConv2d, self).__init__()\n",
    "        self.convs = []\n",
    "        self.bns = []\n",
    "        self.gelu = nn.GELU()\n",
    "        self.conv = nn.Conv2d(in_channels=in_ch, out_channels=out_ch, kernel_size=kernel_size, stride=stride, padding=padding)\n",
    "        self.bn = nn.BatchNorm2d(out_ch)\n",
    "        \n",
    "    def forward(self, x):\n",
    "        return self.gelu(self.bn(self.conv(x)))"
   ]
  },
  {
   "cell_type": "code",
   "execution_count": 33,
   "metadata": {
    "tags": []
   },
   "outputs": [],
   "source": [
    "class BatchNormResidualConvolutionalModel(nn.Module):\n",
    "    def __init__(self, stride=1, num_classes=10):\n",
    "        super().__init__()\n",
    "        \n",
    "        self.pool = nn.MaxPool2d(kernel_size=2, stride=2)\n",
    "        \n",
    "        self.conv1 = BatchNormConv2d(3, 6, stride=stride)\n",
    "        self.conv2 = BatchNormConv2d(6, 16, stride=stride)\n",
    "        self.conv3 = BatchNormConv2d(16, 32, stride=stride)\n",
    "        \n",
    "        self.mlp = nn.Linear(in_features=(32 * 4 * 4), out_features=num_classes)\n",
    "\n",
    "        self.proj1 = nn.Conv2d(in_channels=3, out_channels=6, kernel_size=1, stride=stride)\n",
    "        self.proj2 = nn.Conv2d(in_channels=6, out_channels=16, kernel_size=1, stride=stride)\n",
    "        self.proj3 = nn.Conv2d(in_channels=16, out_channels=32, kernel_size=1, stride=stride)\n",
    "\n",
    "    def forward(self, x):\n",
    "        res1 = self.proj1(x)\n",
    "        x = self.conv1(x)\n",
    "        x = x + res1\n",
    "        x = self.pool(x)\n",
    "        \n",
    "        res2 = self.proj2(x)\n",
    "        x = self.conv2(x)\n",
    "        x = x + res2\n",
    "        x = self.pool(x)\n",
    "        \n",
    "        res3 = self.proj3(x)\n",
    "        x = self.conv3(x)\n",
    "        x = x + res3\n",
    "        x = self.pool(x)\n",
    "        \n",
    "        x = torch.flatten(x, 1)\n",
    "        x = self.mlp(x)\n",
    "        \n",
    "        return F.softmax(x, dim=1)"
   ]
  },
  {
   "cell_type": "code",
   "execution_count": 34,
   "metadata": {
    "tags": []
   },
   "outputs": [
    {
     "name": "stdout",
     "output_type": "stream",
     "text": [
      "BatchNormResidualConvolutionalModel(\n",
      "  (pool): MaxPool2d(kernel_size=2, stride=2, padding=0, dilation=1, ceil_mode=False)\n",
      "  (conv1): BatchNormConv2d(\n",
      "    (gelu): GELU(approximate='none')\n",
      "    (conv): Conv2d(3, 6, kernel_size=(3, 3), stride=(1, 1), padding=(1, 1))\n",
      "    (bn): BatchNorm2d(6, eps=1e-05, momentum=0.1, affine=True, track_running_stats=True)\n",
      "  )\n",
      "  (conv2): BatchNormConv2d(\n",
      "    (gelu): GELU(approximate='none')\n",
      "    (conv): Conv2d(6, 16, kernel_size=(3, 3), stride=(1, 1), padding=(1, 1))\n",
      "    (bn): BatchNorm2d(16, eps=1e-05, momentum=0.1, affine=True, track_running_stats=True)\n",
      "  )\n",
      "  (conv3): BatchNormConv2d(\n",
      "    (gelu): GELU(approximate='none')\n",
      "    (conv): Conv2d(16, 32, kernel_size=(3, 3), stride=(1, 1), padding=(1, 1))\n",
      "    (bn): BatchNorm2d(32, eps=1e-05, momentum=0.1, affine=True, track_running_stats=True)\n",
      "  )\n",
      "  (mlp): Linear(in_features=512, out_features=10, bias=True)\n",
      "  (proj1): Conv2d(3, 6, kernel_size=(1, 1), stride=(1, 1))\n",
      "  (proj2): Conv2d(6, 16, kernel_size=(1, 1), stride=(1, 1))\n",
      "  (proj3): Conv2d(16, 32, kernel_size=(1, 1), stride=(1, 1))\n",
      ") Adam (\n",
      "Parameter Group 0\n",
      "    amsgrad: False\n",
      "    betas: (0.9, 0.999)\n",
      "    capturable: False\n",
      "    differentiable: False\n",
      "    eps: 1e-08\n",
      "    foreach: None\n",
      "    fused: None\n",
      "    lr: 0.001\n",
      "    maximize: False\n",
      "    weight_decay: 0\n",
      ") cuda\n",
      "Epoch 1\n"
     ]
    },
    {
     "name": "stderr",
     "output_type": "stream",
     "text": [
      "Training: 100%|█████████████████████████████████████████████████████████████████████████████████████████████████████████████| 391/391 [00:05<00:00, 69.14it/s]\n"
     ]
    },
    {
     "name": "stdout",
     "output_type": "stream",
     "text": [
      "Correct: 5244, Total: 10000, Accuracy: 0.52\n",
      "Accuracy: 52.44% (0.5244)\n",
      "Loss: 1.9544193305467303\n",
      "Epoch 2\n"
     ]
    },
    {
     "name": "stderr",
     "output_type": "stream",
     "text": [
      "Training: 100%|█████████████████████████████████████████████████████████████████████████████████████████████████████████████| 391/391 [00:05<00:00, 71.20it/s]\n"
     ]
    },
    {
     "name": "stdout",
     "output_type": "stream",
     "text": [
      "Correct: 5815, Total: 10000, Accuracy: 0.58\n",
      "Accuracy: 58.15% (0.5815)\n",
      "Loss: 1.8753770213378103\n",
      "Epoch 3\n"
     ]
    },
    {
     "name": "stderr",
     "output_type": "stream",
     "text": [
      "Training: 100%|█████████████████████████████████████████████████████████████████████████████████████████████████████████████| 391/391 [00:05<00:00, 71.35it/s]\n"
     ]
    },
    {
     "name": "stdout",
     "output_type": "stream",
     "text": [
      "Correct: 6026, Total: 10000, Accuracy: 0.60\n",
      "Accuracy: 60.260000000000005% (0.6026)\n",
      "Loss: 1.8571485908407914\n",
      "Epoch 4\n"
     ]
    },
    {
     "name": "stderr",
     "output_type": "stream",
     "text": [
      "Training: 100%|█████████████████████████████████████████████████████████████████████████████████████████████████████████████| 391/391 [00:05<00:00, 71.31it/s]\n"
     ]
    },
    {
     "name": "stdout",
     "output_type": "stream",
     "text": [
      "Correct: 6161, Total: 10000, Accuracy: 0.62\n",
      "Accuracy: 61.61% (0.6161)\n",
      "Loss: 1.8412397911674099\n",
      "Epoch 5\n"
     ]
    },
    {
     "name": "stderr",
     "output_type": "stream",
     "text": [
      "Training: 100%|█████████████████████████████████████████████████████████████████████████████████████████████████████████████| 391/391 [00:05<00:00, 71.15it/s]\n"
     ]
    },
    {
     "name": "stdout",
     "output_type": "stream",
     "text": [
      "Correct: 6351, Total: 10000, Accuracy: 0.64\n",
      "Accuracy: 63.51% (0.6351)\n",
      "Loss: 1.8110730146106921\n",
      "Epoch 6\n"
     ]
    },
    {
     "name": "stderr",
     "output_type": "stream",
     "text": [
      "Training: 100%|█████████████████████████████████████████████████████████████████████████████████████████████████████████████| 391/391 [00:05<00:00, 71.21it/s]\n"
     ]
    },
    {
     "name": "stdout",
     "output_type": "stream",
     "text": [
      "Correct: 6383, Total: 10000, Accuracy: 0.64\n",
      "Accuracy: 63.83% (0.6383)\n",
      "Loss: 1.8019815244172748\n",
      "Epoch 7\n"
     ]
    },
    {
     "name": "stderr",
     "output_type": "stream",
     "text": [
      "Training: 100%|█████████████████████████████████████████████████████████████████████████████████████████████████████████████| 391/391 [00:05<00:00, 71.14it/s]\n"
     ]
    },
    {
     "name": "stdout",
     "output_type": "stream",
     "text": [
      "Correct: 6482, Total: 10000, Accuracy: 0.65\n",
      "Accuracy: 64.82% (0.6482)\n",
      "Loss: 1.803175556032281\n",
      "Epoch 8\n"
     ]
    },
    {
     "name": "stderr",
     "output_type": "stream",
     "text": [
      "Training: 100%|█████████████████████████████████████████████████████████████████████████████████████████████████████████████| 391/391 [00:05<00:00, 71.16it/s]\n"
     ]
    },
    {
     "name": "stdout",
     "output_type": "stream",
     "text": [
      "Correct: 6511, Total: 10000, Accuracy: 0.65\n",
      "Accuracy: 65.11% (0.6511)\n",
      "Loss: 1.7905955189152767\n",
      "Epoch 9\n"
     ]
    },
    {
     "name": "stderr",
     "output_type": "stream",
     "text": [
      "Training: 100%|█████████████████████████████████████████████████████████████████████████████████████████████████████████████| 391/391 [00:05<00:00, 71.21it/s]\n"
     ]
    },
    {
     "name": "stdout",
     "output_type": "stream",
     "text": [
      "Correct: 6551, Total: 10000, Accuracy: 0.66\n",
      "Accuracy: 65.51% (0.6551)\n",
      "Loss: 1.7727522222619307\n",
      "Epoch 10\n"
     ]
    },
    {
     "name": "stderr",
     "output_type": "stream",
     "text": [
      "Training: 100%|█████████████████████████████████████████████████████████████████████████████████████████████████████████████| 391/391 [00:05<00:00, 71.27it/s]\n"
     ]
    },
    {
     "name": "stdout",
     "output_type": "stream",
     "text": [
      "Correct: 6630, Total: 10000, Accuracy: 0.66\n",
      "Accuracy: 66.3% (0.663)\n",
      "Loss: 1.7616774722149497\n",
      "Epoch 11\n"
     ]
    },
    {
     "name": "stderr",
     "output_type": "stream",
     "text": [
      "Training: 100%|█████████████████████████████████████████████████████████████████████████████████████████████████████████████| 391/391 [00:05<00:00, 71.30it/s]\n"
     ]
    },
    {
     "name": "stdout",
     "output_type": "stream",
     "text": [
      "Correct: 6620, Total: 10000, Accuracy: 0.66\n",
      "Accuracy: 66.2% (0.662)\n",
      "Loss: 1.741585003702264\n",
      "Epoch 12\n"
     ]
    },
    {
     "name": "stderr",
     "output_type": "stream",
     "text": [
      "Training: 100%|█████████████████████████████████████████████████████████████████████████████████████████████████████████████| 391/391 [00:05<00:00, 71.22it/s]\n"
     ]
    },
    {
     "name": "stdout",
     "output_type": "stream",
     "text": [
      "Correct: 6652, Total: 10000, Accuracy: 0.67\n",
      "Accuracy: 66.52% (0.6652)\n",
      "Loss: 1.753640325445878\n",
      "Epoch 13\n"
     ]
    },
    {
     "name": "stderr",
     "output_type": "stream",
     "text": [
      "Training: 100%|█████████████████████████████████████████████████████████████████████████████████████████████████████████████| 391/391 [00:05<00:00, 71.22it/s]\n"
     ]
    },
    {
     "name": "stdout",
     "output_type": "stream",
     "text": [
      "Correct: 6709, Total: 10000, Accuracy: 0.67\n",
      "Accuracy: 67.09% (0.6709)\n",
      "Loss: 1.7369933128356934\n",
      "Epoch 14\n"
     ]
    },
    {
     "name": "stderr",
     "output_type": "stream",
     "text": [
      "Training: 100%|█████████████████████████████████████████████████████████████████████████████████████████████████████████████| 391/391 [00:05<00:00, 70.91it/s]\n"
     ]
    },
    {
     "name": "stdout",
     "output_type": "stream",
     "text": [
      "Correct: 6693, Total: 10000, Accuracy: 0.67\n",
      "Accuracy: 66.93% (0.6693)\n",
      "Loss: 1.7427224861948114\n",
      "Epoch 15\n"
     ]
    },
    {
     "name": "stderr",
     "output_type": "stream",
     "text": [
      "Training: 100%|█████████████████████████████████████████████████████████████████████████████████████████████████████████████| 391/391 [00:05<00:00, 71.03it/s]\n"
     ]
    },
    {
     "name": "stdout",
     "output_type": "stream",
     "text": [
      "Correct: 6676, Total: 10000, Accuracy: 0.67\n",
      "Accuracy: 66.75999999999999% (0.6676)\n",
      "Loss: 1.7256146983096474\n"
     ]
    }
   ],
   "source": [
    "conv_model = BatchNormResidualConvolutionalModel()\n",
    "if device.type == \"cuda\":\n",
    "    conv_model = conv_model.to(device)\n",
    "\n",
    "learning_rate = 0.001\n",
    "\n",
    "BATCH_SIZE = 128\n",
    "train_loader = torch.utils.data.DataLoader(trainset, batch_size=BATCH_SIZE, shuffle=True)\n",
    "test_loader = torch.utils.data.DataLoader(testset, batch_size=BATCH_SIZE)\n",
    "\n",
    "opt = torch.optim.Adam(conv_model.parameters(), lr=learning_rate)\n",
    "print(conv_model, opt, device)\n",
    "\n",
    "timestamp = datetime.now().strftime('%Y%m%d_%H%M%S')\n",
    "writer = SummaryWriter('runs/fashion_trainer_{}'.format(timestamp))\n",
    "\n",
    "epochs = 15\n",
    "for epoch in range(epochs):\n",
    "    print(f\"Epoch {epoch+1}\")\n",
    "    avg_loss = fit_one_cycle(conv_model, opt, epoch, writer, device, flatten=False)\n",
    "    acc = prediction_accuracy(conv_model, test_loader, device, flatten=False)\n",
    "    print(f\"Accuracy: {acc * 100}% ({acc})\\nLoss: {avg_loss}\")"
   ]
  }
 ],
 "metadata": {
  "kernelspec": {
   "display_name": "Python 3 (ipykernel)",
   "language": "python",
   "name": "python3"
  },
  "language_info": {
   "codemirror_mode": {
    "name": "ipython",
    "version": 3
   },
   "file_extension": ".py",
   "mimetype": "text/x-python",
   "name": "python",
   "nbconvert_exporter": "python",
   "pygments_lexer": "ipython3",
   "version": "3.9.20"
  }
 },
 "nbformat": 4,
 "nbformat_minor": 4
}
