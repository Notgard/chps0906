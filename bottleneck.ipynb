{
 "cells": [
  {
   "cell_type": "code",
   "execution_count": 2,
   "id": "b2951deb-9e55-4be1-a59f-0003bf75ac48",
   "metadata": {},
   "outputs": [
    {
     "name": "stdout",
     "output_type": "stream",
     "text": [
      "cuda cuda\n",
      "Files already downloaded and verified\n",
      "Files already downloaded and verified\n"
     ]
    }
   ],
   "source": [
    "import torch\n",
    "import torchvision\n",
    "import matplotlib.pyplot as plt\n",
    "import numpy as np\n",
    "from torch.utils.tensorboard import SummaryWriter\n",
    "from datetime import datetime\n",
    "\n",
    "import torch.nn as nn\n",
    "import torch.nn.functional as F\n",
    "\n",
    "from utils import *\n",
    "\n",
    "device = torch.device(\"cuda\" if torch.cuda.is_available() else \"cpu\")\n",
    "\n",
    "print(device, device.type)\n",
    "\n",
    "trainset = torchvision.datasets.CIFAR10(root='./data', train=True, download=True, transform=torchvision.transforms.ToTensor())\n",
    "testset = torchvision.datasets.CIFAR10(root='./data', train=False, download=True, transform=torchvision.transforms.ToTensor())"
   ]
  },
  {
   "cell_type": "code",
   "execution_count": 3,
   "id": "b2f13776-345f-457d-a692-49446708dc14",
   "metadata": {},
   "outputs": [
    {
     "name": "stdout",
     "output_type": "stream",
     "text": [
      "Sun Dec  8 15:19:43 2024       \n",
      "+-----------------------------------------------------------------------------------------+\n",
      "| NVIDIA-SMI 550.120                Driver Version: 550.120        CUDA Version: 12.4     |\n",
      "|-----------------------------------------+------------------------+----------------------+\n",
      "| GPU  Name                 Persistence-M | Bus-Id          Disp.A | Volatile Uncorr. ECC |\n",
      "| Fan  Temp   Perf          Pwr:Usage/Cap |           Memory-Usage | GPU-Util  Compute M. |\n",
      "|                                         |                        |               MIG M. |\n",
      "|=========================================+========================+======================|\n",
      "|   0  NVIDIA RTX A1000 6GB Lap...    Off |   00000000:01:00.0 Off |                  N/A |\n",
      "| N/A   41C    P8              4W /   45W |     720MiB /   6144MiB |      0%      Default |\n",
      "|                                         |                        |                  N/A |\n",
      "+-----------------------------------------+------------------------+----------------------+\n",
      "                                                                                         \n",
      "+-----------------------------------------------------------------------------------------+\n",
      "| Processes:                                                                              |\n",
      "|  GPU   GI   CI        PID   Type   Process name                              GPU Memory |\n",
      "|        ID   ID                                                               Usage      |\n",
      "|=========================================================================================|\n",
      "|    0   N/A  N/A      4020      G   /usr/bin/gnome-shell                            1MiB |\n",
      "|    0   N/A  N/A     14771      C   ...ael/miniconda3/envs/work/bin/python        710MiB |\n",
      "+-----------------------------------------------------------------------------------------+\n"
     ]
    }
   ],
   "source": [
    "%%bash\n",
    "nvidia-smi"
   ]
  },
  {
   "cell_type": "code",
   "execution_count": 4,
   "id": "33a2bce5-53f1-40f4-96d7-81ce483fe508",
   "metadata": {},
   "outputs": [],
   "source": [
    "class BatchNormConv2d(nn.Module):\n",
    "    def __init__(self, in_ch, out_ch, kernel_size=3, stride=1, padding=1):\n",
    "        super(BatchNormConv2d, self).__init__()\n",
    "        self.gelu = nn.GELU()\n",
    "        self.conv = nn.Conv2d(in_channels=in_ch, out_channels=out_ch, kernel_size=kernel_size, stride=stride, padding=padding)\n",
    "        self.bn = nn.BatchNorm2d(out_ch)\n",
    "        \n",
    "    def forward(self, x):\n",
    "        return self.gelu(self.bn(self.conv(x)))"
   ]
  },
  {
   "cell_type": "code",
   "execution_count": 5,
   "id": "ddd5f13e-46ef-46ea-b1ed-1fdefd58cf1f",
   "metadata": {},
   "outputs": [],
   "source": [
    "class BottleneckBlock(nn.Module):\n",
    "    def __init__(self, in_ch, mid_ch, out_ch, kernel_sizes=(1, 3, 1), stride=1):\n",
    "        super(BottleneckBlock, self).__init__()\n",
    "        #added padding based on kernel size to keep image resolution\n",
    "        self.reduce = BatchNormConv2d(in_ch, mid_ch, kernel_size=kernel_sizes[0], stride=stride, padding=kernel_sizes[0] // 2)\n",
    "        self.maintain = BatchNormConv2d(mid_ch, mid_ch, kernel_size=kernel_sizes[1], stride=1, padding=kernel_sizes[1] // 2)\n",
    "        self.expand = BatchNormConv2d(mid_ch, out_ch, kernel_size=kernel_sizes[2], stride=1, padding=kernel_sizes[2] // 2)\n",
    "        \n",
    "        self.residual = None\n",
    "        if in_ch != out_ch:\n",
    "            self.residual = nn.Conv2d(in_ch, out_ch, kernel_size=1, stride=stride)\n",
    "    def forward(self, x):\n",
    "        res = self.residual(x) if self.residual else x\n",
    "        x = self.reduce(x)\n",
    "        x = self.maintain(x)\n",
    "        x = self.expand(x)\n",
    "        return F.gelu(x + res)"
   ]
  },
  {
   "cell_type": "code",
   "execution_count": 6,
   "id": "d442f5d0-e9a6-442b-8ca8-4113f23685a5",
   "metadata": {},
   "outputs": [],
   "source": [
    "class BottleneckModel(nn.Module):\n",
    "    def __init__(self, in_ch=3, num_classes=10, bottleneck_configs=None):\n",
    "        super(BottleneckModel, self).__init__()\n",
    "        if bottleneck_configs is None:\n",
    "            bottleneck_configs = [\n",
    "                (3, 16, 32, (1, 3, 1)),\n",
    "                (32, 32, 32, (1, 3, 1)),\n",
    "                (32, 64, 64, (1, 5, 1))\n",
    "            ]\n",
    "\n",
    "        #we have to use ModuleList here since a normal list wouldn't be able to be moved onto the GPU (or through 'dirty\" explicit move of the list to the GPU)\n",
    "        self.bottlenecks = nn.ModuleList([BottleneckBlock(*config) for config in bottleneck_configs])        \n",
    "        self.pool = nn.MaxPool2d((2, 2))\n",
    "\n",
    "        # define MLP layer with the correct input size (too lazy to calculate)\n",
    "        self.mlp = nn.Linear(bottleneck_configs[-1][2]*4*4, num_classes)\n",
    "\n",
    "    def forward(self, x):\n",
    "        for block in self.bottlenecks:\n",
    "            x = block(x)\n",
    "            x = self.pool(x)\n",
    "        \n",
    "        x = torch.flatten(x, 1)\n",
    "        x = self.mlp(x)\n",
    "        \n",
    "        return F.softmax(x, dim=1)"
   ]
  },
  {
   "cell_type": "code",
   "execution_count": 7,
   "id": "4368220c-c138-417f-8bf4-27aa7b675f57",
   "metadata": {
    "tags": []
   },
   "outputs": [
    {
     "name": "stdout",
     "output_type": "stream",
     "text": [
      "BottleneckModel(\n",
      "  (bottlenecks): ModuleList(\n",
      "    (0): BottleneckBlock(\n",
      "      (reduce): BatchNormConv2d(\n",
      "        (gelu): GELU(approximate='none')\n",
      "        (conv): Conv2d(3, 16, kernel_size=(1, 1), stride=(1, 1))\n",
      "        (bn): BatchNorm2d(16, eps=1e-05, momentum=0.1, affine=True, track_running_stats=True)\n",
      "      )\n",
      "      (maintain): BatchNormConv2d(\n",
      "        (gelu): GELU(approximate='none')\n",
      "        (conv): Conv2d(16, 16, kernel_size=(3, 3), stride=(1, 1), padding=(1, 1))\n",
      "        (bn): BatchNorm2d(16, eps=1e-05, momentum=0.1, affine=True, track_running_stats=True)\n",
      "      )\n",
      "      (expand): BatchNormConv2d(\n",
      "        (gelu): GELU(approximate='none')\n",
      "        (conv): Conv2d(16, 32, kernel_size=(1, 1), stride=(1, 1))\n",
      "        (bn): BatchNorm2d(32, eps=1e-05, momentum=0.1, affine=True, track_running_stats=True)\n",
      "      )\n",
      "      (residual): Conv2d(3, 32, kernel_size=(1, 1), stride=(1, 1))\n",
      "    )\n",
      "    (1): BottleneckBlock(\n",
      "      (reduce): BatchNormConv2d(\n",
      "        (gelu): GELU(approximate='none')\n",
      "        (conv): Conv2d(32, 32, kernel_size=(1, 1), stride=(1, 1))\n",
      "        (bn): BatchNorm2d(32, eps=1e-05, momentum=0.1, affine=True, track_running_stats=True)\n",
      "      )\n",
      "      (maintain): BatchNormConv2d(\n",
      "        (gelu): GELU(approximate='none')\n",
      "        (conv): Conv2d(32, 32, kernel_size=(3, 3), stride=(1, 1), padding=(1, 1))\n",
      "        (bn): BatchNorm2d(32, eps=1e-05, momentum=0.1, affine=True, track_running_stats=True)\n",
      "      )\n",
      "      (expand): BatchNormConv2d(\n",
      "        (gelu): GELU(approximate='none')\n",
      "        (conv): Conv2d(32, 32, kernel_size=(1, 1), stride=(1, 1))\n",
      "        (bn): BatchNorm2d(32, eps=1e-05, momentum=0.1, affine=True, track_running_stats=True)\n",
      "      )\n",
      "    )\n",
      "    (2): BottleneckBlock(\n",
      "      (reduce): BatchNormConv2d(\n",
      "        (gelu): GELU(approximate='none')\n",
      "        (conv): Conv2d(32, 64, kernel_size=(1, 1), stride=(1, 1))\n",
      "        (bn): BatchNorm2d(64, eps=1e-05, momentum=0.1, affine=True, track_running_stats=True)\n",
      "      )\n",
      "      (maintain): BatchNormConv2d(\n",
      "        (gelu): GELU(approximate='none')\n",
      "        (conv): Conv2d(64, 64, kernel_size=(5, 5), stride=(1, 1), padding=(2, 2))\n",
      "        (bn): BatchNorm2d(64, eps=1e-05, momentum=0.1, affine=True, track_running_stats=True)\n",
      "      )\n",
      "      (expand): BatchNormConv2d(\n",
      "        (gelu): GELU(approximate='none')\n",
      "        (conv): Conv2d(64, 64, kernel_size=(1, 1), stride=(1, 1))\n",
      "        (bn): BatchNorm2d(64, eps=1e-05, momentum=0.1, affine=True, track_running_stats=True)\n",
      "      )\n",
      "      (residual): Conv2d(32, 64, kernel_size=(1, 1), stride=(1, 1))\n",
      "    )\n",
      "  )\n",
      "  (pool): MaxPool2d(kernel_size=(2, 2), stride=(2, 2), padding=0, dilation=1, ceil_mode=False)\n",
      "  (mlp): Linear(in_features=1024, out_features=10, bias=True)\n",
      ") Adam (\n",
      "Parameter Group 0\n",
      "    amsgrad: False\n",
      "    betas: (0.9, 0.999)\n",
      "    capturable: False\n",
      "    differentiable: False\n",
      "    eps: 1e-08\n",
      "    foreach: None\n",
      "    fused: None\n",
      "    lr: 0.001\n",
      "    maximize: False\n",
      "    weight_decay: 0\n",
      ") cuda\n"
     ]
    }
   ],
   "source": [
    "conv_model = BottleneckModel()\n",
    "if device.type == \"cuda\":\n",
    "    conv_model = conv_model.to('cuda')\n",
    "learning_rate = 0.001\n",
    "BATCH_SIZE = 128\n",
    "epochs = 15\n",
    "\n",
    "train_loader = torch.utils.data.DataLoader(trainset, batch_size=BATCH_SIZE, shuffle=True, pin_memory=True)\n",
    "test_loader = torch.utils.data.DataLoader(testset, batch_size=BATCH_SIZE, pin_memory=True)\n",
    "\n",
    "#move dataset loader to gpu for each batch all at once to avoid moving memory during training\n",
    "#train_loader = move_dataloader_to_device(train_loader, device)\n",
    "#test_loader = move_dataloader_to_device(test_loader, device)\n",
    "\n",
    "opt = torch.optim.Adam(conv_model.parameters(), lr=learning_rate)\n",
    "print(conv_model, opt, device)"
   ]
  },
  {
   "cell_type": "code",
   "execution_count": 13,
   "id": "06b18a70-85b1-438e-b49b-5d7e42c26fa7",
   "metadata": {},
   "outputs": [
    {
     "name": "stdout",
     "output_type": "stream",
     "text": [
      "Epoch 1\n"
     ]
    },
    {
     "name": "stderr",
     "output_type": "stream",
     "text": [
      "\n",
      "raining: 100%|███████████████████████████████| 391/391 [00:09<00:00, 42.03it/s]"
     ]
    },
    {
     "name": "stdout",
     "output_type": "stream",
     "text": [
      "Correct: 5735, Total: 10000, Accuracy: 0.57\n",
      "Accuracy: 57.35% (0.5735)\n",
      "Loss: 1.874080312879462\n",
      "Epoch 2\n"
     ]
    },
    {
     "name": "stderr",
     "output_type": "stream",
     "text": [
      "\n",
      "raining: 100%|███████████████████████████████| 391/391 [00:09<00:00, 43.39it/s]"
     ]
    },
    {
     "name": "stdout",
     "output_type": "stream",
     "text": [
      "Correct: 6190, Total: 10000, Accuracy: 0.62\n",
      "Accuracy: 61.9% (0.619)\n",
      "Loss: 1.8320206278248836\n",
      "Epoch 3\n"
     ]
    },
    {
     "name": "stderr",
     "output_type": "stream",
     "text": [
      "\n",
      "raining: 100%|███████████████████████████████| 391/391 [00:08<00:00, 43.77it/s]"
     ]
    },
    {
     "name": "stdout",
     "output_type": "stream",
     "text": [
      "Correct: 6549, Total: 10000, Accuracy: 0.65\n",
      "Accuracy: 65.49000000000001% (0.6549)\n",
      "Loss: 1.7826260328292847\n",
      "Epoch 4\n"
     ]
    },
    {
     "name": "stderr",
     "output_type": "stream",
     "text": [
      "\n",
      "raining: 100%|███████████████████████████████| 391/391 [00:09<00:00, 41.35it/s]"
     ]
    },
    {
     "name": "stdout",
     "output_type": "stream",
     "text": [
      "Correct: 6680, Total: 10000, Accuracy: 0.67\n",
      "Accuracy: 66.8% (0.668)\n",
      "Loss: 1.7729247055555646\n",
      "Epoch 5\n"
     ]
    },
    {
     "name": "stderr",
     "output_type": "stream",
     "text": [
      "\n",
      "raining: 100%|███████████████████████████████| 391/391 [00:09<00:00, 41.93it/s]"
     ]
    },
    {
     "name": "stdout",
     "output_type": "stream",
     "text": [
      "Correct: 6811, Total: 10000, Accuracy: 0.68\n",
      "Accuracy: 68.11% (0.6811)\n",
      "Loss: 1.7453329939591258\n",
      "Epoch 6\n"
     ]
    },
    {
     "name": "stderr",
     "output_type": "stream",
     "text": [
      "\n",
      "raining: 100%|███████████████████████████████| 391/391 [00:08<00:00, 46.01it/s]"
     ]
    },
    {
     "name": "stdout",
     "output_type": "stream",
     "text": [
      "Correct: 6794, Total: 10000, Accuracy: 0.68\n",
      "Accuracy: 67.94% (0.6794)\n",
      "Loss: 1.7350403007708097\n",
      "Epoch 7\n"
     ]
    },
    {
     "name": "stderr",
     "output_type": "stream",
     "text": [
      "\n",
      "raining: 100%|███████████████████████████████| 391/391 [00:08<00:00, 43.63it/s]"
     ]
    },
    {
     "name": "stdout",
     "output_type": "stream",
     "text": [
      "Correct: 6930, Total: 10000, Accuracy: 0.69\n",
      "Accuracy: 69.3% (0.693)\n",
      "Loss: 1.7184977719658299\n",
      "Epoch 8\n"
     ]
    },
    {
     "name": "stderr",
     "output_type": "stream",
     "text": [
      "\n",
      "raining: 100%|███████████████████████████████| 391/391 [00:08<00:00, 44.58it/s]"
     ]
    },
    {
     "name": "stdout",
     "output_type": "stream",
     "text": [
      "Correct: 6979, Total: 10000, Accuracy: 0.70\n",
      "Accuracy: 69.78999999999999% (0.6979)\n",
      "Loss: 1.7086453375063444\n",
      "Epoch 9\n"
     ]
    },
    {
     "name": "stderr",
     "output_type": "stream",
     "text": [
      "\n",
      "raining: 100%|███████████████████████████████| 391/391 [00:09<00:00, 42.55it/s]"
     ]
    },
    {
     "name": "stdout",
     "output_type": "stream",
     "text": [
      "Correct: 7036, Total: 10000, Accuracy: 0.70\n",
      "Accuracy: 70.36% (0.7036)\n",
      "Loss: 1.6883668899536133\n",
      "Epoch 10\n"
     ]
    },
    {
     "name": "stderr",
     "output_type": "stream",
     "text": [
      "\n",
      "raining: 100%|███████████████████████████████| 391/391 [00:08<00:00, 46.23it/s]"
     ]
    },
    {
     "name": "stdout",
     "output_type": "stream",
     "text": [
      "Correct: 7390, Total: 10000, Accuracy: 0.74\n",
      "Accuracy: 73.9% (0.739)\n",
      "Loss: 1.666273700563531\n",
      "Epoch 11\n"
     ]
    },
    {
     "name": "stderr",
     "output_type": "stream",
     "text": [
      "\n",
      "raining: 100%|███████████████████████████████| 391/391 [00:08<00:00, 46.45it/s]"
     ]
    },
    {
     "name": "stdout",
     "output_type": "stream",
     "text": [
      "Correct: 7409, Total: 10000, Accuracy: 0.74\n",
      "Accuracy: 74.09% (0.7409)\n",
      "Loss: 1.646876059080425\n",
      "Epoch 12\n"
     ]
    },
    {
     "name": "stderr",
     "output_type": "stream",
     "text": [
      "\n",
      "raining: 100%|███████████████████████████████| 391/391 [00:08<00:00, 46.86it/s]"
     ]
    },
    {
     "name": "stdout",
     "output_type": "stream",
     "text": [
      "Correct: 7445, Total: 10000, Accuracy: 0.74\n",
      "Accuracy: 74.45% (0.7445)\n",
      "Loss: 1.6176895530600297\n",
      "Epoch 13\n"
     ]
    },
    {
     "name": "stderr",
     "output_type": "stream",
     "text": [
      "\n",
      "raining: 100%|███████████████████████████████| 391/391 [00:08<00:00, 46.75it/s]"
     ]
    },
    {
     "name": "stdout",
     "output_type": "stream",
     "text": [
      "Correct: 7461, Total: 10000, Accuracy: 0.75\n",
      "Accuracy: 74.61% (0.7461)\n",
      "Loss: 1.6056640399129767\n",
      "Epoch 14\n"
     ]
    },
    {
     "name": "stderr",
     "output_type": "stream",
     "text": [
      "\n",
      "raining: 100%|███████████████████████████████| 391/391 [00:08<00:00, 46.83it/s]"
     ]
    },
    {
     "name": "stdout",
     "output_type": "stream",
     "text": [
      "Correct: 7420, Total: 10000, Accuracy: 0.74\n",
      "Accuracy: 74.2% (0.742)\n",
      "Loss: 1.6088451398046393\n",
      "Epoch 15\n"
     ]
    },
    {
     "name": "stderr",
     "output_type": "stream",
     "text": [
      "\n",
      "raining: 100%|███████████████████████████████| 391/391 [00:08<00:00, 45.87it/s]"
     ]
    },
    {
     "name": "stdout",
     "output_type": "stream",
     "text": [
      "Correct: 7476, Total: 10000, Accuracy: 0.75\n",
      "Accuracy: 74.76% (0.7476)\n",
      "Loss: 1.587055243943867\n"
     ]
    }
   ],
   "source": [
    "timestamp = datetime.now().strftime('%Y%m%d_%H%M%S')\n",
    "writer = SummaryWriter('runs/fashion_trainer_{}'.format(timestamp))\n",
    "for epoch in range(epochs):\n",
    "    print(f\"Epoch {epoch+1}\")\n",
    "    avg_loss = fit_one_cycle(conv_model, train_loader, opt, epoch, writer, device, flatten=False)\n",
    "    acc = prediction_accuracy(conv_model, test_loader, device, flatten=False)\n",
    "    print(f\"Accuracy: {acc * 100}% ({acc})\\nLoss: {avg_loss}\")"
   ]
  },
  {
   "cell_type": "code",
   "execution_count": null,
   "id": "60d8cb70-1638-4ba5-beef-81deeddd2e63",
   "metadata": {},
   "outputs": [],
   "source": [
    "#validation_loop(conv_model, train_loader, epochs, writer, device, opt, timestamp, flatten=False)"
   ]
  },
  {
   "cell_type": "code",
   "execution_count": 16,
   "id": "f66517ae-948f-4088-9fbe-6afd53a7a347",
   "metadata": {},
   "outputs": [
    {
     "name": "stdout",
     "output_type": "stream",
     "text": [
      "Training configuration 1/3: [(3, 16, 32, (1, 3, 1)), (32, 32, 32, (1, 3, 1)), (32, 64, 64, (1, 5, 1))]\n",
      "Epoch 1\n"
     ]
    },
    {
     "name": "stderr",
     "output_type": "stream",
     "text": [
      "\n",
      "raining: 100%|███████████████████████████████| 391/391 [00:08<00:00, 45.24it/s]"
     ]
    },
    {
     "name": "stdout",
     "output_type": "stream",
     "text": [
      "Correct: 5726, Total: 10000, Accuracy: 0.57\n",
      "Accuracy: 57.26% (0.5726)\n",
      "Loss: 1.9001778050472862\n",
      "Epoch 2\n"
     ]
    },
    {
     "name": "stderr",
     "output_type": "stream",
     "text": [
      "\n",
      "raining: 100%|███████████████████████████████| 391/391 [00:09<00:00, 43.22it/s]"
     ]
    },
    {
     "name": "stdout",
     "output_type": "stream",
     "text": [
      "Correct: 6233, Total: 10000, Accuracy: 0.62\n",
      "Accuracy: 62.33% (0.6233)\n",
      "Loss: 1.8144160885559886\n",
      "Epoch 3\n"
     ]
    },
    {
     "name": "stderr",
     "output_type": "stream",
     "text": [
      "\n",
      "raining: 100%|███████████████████████████████████████████████████████████████████████████████████████████████████████████████████████████████████████| 391/391 [00:08<00:00, 45.85it/s]"
     ]
    },
    {
     "name": "stdout",
     "output_type": "stream",
     "text": [
      "Correct: 6765, Total: 10000, Accuracy: 0.68\n",
      "Accuracy: 67.65% (0.6765)\n",
      "Loss: 1.7679873014751233\n",
      "Epoch 4\n"
     ]
    },
    {
     "name": "stderr",
     "output_type": "stream",
     "text": [
      "\n",
      "raining: 100%|███████████████████████████████████████████████████████████████████████████████████████████████████████████████████████████████████████| 391/391 [00:07<00:00, 50.08it/s]"
     ]
    },
    {
     "name": "stdout",
     "output_type": "stream",
     "text": [
      "Correct: 7084, Total: 10000, Accuracy: 0.71\n",
      "Accuracy: 70.84% (0.7084)\n",
      "Loss: 1.7404596931055973\n",
      "Epoch 5\n"
     ]
    },
    {
     "name": "stderr",
     "output_type": "stream",
     "text": [
      "\n",
      "raining: 100%|███████████████████████████████████████████████████████████████████████████████████████████████████████████████████████████████████████| 391/391 [00:07<00:00, 50.70it/s]"
     ]
    },
    {
     "name": "stdout",
     "output_type": "stream",
     "text": [
      "Correct: 7239, Total: 10000, Accuracy: 0.72\n",
      "Accuracy: 72.39% (0.7239)\n",
      "Loss: 1.70355350720255\n",
      "Epoch 6\n"
     ]
    },
    {
     "name": "stderr",
     "output_type": "stream",
     "text": [
      "\n",
      "raining: 100%|███████████████████████████████████████████████████████████████████████████████████████████████████████████████████████████████████████| 391/391 [00:08<00:00, 48.57it/s]"
     ]
    },
    {
     "name": "stdout",
     "output_type": "stream",
     "text": [
      "Correct: 7426, Total: 10000, Accuracy: 0.74\n",
      "Accuracy: 74.26% (0.7426)\n",
      "Loss: 1.6994012656964754\n",
      "Epoch 7\n"
     ]
    },
    {
     "name": "stderr",
     "output_type": "stream",
     "text": [
      "\n",
      "raining: 100%|███████████████████████████████████████████████████████████████████████████████████████████████████████████████████████████████████████| 391/391 [00:07<00:00, 50.02it/s]"
     ]
    },
    {
     "name": "stdout",
     "output_type": "stream",
     "text": [
      "Correct: 7372, Total: 10000, Accuracy: 0.74\n",
      "Accuracy: 73.72% (0.7372)\n",
      "Loss: 1.6732944312848543\n",
      "Epoch 8\n"
     ]
    },
    {
     "name": "stderr",
     "output_type": "stream",
     "text": [
      "\n",
      "raining: 100%|███████████████████████████████████████████████████████████████████████████████████████████████████████████████████████████████████████| 391/391 [00:07<00:00, 50.72it/s]"
     ]
    },
    {
     "name": "stdout",
     "output_type": "stream",
     "text": [
      "Correct: 7498, Total: 10000, Accuracy: 0.75\n",
      "Accuracy: 74.98% (0.7498)\n",
      "Loss: 1.6399724608973454\n",
      "Epoch 9\n"
     ]
    },
    {
     "name": "stderr",
     "output_type": "stream",
     "text": [
      "\n",
      "raining: 100%|███████████████████████████████████████████████████████████████████████████████████████████████████████████████████████████████████████| 391/391 [00:07<00:00, 50.63it/s]"
     ]
    },
    {
     "name": "stdout",
     "output_type": "stream",
     "text": [
      "Correct: 7540, Total: 10000, Accuracy: 0.75\n",
      "Accuracy: 75.4% (0.754)\n",
      "Loss: 1.6301152517921047\n",
      "Epoch 10\n"
     ]
    },
    {
     "name": "stderr",
     "output_type": "stream",
     "text": [
      "\n",
      "raining: 100%|███████████████████████████████████████████████████████████████████████████████████████████████████████████████████████████████████████| 391/391 [00:08<00:00, 45.40it/s]"
     ]
    },
    {
     "name": "stdout",
     "output_type": "stream",
     "text": [
      "Correct: 7637, Total: 10000, Accuracy: 0.76\n",
      "Accuracy: 76.37% (0.7637)\n",
      "Loss: 1.6257163097983913\n",
      "Epoch 11\n"
     ]
    },
    {
     "name": "stderr",
     "output_type": "stream",
     "text": [
      "\n",
      "raining: 100%|███████████████████████████████████████████████████████████████████████████████████████████████████████████████████████████████████████| 391/391 [00:08<00:00, 47.56it/s]"
     ]
    },
    {
     "name": "stdout",
     "output_type": "stream",
     "text": [
      "Correct: 7611, Total: 10000, Accuracy: 0.76\n",
      "Accuracy: 76.11% (0.7611)\n",
      "Loss: 1.621430610355578\n",
      "Epoch 12\n"
     ]
    },
    {
     "name": "stderr",
     "output_type": "stream",
     "text": [
      "\n",
      "raining: 100%|███████████████████████████████████████████████████████████████████████████████████████████████████████████████████████████████████████| 391/391 [00:08<00:00, 46.56it/s]"
     ]
    },
    {
     "name": "stdout",
     "output_type": "stream",
     "text": [
      "Correct: 7611, Total: 10000, Accuracy: 0.76\n",
      "Accuracy: 76.11% (0.7611)\n",
      "Loss: 1.5976847159235101\n",
      "Epoch 13\n"
     ]
    },
    {
     "name": "stderr",
     "output_type": "stream",
     "text": [
      "\n",
      "raining: 100%|███████████████████████████████████████████████████████████████████████████████████████████████████████████████████████████████████████| 391/391 [00:08<00:00, 47.36it/s]"
     ]
    },
    {
     "name": "stdout",
     "output_type": "stream",
     "text": [
      "Correct: 7633, Total: 10000, Accuracy: 0.76\n",
      "Accuracy: 76.33% (0.7633)\n",
      "Loss: 1.596221735602931\n",
      "Epoch 14\n"
     ]
    },
    {
     "name": "stderr",
     "output_type": "stream",
     "text": [
      "\n",
      "raining: 100%|███████████████████████████████████████████████████████████████████████████████████████████████████████████████████████████████████████| 391/391 [00:08<00:00, 47.00it/s]"
     ]
    },
    {
     "name": "stdout",
     "output_type": "stream",
     "text": [
      "Correct: 7661, Total: 10000, Accuracy: 0.77\n",
      "Accuracy: 76.61% (0.7661)\n",
      "Loss: 1.588272119823255\n",
      "Epoch 15\n"
     ]
    },
    {
     "name": "stderr",
     "output_type": "stream",
     "text": [
      "\n",
      "raining: 100%|███████████████████████████████████████████████████████████████████████████████████████████████████████████████████████████████████████| 391/391 [00:08<00:00, 45.87it/s]"
     ]
    },
    {
     "name": "stdout",
     "output_type": "stream",
     "text": [
      "Correct: 7677, Total: 10000, Accuracy: 0.77\n",
      "Accuracy: 76.77000000000001% (0.7677)\n",
      "Loss: 1.5807018029062372\n",
      "Configuration 1: Accuracy = 0.7669\n",
      "Training configuration 2/3: [(3, 8, 16, (1, 3, 1)), (16, 16, 32, (1, 3, 1)), (32, 64, 64, (1, 3, 1))]\n",
      "Epoch 1\n"
     ]
    },
    {
     "name": "stderr",
     "output_type": "stream",
     "text": [
      "\n",
      "raining: 100%|███████████████████████████████████████████████████████████████████████████████████████████████████████████████████████████████████████| 391/391 [00:06<00:00, 56.31it/s]"
     ]
    },
    {
     "name": "stdout",
     "output_type": "stream",
     "text": [
      "Correct: 5423, Total: 10000, Accuracy: 0.54\n",
      "Accuracy: 54.230000000000004% (0.5423)\n",
      "Loss: 1.9515856378956844\n",
      "Epoch 2\n"
     ]
    },
    {
     "name": "stderr",
     "output_type": "stream",
     "text": [
      "\n",
      "raining: 100%|███████████████████████████████████████████████████████████████████████████████████████████████████████████████████████████████████████| 391/391 [00:07<00:00, 54.64it/s]"
     ]
    },
    {
     "name": "stdout",
     "output_type": "stream",
     "text": [
      "Correct: 6064, Total: 10000, Accuracy: 0.61\n",
      "Accuracy: 60.64000000000001% (0.6064)\n",
      "Loss: 1.8600211770910966\n",
      "Epoch 3\n"
     ]
    },
    {
     "name": "stderr",
     "output_type": "stream",
     "text": [
      "\n",
      "raining: 100%|███████████████████████████████████████████████████████████████████████████████████████████████████████████████████████████████████████| 391/391 [00:07<00:00, 55.67it/s]"
     ]
    },
    {
     "name": "stdout",
     "output_type": "stream",
     "text": [
      "Correct: 6403, Total: 10000, Accuracy: 0.64\n",
      "Accuracy: 64.03% (0.6403)\n",
      "Loss: 1.8214994292510183\n",
      "Epoch 4\n"
     ]
    },
    {
     "name": "stderr",
     "output_type": "stream",
     "text": [
      "\n",
      "raining: 100%|███████████████████████████████████████████████████████████████████████████████████████████████████████████████████████████████████████| 391/391 [00:07<00:00, 51.19it/s]"
     ]
    },
    {
     "name": "stdout",
     "output_type": "stream",
     "text": [
      "Correct: 6602, Total: 10000, Accuracy: 0.66\n",
      "Accuracy: 66.02% (0.6602)\n",
      "Loss: 1.7890432006434391\n",
      "Epoch 5\n"
     ]
    },
    {
     "name": "stderr",
     "output_type": "stream",
     "text": [
      "\n",
      "raining: 100%|███████████████████████████████████████████████████████████████████████████████████████████████████████████████████████████████████████| 391/391 [00:07<00:00, 54.38it/s]"
     ]
    },
    {
     "name": "stdout",
     "output_type": "stream",
     "text": [
      "Correct: 6664, Total: 10000, Accuracy: 0.67\n",
      "Accuracy: 66.64% (0.6664)\n",
      "Loss: 1.7641174165826095\n",
      "Epoch 6\n"
     ]
    },
    {
     "name": "stderr",
     "output_type": "stream",
     "text": [
      "\n",
      "raining: 100%|███████████████████████████████████████████████████████████████████████████████████████████████████████████████████████████████████████| 391/391 [00:07<00:00, 54.94it/s]"
     ]
    },
    {
     "name": "stdout",
     "output_type": "stream",
     "text": [
      "Correct: 6931, Total: 10000, Accuracy: 0.69\n",
      "Accuracy: 69.31% (0.6931)\n",
      "Loss: 1.7539221613030684\n",
      "Epoch 7\n"
     ]
    },
    {
     "name": "stderr",
     "output_type": "stream",
     "text": [
      "\n",
      "raining: 100%|███████████████████████████████████████████████████████████████████████████████████████████████████████████████████████████████████████| 391/391 [00:07<00:00, 55.73it/s]"
     ]
    },
    {
     "name": "stdout",
     "output_type": "stream",
     "text": [
      "Correct: 6861, Total: 10000, Accuracy: 0.69\n",
      "Accuracy: 68.61% (0.6861)\n",
      "Loss: 1.7417551341809725\n",
      "Epoch 8\n"
     ]
    },
    {
     "name": "stderr",
     "output_type": "stream",
     "text": [
      "\n",
      "raining: 100%|███████████████████████████████████████████████████████████████████████████████████████████████████████████████████████████████████████| 391/391 [00:07<00:00, 55.32it/s]"
     ]
    },
    {
     "name": "stdout",
     "output_type": "stream",
     "text": [
      "Correct: 6931, Total: 10000, Accuracy: 0.69\n",
      "Accuracy: 69.31% (0.6931)\n",
      "Loss: 1.716889594730578\n",
      "Epoch 9\n"
     ]
    },
    {
     "name": "stderr",
     "output_type": "stream",
     "text": [
      "\n",
      "raining: 100%|███████████████████████████████████████████████████████████████████████████████████████████████████████████████████████████████████████| 391/391 [00:06<00:00, 57.43it/s]"
     ]
    },
    {
     "name": "stdout",
     "output_type": "stream",
     "text": [
      "Correct: 7015, Total: 10000, Accuracy: 0.70\n",
      "Accuracy: 70.15% (0.7015)\n",
      "Loss: 1.708745510954606\n",
      "Epoch 10\n"
     ]
    },
    {
     "name": "stderr",
     "output_type": "stream",
     "text": [
      "\n",
      "raining: 100%|███████████████████████████████████████████████████████████████████████████████████████████████████████████████████████████████████████| 391/391 [00:06<00:00, 57.03it/s]"
     ]
    },
    {
     "name": "stdout",
     "output_type": "stream",
     "text": [
      "Correct: 7134, Total: 10000, Accuracy: 0.71\n",
      "Accuracy: 71.34% (0.7134)\n",
      "Loss: 1.6896691887002242\n",
      "Epoch 11\n"
     ]
    },
    {
     "name": "stderr",
     "output_type": "stream",
     "text": [
      "\n",
      "raining: 100%|███████████████████████████████████████████████████████████████████████████████████████████████████████████████████████████████████████| 391/391 [00:06<00:00, 59.52it/s]"
     ]
    },
    {
     "name": "stdout",
     "output_type": "stream",
     "text": [
      "Correct: 7141, Total: 10000, Accuracy: 0.71\n",
      "Accuracy: 71.41% (0.7141)\n",
      "Loss: 1.6772951640580829\n",
      "Epoch 12\n"
     ]
    },
    {
     "name": "stderr",
     "output_type": "stream",
     "text": [
      "\n",
      "raining: 100%|███████████████████████████████████████████████████████████████████████████████████████████████████████████████████████████████████████| 391/391 [00:06<00:00, 57.06it/s]"
     ]
    },
    {
     "name": "stdout",
     "output_type": "stream",
     "text": [
      "Correct: 7096, Total: 10000, Accuracy: 0.71\n",
      "Accuracy: 70.96000000000001% (0.7096)\n",
      "Loss: 1.6709104650898983\n",
      "Epoch 13\n"
     ]
    },
    {
     "name": "stderr",
     "output_type": "stream",
     "text": [
      "\n",
      "raining: 100%|███████████████████████████████████████████████████████████████████████████████████████████████████████████████████████████████████████| 391/391 [00:06<00:00, 56.90it/s]"
     ]
    },
    {
     "name": "stdout",
     "output_type": "stream",
     "text": [
      "Correct: 7193, Total: 10000, Accuracy: 0.72\n",
      "Accuracy: 71.93% (0.7193)\n",
      "Loss: 1.6745535323494358\n",
      "Epoch 14\n"
     ]
    },
    {
     "name": "stderr",
     "output_type": "stream",
     "text": [
      "\n",
      "raining: 100%|███████████████████████████████████████████████████████████████████████████████████████████████████████████████████████████████████████| 391/391 [00:06<00:00, 62.93it/s]"
     ]
    },
    {
     "name": "stdout",
     "output_type": "stream",
     "text": [
      "Correct: 7209, Total: 10000, Accuracy: 0.72\n",
      "Accuracy: 72.09% (0.7209)\n",
      "Loss: 1.6541925919683356\n",
      "Epoch 15\n"
     ]
    },
    {
     "name": "stderr",
     "output_type": "stream",
     "text": [
      "\n",
      "raining: 100%|███████████████████████████████████████████████████████████████████████████████████████████████████████████████████████████████████████| 391/391 [00:06<00:00, 56.91it/s]"
     ]
    },
    {
     "name": "stdout",
     "output_type": "stream",
     "text": [
      "Correct: 7248, Total: 10000, Accuracy: 0.72\n",
      "Accuracy: 72.48% (0.7248)\n",
      "Loss: 1.6590147520366467\n",
      "Configuration 2: Accuracy = 0.7275\n",
      "Training configuration 3/3: [(3, 32, 64, (1, 5, 1)), (64, 128, 128, (1, 5, 1)), (128, 256, 256, (1, 3, 1))]\n",
      "Epoch 1\n"
     ]
    },
    {
     "name": "stderr",
     "output_type": "stream",
     "text": [
      "\n",
      "raining: 100%|███████████████████████████████████████████████████████████████████████████████████████████████████████████████████████████████████████| 391/391 [00:20<00:00, 19.49it/s]"
     ]
    },
    {
     "name": "stdout",
     "output_type": "stream",
     "text": [
      "Correct: 4609, Total: 10000, Accuracy: 0.46\n",
      "Accuracy: 46.089999999999996% (0.4609)\n",
      "Loss: 1.9864752731825177\n",
      "Epoch 2\n"
     ]
    },
    {
     "name": "stderr",
     "output_type": "stream",
     "text": [
      "\n",
      "raining: 100%|███████████████████████████████████████████████████████████████████████████████████████████████████████████████████████████████████████| 391/391 [00:19<00:00, 19.63it/s]"
     ]
    },
    {
     "name": "stdout",
     "output_type": "stream",
     "text": [
      "Correct: 5419, Total: 10000, Accuracy: 0.54\n",
      "Accuracy: 54.190000000000005% (0.5419)\n",
      "Loss: 1.8944731323342574\n",
      "Epoch 3\n"
     ]
    },
    {
     "name": "stderr",
     "output_type": "stream",
     "text": [
      "\n",
      "raining: 100%|███████████████████████████████████████████████████████████████████████████████████████████████████████████████████████████████████████| 391/391 [00:19<00:00, 19.64it/s]"
     ]
    },
    {
     "name": "stdout",
     "output_type": "stream",
     "text": [
      "Correct: 5844, Total: 10000, Accuracy: 0.58\n",
      "Accuracy: 58.440000000000005% (0.5844)\n",
      "Loss: 1.8572318491182829\n",
      "Epoch 4\n"
     ]
    },
    {
     "name": "stderr",
     "output_type": "stream",
     "text": [
      "\n",
      "raining: 100%|███████████████████████████████████████████████████████████████████████████████████████████████████████████████████████████████████████| 391/391 [00:19<00:00, 19.78it/s]"
     ]
    },
    {
     "name": "stdout",
     "output_type": "stream",
     "text": [
      "Correct: 6366, Total: 10000, Accuracy: 0.64\n",
      "Accuracy: 63.660000000000004% (0.6366)\n",
      "Loss: 1.819581521184821\n",
      "Epoch 5\n"
     ]
    },
    {
     "name": "stderr",
     "output_type": "stream",
     "text": [
      "\n",
      "raining: 100%|███████████████████████████████████████████████████████████████████████████████████████████████████████████████████████████████████████| 391/391 [00:19<00:00, 19.74it/s]"
     ]
    },
    {
     "name": "stdout",
     "output_type": "stream",
     "text": [
      "Correct: 6649, Total: 10000, Accuracy: 0.66\n",
      "Accuracy: 66.49000000000001% (0.6649)\n",
      "Loss: 1.7795266163976569\n",
      "Epoch 6\n"
     ]
    },
    {
     "name": "stderr",
     "output_type": "stream",
     "text": [
      "\n",
      "raining: 100%|███████████████████████████████████████████████████████████████████████████████████████████████████████████████████████████████████████| 391/391 [00:19<00:00, 19.58it/s]"
     ]
    },
    {
     "name": "stdout",
     "output_type": "stream",
     "text": [
      "Correct: 7117, Total: 10000, Accuracy: 0.71\n",
      "Accuracy: 71.17% (0.7117)\n",
      "Loss: 1.7239930692471956\n",
      "Epoch 7\n"
     ]
    },
    {
     "name": "stderr",
     "output_type": "stream",
     "text": [
      "\n",
      "raining: 100%|███████████████████████████████████████████████████████████████████████████████████████████████████████████████████████████████████████| 391/391 [00:20<00:00, 19.53it/s]"
     ]
    },
    {
     "name": "stdout",
     "output_type": "stream",
     "text": [
      "Correct: 7329, Total: 10000, Accuracy: 0.73\n",
      "Accuracy: 73.29% (0.7329)\n",
      "Loss: 1.702427299399125\n",
      "Epoch 8\n"
     ]
    },
    {
     "name": "stderr",
     "output_type": "stream",
     "text": [
      "\n",
      "raining: 100%|███████████████████████████████████████████████████████████████████████████████████████████████████████████████████████████████████████| 391/391 [00:19<00:00, 19.67it/s]"
     ]
    },
    {
     "name": "stdout",
     "output_type": "stream",
     "text": [
      "Correct: 7318, Total: 10000, Accuracy: 0.73\n",
      "Accuracy: 73.18% (0.7318)\n",
      "Loss: 1.6870370601352893\n",
      "Epoch 9\n"
     ]
    },
    {
     "name": "stderr",
     "output_type": "stream",
     "text": [
      "\n",
      "raining: 100%|███████████████████████████████████████████████████████████████████████████████████████████████████████████████████████████████████████| 391/391 [00:19<00:00, 19.62it/s]"
     ]
    },
    {
     "name": "stdout",
     "output_type": "stream",
     "text": [
      "Correct: 7534, Total: 10000, Accuracy: 0.75\n",
      "Accuracy: 75.33999999999999% (0.7534)\n",
      "Loss: 1.6606261855677555\n",
      "Epoch 10\n"
     ]
    },
    {
     "name": "stderr",
     "output_type": "stream",
     "text": [
      "\n",
      "raining: 100%|███████████████████████████████████████████████████████████████████████████████████████████████████████████████████████████████████████| 391/391 [00:19<00:00, 19.72it/s]"
     ]
    },
    {
     "name": "stdout",
     "output_type": "stream",
     "text": [
      "Correct: 7605, Total: 10000, Accuracy: 0.76\n",
      "Accuracy: 76.05% (0.7605)\n",
      "Loss: 1.6524344180759631\n",
      "Epoch 11\n"
     ]
    },
    {
     "name": "stderr",
     "output_type": "stream",
     "text": [
      "\n",
      "raining: 100%|███████████████████████████████████████████████████████████████████████████████████████████████████████████████████████████████████████| 391/391 [00:20<00:00, 19.53it/s]"
     ]
    },
    {
     "name": "stdout",
     "output_type": "stream",
     "text": [
      "Correct: 7624, Total: 10000, Accuracy: 0.76\n",
      "Accuracy: 76.24% (0.7624)\n",
      "Loss: 1.6355585612748798\n",
      "Epoch 12\n"
     ]
    },
    {
     "name": "stderr",
     "output_type": "stream",
     "text": [
      "\n",
      "raining: 100%|███████████████████████████████████████████████████████████████████████████████████████████████████████████████████████████████████████| 391/391 [00:19<00:00, 19.63it/s]"
     ]
    },
    {
     "name": "stdout",
     "output_type": "stream",
     "text": [
      "Correct: 7716, Total: 10000, Accuracy: 0.77\n",
      "Accuracy: 77.16% (0.7716)\n",
      "Loss: 1.6221645631288226\n",
      "Epoch 13\n"
     ]
    },
    {
     "name": "stderr",
     "output_type": "stream",
     "text": [
      "\n",
      "raining: 100%|███████████████████████████████████████████████████████████████████████████████████████████████████████████████████████████████████████| 391/391 [00:19<00:00, 19.65it/s]"
     ]
    },
    {
     "name": "stdout",
     "output_type": "stream",
     "text": [
      "Correct: 7784, Total: 10000, Accuracy: 0.78\n",
      "Accuracy: 77.84% (0.7784)\n",
      "Loss: 1.600508633412813\n",
      "Epoch 14\n"
     ]
    },
    {
     "name": "stderr",
     "output_type": "stream",
     "text": [
      "\n",
      "raining: 100%|███████████████████████████████████████████████████████████████████████████████████████████████████████████████████████████████████████| 391/391 [00:19<00:00, 19.55it/s]"
     ]
    },
    {
     "name": "stdout",
     "output_type": "stream",
     "text": [
      "Correct: 7807, Total: 10000, Accuracy: 0.78\n",
      "Accuracy: 78.07% (0.7807)\n",
      "Loss: 1.6069435571369373\n",
      "Epoch 15\n"
     ]
    },
    {
     "name": "stderr",
     "output_type": "stream",
     "text": [
      "\n",
      "raining: 100%|███████████████████████████████████████████████████████████████████████████████████████████████████████████████████████████████████████| 391/391 [00:19<00:00, 19.58it/s]"
     ]
    },
    {
     "name": "stdout",
     "output_type": "stream",
     "text": [
      "Correct: 7841, Total: 10000, Accuracy: 0.78\n",
      "Accuracy: 78.41% (0.7841)\n",
      "Loss: 1.5819744875556545\n",
      "Configuration 3: Accuracy = 0.7859\n",
      "0.7859\n",
      "[(3, 32, 64, (1, 5, 1)), (64, 128, 128, (1, 5, 1)), (128, 256, 256, (1, 3, 1))]\n"
     ]
    }
   ],
   "source": [
    "#testing different configurations to find the best model\n",
    "model_configs = [\n",
    "    [(3, 16, 32, (1, 3, 1)), (32, 32, 32, (1, 3, 1)), (32, 64, 64, (1, 5, 1))],  # Default config\n",
    "    [(3, 8, 16, (1, 3, 1)), (16, 16, 32, (1, 3, 1)), (32, 64, 64, (1, 3, 1))],   # Smaller bottlenecks\n",
    "    [(3, 32, 64, (1, 5, 1)), (64, 128, 128, (1, 5, 1)), (128, 256, 256, (1, 3, 1))], # Larger bottlenecks\n",
    "]\n",
    "best_accuracy = 0\n",
    "best_config = None\n",
    "for idx, bottleneck_config in enumerate(model_configs):\n",
    "    print(f\"Training configuration {idx + 1}/{len(model_configs)}: {bottleneck_config}\")\n",
    "    conv_model = BottleneckModel(in_ch=3, num_classes=10, bottleneck_configs=bottleneck_config).to(device)\n",
    "    if device.type == \"cuda\":\n",
    "        conv_model = conv_model.to('cuda')\n",
    "    opt = torch.optim.Adam(conv_model.parameters(), lr=0.001)\n",
    "    criterion = nn.CrossEntropyLoss()\n",
    "    BATCH_SIZE = 128\n",
    "\n",
    "    timestamp = datetime.now().strftime('%Y%m%d_%H%M%S')\n",
    "    writer = SummaryWriter('runs/bottleneck_trainer_{}_{}'.format(idx, timestamp))\n",
    "\n",
    "    acc = 0\n",
    "    for epoch in range(epochs):\n",
    "        print(f\"Epoch {epoch+1}\")\n",
    "        avg_loss = fit_one_cycle(conv_model, train_loader, opt, epoch, writer, device, flatten=False)\n",
    "        acc = prediction_accuracy(conv_model, test_loader, device, flatten=False)\n",
    "        print(f\"Accuracy: {acc * 100}% ({acc})\\nLoss: {avg_loss}\")\n",
    "    # Evaluate the model\n",
    "    conv_model.eval()\n",
    "    correct = 0\n",
    "    total = 0\n",
    "    with torch.no_grad():\n",
    "        for inputs, targets in test_loader:\n",
    "            inputs, targets = inputs.to(device), targets.to(device)\n",
    "            outputs = conv_model(inputs)\n",
    "            _, predicted = torch.max(outputs, 1)\n",
    "            total += targets.size(0)\n",
    "            correct += (predicted == targets).sum().item()\n",
    "    \n",
    "    accuracy = correct / total\n",
    "    print(f\"Configuration {idx + 1}: Accuracy = {accuracy:.4f}\")\n",
    "    \n",
    "    if accuracy > best_accuracy:\n",
    "        best_accuracy = accuracy\n",
    "        best_config = bottleneck_config\n",
    "\n",
    "print(\"\\nBest Configuration:\", best_config)\n",
    "print(\"Best Accuracy:\", best_accuracy)\n",
    "    "
   ]
  },
  {
   "cell_type": "code",
   "execution_count": 9,
   "id": "b809c060-426f-485d-a7b4-4228d2cfb2f7",
   "metadata": {},
   "outputs": [
    {
     "name": "stdout",
     "output_type": "stream",
     "text": [
      "Epoch 1\n"
     ]
    },
    {
     "name": "stderr",
     "output_type": "stream",
     "text": [
      "\n",
      "raining: 100%|███████████████████████████████| 391/391 [00:19<00:00, 19.69it/s]"
     ]
    },
    {
     "name": "stdout",
     "output_type": "stream",
     "text": [
      "Correct: 4497, Total: 10000, Accuracy: 0.45\n",
      "Accuracy: 44.97% (0.4497)\n",
      "Loss: 1.980734856505143\n"
     ]
    },
    {
     "name": "stderr",
     "output_type": "stream",
     "text": [
      "\n",
      "alidation: 100%|███████████████████████████████| 79/79 [00:01<00:00, 67.47it/s]"
     ]
    },
    {
     "name": "stdout",
     "output_type": "stream",
     "text": [
      "LOSS train 1.980734856505143 valid 1.9802916049957275\n",
      "Saving model\n",
      "Epoch 2\n"
     ]
    },
    {
     "name": "stderr",
     "output_type": "stream",
     "text": [
      "\n",
      "raining: 100%|███████████████████████████████| 391/391 [00:19<00:00, 19.70it/s]"
     ]
    },
    {
     "name": "stdout",
     "output_type": "stream",
     "text": [
      "Correct: 5772, Total: 10000, Accuracy: 0.58\n",
      "Accuracy: 57.720000000000006% (0.5772)\n",
      "Loss: 1.8886623131601434\n"
     ]
    },
    {
     "name": "stderr",
     "output_type": "stream",
     "text": [
      "\n",
      "alidation: 100%|███████████████████████████████| 79/79 [00:01<00:00, 67.58it/s]"
     ]
    },
    {
     "name": "stdout",
     "output_type": "stream",
     "text": [
      "LOSS train 1.8886623131601434 valid 1.858139991760254\n",
      "Saving model\n",
      "Epoch 3\n"
     ]
    },
    {
     "name": "stderr",
     "output_type": "stream",
     "text": [
      "\n",
      "raining: 100%|███████████████████████████████| 391/391 [00:19<00:00, 19.66it/s]"
     ]
    },
    {
     "name": "stdout",
     "output_type": "stream",
     "text": [
      "Correct: 6275, Total: 10000, Accuracy: 0.63\n",
      "Accuracy: 62.74999999999999% (0.6275)\n",
      "Loss: 1.8301003104762028\n"
     ]
    },
    {
     "name": "stderr",
     "output_type": "stream",
     "text": [
      "\n",
      "alidation: 100%|███████████████████████████████| 79/79 [00:01<00:00, 62.19it/s]"
     ]
    },
    {
     "name": "stdout",
     "output_type": "stream",
     "text": [
      "LOSS train 1.8301003104762028 valid 1.804755449295044\n",
      "Saving model\n",
      "Epoch 4\n"
     ]
    },
    {
     "name": "stderr",
     "output_type": "stream",
     "text": [
      "\n",
      "raining: 100%|███████████████████████████████| 391/391 [00:19<00:00, 19.60it/s]"
     ]
    },
    {
     "name": "stdout",
     "output_type": "stream",
     "text": [
      "Correct: 6755, Total: 10000, Accuracy: 0.68\n",
      "Accuracy: 67.55% (0.6755)\n",
      "Loss: 1.7826836673836959\n"
     ]
    },
    {
     "name": "stderr",
     "output_type": "stream",
     "text": [
      "\n",
      "alidation: 100%|███████████████████████████████| 79/79 [00:01<00:00, 67.27it/s]"
     ]
    },
    {
     "name": "stdout",
     "output_type": "stream",
     "text": [
      "LOSS train 1.7826836673836959 valid 1.762000322341919\n",
      "Saving model\n",
      "Epoch 5\n"
     ]
    },
    {
     "name": "stderr",
     "output_type": "stream",
     "text": [
      "\n",
      "raining: 100%|███████████████████████████████| 391/391 [00:20<00:00, 19.52it/s]"
     ]
    },
    {
     "name": "stdout",
     "output_type": "stream",
     "text": [
      "Correct: 6881, Total: 10000, Accuracy: 0.69\n",
      "Accuracy: 68.81% (0.6881)\n",
      "Loss: 1.7542148263830888\n"
     ]
    },
    {
     "name": "stderr",
     "output_type": "stream",
     "text": [
      "\n",
      "alidation: 100%|███████████████████████████████| 79/79 [00:01<00:00, 66.08it/s]"
     ]
    },
    {
     "name": "stdout",
     "output_type": "stream",
     "text": [
      "LOSS train 1.7542148263830888 valid 1.7474130392074585\n",
      "Saving model\n",
      "Epoch 6\n"
     ]
    },
    {
     "name": "stderr",
     "output_type": "stream",
     "text": [
      "\n",
      "raining: 100%|███████████████████████████████| 391/391 [00:19<00:00, 19.60it/s]"
     ]
    },
    {
     "name": "stdout",
     "output_type": "stream",
     "text": [
      "Correct: 7269, Total: 10000, Accuracy: 0.73\n",
      "Accuracy: 72.69% (0.7269)\n",
      "Loss: 1.7149492313987331\n"
     ]
    },
    {
     "name": "stderr",
     "output_type": "stream",
     "text": [
      "\n",
      "alidation: 100%|███████████████████████████████| 79/79 [00:01<00:00, 62.12it/s]"
     ]
    },
    {
     "name": "stdout",
     "output_type": "stream",
     "text": [
      "LOSS train 1.7149492313987331 valid 1.710152506828308\n",
      "Saving model\n",
      "Epoch 7\n"
     ]
    },
    {
     "name": "stderr",
     "output_type": "stream",
     "text": [
      "\n",
      "raining: 100%|███████████████████████████████| 391/391 [00:19<00:00, 19.61it/s]"
     ]
    },
    {
     "name": "stdout",
     "output_type": "stream",
     "text": [
      "Correct: 7365, Total: 10000, Accuracy: 0.74\n",
      "Accuracy: 73.65% (0.7365)\n",
      "Loss: 1.698037630633304\n"
     ]
    },
    {
     "name": "stderr",
     "output_type": "stream",
     "text": [
      "\n",
      "alidation: 100%|███████████████████████████████| 79/79 [00:01<00:00, 67.55it/s]"
     ]
    },
    {
     "name": "stdout",
     "output_type": "stream",
     "text": [
      "LOSS train 1.698037630633304 valid 1.700393557548523\n",
      "Saving model\n",
      "Epoch 8\n"
     ]
    },
    {
     "name": "stderr",
     "output_type": "stream",
     "text": [
      "\n",
      "raining: 100%|███████████████████████████████| 391/391 [00:19<00:00, 19.62it/s]"
     ]
    },
    {
     "name": "stdout",
     "output_type": "stream",
     "text": [
      "Correct: 7414, Total: 10000, Accuracy: 0.74\n",
      "Accuracy: 74.14% (0.7414)\n",
      "Loss: 1.6642827862187435\n"
     ]
    },
    {
     "name": "stderr",
     "output_type": "stream",
     "text": [
      "\n",
      "alidation: 100%|███████████████████████████████| 79/79 [00:01<00:00, 67.49it/s]"
     ]
    },
    {
     "name": "stdout",
     "output_type": "stream",
     "text": [
      "LOSS train 1.6642827862187435 valid 1.6943657398223877\n",
      "Saving model\n",
      "Epoch 9\n"
     ]
    },
    {
     "name": "stderr",
     "output_type": "stream",
     "text": [
      "\n",
      "raining: 100%|███████████████████████████████| 391/391 [00:19<00:00, 19.70it/s]"
     ]
    },
    {
     "name": "stdout",
     "output_type": "stream",
     "text": [
      "Correct: 7557, Total: 10000, Accuracy: 0.76\n",
      "Accuracy: 75.57000000000001% (0.7557)\n",
      "Loss: 1.6579757050464028\n"
     ]
    },
    {
     "name": "stderr",
     "output_type": "stream",
     "text": [
      "\n",
      "alidation: 100%|███████████████████████████████| 79/79 [00:01<00:00, 65.77it/s]"
     ]
    },
    {
     "name": "stdout",
     "output_type": "stream",
     "text": [
      "LOSS train 1.6579757050464028 valid 1.6817187070846558\n",
      "Saving model\n",
      "Epoch 10\n"
     ]
    },
    {
     "name": "stderr",
     "output_type": "stream",
     "text": [
      "\n",
      "raining: 100%|███████████████████████████████| 391/391 [00:19<00:00, 19.63it/s]"
     ]
    },
    {
     "name": "stdout",
     "output_type": "stream",
     "text": [
      "Correct: 7635, Total: 10000, Accuracy: 0.76\n",
      "Accuracy: 76.35% (0.7635)\n",
      "Loss: 1.6553136925948293\n"
     ]
    },
    {
     "name": "stderr",
     "output_type": "stream",
     "text": [
      "\n",
      "alidation: 100%|███████████████████████████████| 79/79 [00:01<00:00, 67.56it/s]"
     ]
    },
    {
     "name": "stdout",
     "output_type": "stream",
     "text": [
      "LOSS train 1.6553136925948293 valid 1.6759775876998901\n",
      "Saving model\n",
      "Epoch 11\n"
     ]
    },
    {
     "name": "stderr",
     "output_type": "stream",
     "text": [
      "\n",
      "raining: 100%|███████████████████████████████| 391/391 [00:19<00:00, 19.66it/s]"
     ]
    },
    {
     "name": "stdout",
     "output_type": "stream",
     "text": [
      "Correct: 7690, Total: 10000, Accuracy: 0.77\n",
      "Accuracy: 76.9% (0.769)\n",
      "Loss: 1.6166230126431114\n"
     ]
    },
    {
     "name": "stderr",
     "output_type": "stream",
     "text": [
      "\n",
      "alidation: 100%|███████████████████████████████| 79/79 [00:01<00:00, 67.49it/s]"
     ]
    },
    {
     "name": "stdout",
     "output_type": "stream",
     "text": [
      "LOSS train 1.6166230126431114 valid 1.669555902481079\n",
      "Saving model\n",
      "Epoch 12\n"
     ]
    },
    {
     "name": "stderr",
     "output_type": "stream",
     "text": [
      "\n",
      "raining: 100%|███████████████████████████████| 391/391 [00:19<00:00, 19.67it/s]"
     ]
    },
    {
     "name": "stdout",
     "output_type": "stream",
     "text": [
      "Correct: 7695, Total: 10000, Accuracy: 0.77\n",
      "Accuracy: 76.95% (0.7695)\n",
      "Loss: 1.6058406014191478\n"
     ]
    },
    {
     "name": "stderr",
     "output_type": "stream",
     "text": [
      "\n",
      "alidation: 100%|███████████████████████████████| 79/79 [00:01<00:00, 67.59it/s]"
     ]
    },
    {
     "name": "stdout",
     "output_type": "stream",
     "text": [
      "LOSS train 1.6058406014191478 valid 1.6681721210479736\n",
      "Saving model\n",
      "Epoch 13\n"
     ]
    },
    {
     "name": "stderr",
     "output_type": "stream",
     "text": [
      "\n",
      "raining: 100%|███████████████████████████████| 391/391 [00:19<00:00, 19.68it/s]"
     ]
    },
    {
     "name": "stdout",
     "output_type": "stream",
     "text": [
      "Correct: 7730, Total: 10000, Accuracy: 0.77\n",
      "Accuracy: 77.3% (0.773)\n",
      "Loss: 1.5957114194568836\n"
     ]
    },
    {
     "name": "stderr",
     "output_type": "stream",
     "text": [
      "\n",
      "alidation: 100%|███████████████████████████████| 79/79 [00:01<00:00, 67.54it/s]"
     ]
    },
    {
     "name": "stdout",
     "output_type": "stream",
     "text": [
      "LOSS train 1.5957114194568836 valid 1.667440414428711\n",
      "Saving model\n",
      "Epoch 14\n"
     ]
    },
    {
     "name": "stderr",
     "output_type": "stream",
     "text": [
      "\n",
      "raining: 100%|███████████████████████████████| 391/391 [00:19<00:00, 19.63it/s]"
     ]
    },
    {
     "name": "stdout",
     "output_type": "stream",
     "text": [
      "Correct: 7833, Total: 10000, Accuracy: 0.78\n",
      "Accuracy: 78.33% (0.7833)\n",
      "Loss: 1.5952337541078265\n"
     ]
    },
    {
     "name": "stderr",
     "output_type": "stream",
     "text": [
      "\n",
      "alidation: 100%|███████████████████████████████| 79/79 [00:01<00:00, 67.55it/s]"
     ]
    },
    {
     "name": "stdout",
     "output_type": "stream",
     "text": [
      "LOSS train 1.5952337541078265 valid 1.6545137166976929\n",
      "Saving model\n",
      "Epoch 15\n"
     ]
    },
    {
     "name": "stderr",
     "output_type": "stream",
     "text": [
      "\n",
      "raining: 100%|███████████████████████████████| 391/391 [00:19<00:00, 19.69it/s]"
     ]
    },
    {
     "name": "stdout",
     "output_type": "stream",
     "text": [
      "Correct: 7855, Total: 10000, Accuracy: 0.79\n",
      "Accuracy: 78.55% (0.7855)\n",
      "Loss: 1.5661278210188214\n"
     ]
    },
    {
     "name": "stderr",
     "output_type": "stream",
     "text": [
      "\n",
      "alidation: 100%|███████████████████████████████| 79/79 [00:01<00:00, 66.80it/s]"
     ]
    },
    {
     "name": "stdout",
     "output_type": "stream",
     "text": [
      "LOSS train 1.5661278210188214 valid 1.6527079343795776\n",
      "Saving model\n",
      "Epoch 16\n"
     ]
    },
    {
     "name": "stderr",
     "output_type": "stream",
     "text": [
      "\n",
      "raining: 100%|███████████████████████████████| 391/391 [00:19<00:00, 19.66it/s]"
     ]
    },
    {
     "name": "stdout",
     "output_type": "stream",
     "text": [
      "Correct: 7901, Total: 10000, Accuracy: 0.79\n",
      "Accuracy: 79.01% (0.7901)\n",
      "Loss: 1.5763768647846423\n"
     ]
    },
    {
     "name": "stderr",
     "output_type": "stream",
     "text": [
      "\n",
      "alidation: 100%|███████████████████████████████| 79/79 [00:01<00:00, 67.54it/s]"
     ]
    },
    {
     "name": "stdout",
     "output_type": "stream",
     "text": [
      "LOSS train 1.5763768647846423 valid 1.6465027332305908\n",
      "Epoch 17\n"
     ]
    },
    {
     "name": "stderr",
     "output_type": "stream",
     "text": [
      "\n",
      "raining: 100%|███████████████████████████████| 391/391 [00:19<00:00, 19.66it/s]"
     ]
    },
    {
     "name": "stdout",
     "output_type": "stream",
     "text": [
      "Correct: 7883, Total: 10000, Accuracy: 0.79\n",
      "Accuracy: 78.83% (0.7883)\n",
      "Loss: 1.5553231929477893\n"
     ]
    },
    {
     "name": "stderr",
     "output_type": "stream",
     "text": [
      "\n",
      "alidation: 100%|███████████████████████████████| 79/79 [00:01<00:00, 67.55it/s]"
     ]
    },
    {
     "name": "stdout",
     "output_type": "stream",
     "text": [
      "LOSS train 1.5553231929477893 valid 1.6457146406173706\n",
      "Saving model\n",
      "Epoch 18\n"
     ]
    },
    {
     "name": "stderr",
     "output_type": "stream",
     "text": [
      "\n",
      "raining: 100%|███████████████████████████████| 391/391 [00:19<00:00, 19.68it/s]"
     ]
    },
    {
     "name": "stdout",
     "output_type": "stream",
     "text": [
      "Correct: 7897, Total: 10000, Accuracy: 0.79\n",
      "Accuracy: 78.97% (0.7897)\n",
      "Loss: 1.549223410455804\n"
     ]
    },
    {
     "name": "stderr",
     "output_type": "stream",
     "text": [
      "\n",
      "alidation: 100%|███████████████████████████████| 79/79 [00:01<00:00, 67.22it/s]"
     ]
    },
    {
     "name": "stdout",
     "output_type": "stream",
     "text": [
      "LOSS train 1.549223410455804 valid 1.645715355873108\n",
      "Saving model\n",
      "Epoch 19\n"
     ]
    },
    {
     "name": "stderr",
     "output_type": "stream",
     "text": [
      "\n",
      "raining: 100%|███████████████████████████████| 391/391 [00:19<00:00, 19.68it/s]"
     ]
    },
    {
     "name": "stdout",
     "output_type": "stream",
     "text": [
      "Correct: 7886, Total: 10000, Accuracy: 0.79\n",
      "Accuracy: 78.86% (0.7886)\n",
      "Loss: 1.5406474941655208\n"
     ]
    },
    {
     "name": "stderr",
     "output_type": "stream",
     "text": [
      "\n",
      "alidation: 100%|███████████████████████████████| 79/79 [00:01<00:00, 67.05it/s]"
     ]
    },
    {
     "name": "stdout",
     "output_type": "stream",
     "text": [
      "LOSS train 1.5406474941655208 valid 1.6466913223266602\n",
      "Saving model\n",
      "Epoch 20\n"
     ]
    },
    {
     "name": "stderr",
     "output_type": "stream",
     "text": [
      "\n",
      "raining: 100%|███████████████████████████████| 391/391 [00:19<00:00, 19.61it/s]"
     ]
    },
    {
     "name": "stdout",
     "output_type": "stream",
     "text": [
      "Correct: 7913, Total: 10000, Accuracy: 0.79\n",
      "Accuracy: 79.13% (0.7913)\n",
      "Loss: 1.5425746503629183\n"
     ]
    },
    {
     "name": "stderr",
     "output_type": "stream",
     "text": [
      "\n",
      "alidation: 100%|███████████████████████████████| 79/79 [00:01<00:00, 64.56it/s]"
     ]
    },
    {
     "name": "stdout",
     "output_type": "stream",
     "text": [
      "LOSS train 1.5425746503629183 valid 1.6435054540634155\n",
      "Epoch 21\n"
     ]
    },
    {
     "name": "stderr",
     "output_type": "stream",
     "text": [
      "\n",
      "raining: 100%|███████████████████████████████| 391/391 [00:19<00:00, 19.62it/s]"
     ]
    },
    {
     "name": "stdout",
     "output_type": "stream",
     "text": [
      "Correct: 7920, Total: 10000, Accuracy: 0.79\n",
      "Accuracy: 79.2% (0.792)\n",
      "Loss: 1.5358954856270237\n"
     ]
    },
    {
     "name": "stderr",
     "output_type": "stream",
     "text": [
      "\n",
      "alidation: 100%|███████████████████████████████| 79/79 [00:01<00:00, 67.55it/s]"
     ]
    },
    {
     "name": "stdout",
     "output_type": "stream",
     "text": [
      "LOSS train 1.5358954856270237 valid 1.64427649974823\n",
      "Saving model\n",
      "Epoch 22\n"
     ]
    },
    {
     "name": "stderr",
     "output_type": "stream",
     "text": [
      "\n",
      "raining: 100%|███████████████████████████████| 391/391 [00:19<00:00, 19.65it/s]"
     ]
    },
    {
     "name": "stdout",
     "output_type": "stream",
     "text": [
      "Correct: 7912, Total: 10000, Accuracy: 0.79\n",
      "Accuracy: 79.12% (0.7912)\n",
      "Loss: 1.5414926692059165\n"
     ]
    },
    {
     "name": "stderr",
     "output_type": "stream",
     "text": [
      "\n",
      "alidation: 100%|███████████████████████████████| 79/79 [00:01<00:00, 67.54it/s]"
     ]
    },
    {
     "name": "stdout",
     "output_type": "stream",
     "text": [
      "LOSS train 1.5414926692059165 valid 1.6450449228286743\n",
      "Epoch 23\n"
     ]
    },
    {
     "name": "stderr",
     "output_type": "stream",
     "text": [
      "\n",
      "raining: 100%|███████████████████████████████| 391/391 [00:19<00:00, 19.62it/s]"
     ]
    },
    {
     "name": "stdout",
     "output_type": "stream",
     "text": [
      "Correct: 8042, Total: 10000, Accuracy: 0.80\n",
      "Accuracy: 80.42% (0.8042)\n",
      "Loss: 1.5267079943104793\n"
     ]
    },
    {
     "name": "stderr",
     "output_type": "stream",
     "text": [
      "\n",
      "alidation: 100%|███████████████████████████████| 79/79 [00:01<00:00, 63.29it/s]"
     ]
    },
    {
     "name": "stdout",
     "output_type": "stream",
     "text": [
      "LOSS train 1.5267079943104793 valid 1.6344832181930542\n",
      "Saving model\n",
      "Epoch 24\n"
     ]
    },
    {
     "name": "stderr",
     "output_type": "stream",
     "text": [
      "\n",
      "raining: 100%|███████████████████████████████| 391/391 [00:19<00:00, 19.69it/s]"
     ]
    },
    {
     "name": "stdout",
     "output_type": "stream",
     "text": [
      "Correct: 7971, Total: 10000, Accuracy: 0.80\n",
      "Accuracy: 79.71000000000001% (0.7971)\n",
      "Loss: 1.5301840430811833\n"
     ]
    },
    {
     "name": "stderr",
     "output_type": "stream",
     "text": [
      "\n",
      "alidation: 100%|███████████████████████████████| 79/79 [00:01<00:00, 63.35it/s]"
     ]
    },
    {
     "name": "stdout",
     "output_type": "stream",
     "text": [
      "LOSS train 1.5301840430811833 valid 1.642051100730896\n",
      "Epoch 25\n"
     ]
    },
    {
     "name": "stderr",
     "output_type": "stream",
     "text": [
      "\n",
      "raining: 100%|███████████████████████████████| 391/391 [00:19<00:00, 19.70it/s]"
     ]
    },
    {
     "name": "stdout",
     "output_type": "stream",
     "text": [
      "Correct: 7986, Total: 10000, Accuracy: 0.80\n",
      "Accuracy: 79.86% (0.7986)\n",
      "Loss: 1.5274562961176823\n"
     ]
    },
    {
     "name": "stderr",
     "output_type": "stream",
     "text": [
      "\n",
      "alidation: 100%|███████████████████████████████| 79/79 [00:01<00:00, 67.52it/s]"
     ]
    },
    {
     "name": "stdout",
     "output_type": "stream",
     "text": [
      "LOSS train 1.5274562961176823 valid 1.6383646726608276\n",
      "Epoch 26\n"
     ]
    },
    {
     "name": "stderr",
     "output_type": "stream",
     "text": [
      "\n",
      "raining: 100%|███████████████████████████████| 391/391 [00:19<00:00, 19.71it/s]"
     ]
    },
    {
     "name": "stdout",
     "output_type": "stream",
     "text": [
      "Correct: 7946, Total: 10000, Accuracy: 0.79\n",
      "Accuracy: 79.46% (0.7946)\n",
      "Loss: 1.5295176819751137\n"
     ]
    },
    {
     "name": "stderr",
     "output_type": "stream",
     "text": [
      "\n",
      "alidation: 100%|███████████████████████████████| 79/79 [00:01<00:00, 67.31it/s]"
     ]
    },
    {
     "name": "stdout",
     "output_type": "stream",
     "text": [
      "LOSS train 1.5295176819751137 valid 1.6413334608078003\n",
      "Epoch 27\n"
     ]
    },
    {
     "name": "stderr",
     "output_type": "stream",
     "text": [
      "\n",
      "raining: 100%|███████████████████████████████| 391/391 [00:19<00:00, 19.65it/s]"
     ]
    },
    {
     "name": "stdout",
     "output_type": "stream",
     "text": [
      "Correct: 7884, Total: 10000, Accuracy: 0.79\n",
      "Accuracy: 78.84% (0.7884)\n",
      "Loss: 1.524582498951962\n"
     ]
    },
    {
     "name": "stderr",
     "output_type": "stream",
     "text": [
      "\n",
      "alidation: 100%|███████████████████████████████| 79/79 [00:01<00:00, 66.94it/s]"
     ]
    },
    {
     "name": "stdout",
     "output_type": "stream",
     "text": [
      "LOSS train 1.524582498951962 valid 1.6449650526046753\n",
      "Saving model\n",
      "Epoch 28\n"
     ]
    },
    {
     "name": "stderr",
     "output_type": "stream",
     "text": [
      "\n",
      "raining: 100%|███████████████████████████████| 391/391 [00:19<00:00, 19.67it/s]"
     ]
    },
    {
     "name": "stdout",
     "output_type": "stream",
     "text": [
      "Correct: 8016, Total: 10000, Accuracy: 0.80\n",
      "Accuracy: 80.16% (0.8016)\n",
      "Loss: 1.50870554698141\n"
     ]
    },
    {
     "name": "stderr",
     "output_type": "stream",
     "text": [
      "\n",
      "alidation: 100%|███████████████████████████████| 79/79 [00:01<00:00, 65.18it/s]"
     ]
    },
    {
     "name": "stdout",
     "output_type": "stream",
     "text": [
      "LOSS train 1.50870554698141 valid 1.6373227834701538\n",
      "Saving model\n",
      "Epoch 29\n"
     ]
    },
    {
     "name": "stderr",
     "output_type": "stream",
     "text": [
      "\n",
      "raining: 100%|███████████████████████████████| 391/391 [00:19<00:00, 19.69it/s]"
     ]
    },
    {
     "name": "stdout",
     "output_type": "stream",
     "text": [
      "Correct: 8020, Total: 10000, Accuracy: 0.80\n",
      "Accuracy: 80.2% (0.802)\n",
      "Loss: 1.5210623113732589\n"
     ]
    },
    {
     "name": "stderr",
     "output_type": "stream",
     "text": [
      "\n",
      "alidation: 100%|███████████████████████████████| 79/79 [00:01<00:00, 67.52it/s]"
     ]
    },
    {
     "name": "stdout",
     "output_type": "stream",
     "text": [
      "LOSS train 1.5210623113732589 valid 1.635327935218811\n",
      "Epoch 30\n"
     ]
    },
    {
     "name": "stderr",
     "output_type": "stream",
     "text": [
      "\n",
      "raining: 100%|███████████████████████████████| 391/391 [00:19<00:00, 19.55it/s]"
     ]
    },
    {
     "name": "stdout",
     "output_type": "stream",
     "text": [
      "Correct: 7890, Total: 10000, Accuracy: 0.79\n",
      "Accuracy: 78.9% (0.789)\n",
      "Loss: 1.5108887082652043\n"
     ]
    },
    {
     "name": "stderr",
     "output_type": "stream",
     "text": [
      "Validation: 100%|███████████████████████████████| 79/79 [00:01<00:00, 63.75it/s]"
     ]
    },
    {
     "name": "stdout",
     "output_type": "stream",
     "text": [
      "LOSS train 1.5108887082652043 valid 1.6461321115493774\n"
     ]
    },
    {
     "name": "stderr",
     "output_type": "stream",
     "text": [
      "\n"
     ]
    }
   ],
   "source": [
    "bottleneck_config = [\n",
    "    (3, 32, 64, (1, 5, 1)), \n",
    "    (64, 128, 128, (1, 5, 1)), \n",
    "    (128, 256, 256, (1, 3, 1))\n",
    "]\n",
    "conv_model = BottleneckModel(in_ch=3, num_classes=10, bottleneck_configs=bottleneck_config).to(device)\n",
    "if device.type == \"cuda\":\n",
    "        conv_model = conv_model.to('cuda')\n",
    "opt = torch.optim.Adam(conv_model.parameters(), lr=0.001)\n",
    "criterion = nn.CrossEntropyLoss()\n",
    "BATCH_SIZE = 128\n",
    "epochs = 30\n",
    "\n",
    "timestamp = datetime.now().strftime('%Y%m%d_%H%M%S')\n",
    "writer = SummaryWriter('runs/bottleneck_trainer_validation_{}'.format(timestamp))\n",
    "training_and_validation_loop(conv_model, train_loader, test_loader, epochs, writer, device, opt, timestamp, flatten=False)"
   ]
  },
  {
   "cell_type": "code",
   "execution_count": 18,
   "id": "29f17d70-10e3-4ac1-94d3-26924b6fddfe",
   "metadata": {},
   "outputs": [
    {
     "name": "stdout",
     "output_type": "stream",
     "text": [
      "==========================================================================================\n",
      "Layer (type:depth-idx)                   Output Shape              Param #\n",
      "==========================================================================================\n",
      "BottleneckModel                          [128, 10]                 --\n",
      "├─ModuleList: 1-5                        --                        (recursive)\n",
      "│    └─BottleneckBlock: 2-1              [128, 64, 32, 32]         --\n",
      "│    │    └─Conv2d: 3-1                  [128, 64, 32, 32]         256\n",
      "│    │    └─BatchNormConv2d: 3-2         [128, 32, 32, 32]         192\n",
      "│    │    └─BatchNormConv2d: 3-3         [128, 32, 32, 32]         25,696\n",
      "│    │    └─BatchNormConv2d: 3-4         [128, 64, 32, 32]         2,240\n",
      "├─MaxPool2d: 1-2                         [128, 64, 16, 16]         --\n",
      "├─ModuleList: 1-5                        --                        (recursive)\n",
      "│    └─BottleneckBlock: 2-2              [128, 128, 16, 16]        --\n",
      "│    │    └─Conv2d: 3-5                  [128, 128, 16, 16]        8,320\n",
      "│    │    └─BatchNormConv2d: 3-6         [128, 128, 16, 16]        8,576\n",
      "│    │    └─BatchNormConv2d: 3-7         [128, 128, 16, 16]        409,984\n",
      "│    │    └─BatchNormConv2d: 3-8         [128, 128, 16, 16]        16,768\n",
      "├─MaxPool2d: 1-4                         [128, 128, 8, 8]          --\n",
      "├─ModuleList: 1-5                        --                        (recursive)\n",
      "│    └─BottleneckBlock: 2-3              [128, 256, 8, 8]          --\n",
      "│    │    └─Conv2d: 3-9                  [128, 256, 8, 8]          33,024\n",
      "│    │    └─BatchNormConv2d: 3-10        [128, 256, 8, 8]          33,536\n",
      "│    │    └─BatchNormConv2d: 3-11        [128, 256, 8, 8]          590,592\n",
      "│    │    └─BatchNormConv2d: 3-12        [128, 256, 8, 8]          66,304\n",
      "├─MaxPool2d: 1-6                         [128, 256, 4, 4]          --\n",
      "├─Linear: 1-7                            [128, 10]                 40,970\n",
      "==========================================================================================\n",
      "Total params: 1,236,458\n",
      "Trainable params: 1,236,458\n",
      "Non-trainable params: 0\n",
      "Total mult-adds (Units.GIGABYTES): 24.12\n",
      "==========================================================================================\n",
      "Input size (MB): 1.57\n",
      "Forward/backward pass size (MB): 687.88\n",
      "Params size (MB): 4.95\n",
      "Estimated Total Size (MB): 694.39\n",
      "==========================================================================================\n"
     ]
    }
   ],
   "source": [
    "from torchinfo import summary\n",
    "print(summary(conv_model, (128, 3, 32, 32)))"
   ]
  },
  {
   "cell_type": "code",
   "execution_count": 21,
   "id": "1118fc6a-9c1e-4970-978f-f3dde7558566",
   "metadata": {
    "scrolled": true
   },
   "outputs": [
    {
     "name": "stdout",
     "output_type": "stream",
     "text": [
      "The tensorboard extension is already loaded. To reload it, use:\n",
      "  %reload_ext tensorboard\n"
     ]
    },
    {
     "data": {
      "text/plain": [
       "Reusing TensorBoard on port 6006 (pid 16037), started 1:38:11 ago. (Use '!kill 16037' to kill it.)"
      ]
     },
     "metadata": {},
     "output_type": "display_data"
    },
    {
     "data": {
      "text/html": [
       "\n",
       "      <iframe id=\"tensorboard-frame-35747e35b03b14c\" width=\"100%\" height=\"800\" frameborder=\"0\">\n",
       "      </iframe>\n",
       "      <script>\n",
       "        (function() {\n",
       "          const frame = document.getElementById(\"tensorboard-frame-35747e35b03b14c\");\n",
       "          const url = new URL(\"/\", window.location);\n",
       "          const port = 6006;\n",
       "          if (port) {\n",
       "            url.port = port;\n",
       "          }\n",
       "          frame.src = url;\n",
       "        })();\n",
       "      </script>\n",
       "    "
      ],
      "text/plain": [
       "<IPython.core.display.HTML object>"
      ]
     },
     "metadata": {},
     "output_type": "display_data"
    }
   ],
   "source": [
    "%load_ext tensorboard\n",
    "%tensorboard --logdir runs"
   ]
  },
  {
   "cell_type": "code",
   "execution_count": 20,
   "id": "8220af41-f576-4199-a13e-8fcf096d3a34",
   "metadata": {},
   "outputs": [
    {
     "data": {
      "image/png": "[encoded data removed]",
      "text/plain": [
       "<Figure size 640x480 with 1 Axes>"
      ]
     },
     "metadata": {},
     "output_type": "display_data"
    },
    {
     "name": "stdout",
     "output_type": "stream",
     "text": [
      "True label: 7\n",
      "Predicted class: 7\n",
      "True label name: horse\n",
      "Predicted label name: horse\n"
     ]
    }
   ],
   "source": [
    "def imshow(img):\n",
    "    img = img / 2 + 0.5     # unnormalize\n",
    "    npimg = img.numpy()\n",
    "    plt.imshow(np.transpose(npimg, (1, 2, 0)))\n",
    "    plt.show()\n",
    "image, label = testset[17]\n",
    "imshow(image)\n",
    "\n",
    "image = image.unsqueeze(0).to(device)\n",
    "\n",
    "conv_model = BottleneckModel(in_ch=3, num_classes=10, bottleneck_configs=bottleneck_config).to(device)\n",
    "conv_model.load_state_dict(torch.load('./saved_models/bt/best_test_model', weights_only=True))\n",
    "# Set the model to evaluation mode\n",
    "conv_model.eval()\n",
    "output = conv_model(image)\n",
    "\n",
    "predicted_class = output.argmax(dim=1).item()\n",
    "\n",
    "# Print the result\n",
    "print(f\"True label: {label}\")\n",
    "print(f\"Predicted class: {predicted_class}\")\n",
    "\n",
    "class_labels = [\n",
    "    \"airplane\", \"automobile\", \"bird\", \"cat\", \"deer\",\n",
    "    \"dog\", \"frog\", \"horse\", \"ship\", \"truck\"\n",
    "]\n",
    "print(f\"True label name: {class_labels[label]}\")\n",
    "print(f\"Predicted label name: {class_labels[predicted_class]}\")\n"
   ]
  },
  {
   "cell_type": "code",
   "execution_count": 17,
   "id": "7909fb5f-2c8e-4ef1-9538-4a3f28be8e35",
   "metadata": {},
   "outputs": [
    {
     "data": {
      "image/png": "[encoded data removed]",
      "text/plain": [
       "<Figure size 1500x300 with 10 Axes>"
      ]
     },
     "metadata": {},
     "output_type": "display_data"
    }
   ],
   "source": [
    "class_labels = [\n",
    "    \"airplane\", \"automobile\", \"bird\", \"cat\", \"deer\",\n",
    "    \"dog\", \"frog\", \"horse\", \"ship\", \"truck\"\n",
    "]\n",
    "test_and_display_random_images(conv_model, testset, num_images=10, class_labels=class_labels, device=device)\n"
   ]
  }
 ],
 "metadata": {
  "kernelspec": {
   "display_name": "Python 3 (ipykernel)",
   "language": "python",
   "name": "python3"
  },
  "language_info": {
   "codemirror_mode": {
    "name": "ipython",
    "version": 3
   },
   "file_extension": ".py",
   "mimetype": "text/x-python",
   "name": "python",
   "nbconvert_exporter": "python",
   "pygments_lexer": "ipython3",
   "version": "3.12.7"
  }
 },
 "nbformat": 4,
 "nbformat_minor": 5
}
